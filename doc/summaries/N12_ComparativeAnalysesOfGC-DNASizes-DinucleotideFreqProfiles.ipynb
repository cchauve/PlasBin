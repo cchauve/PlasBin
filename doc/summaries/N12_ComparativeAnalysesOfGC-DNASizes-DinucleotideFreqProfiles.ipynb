{
 "cells": [
  {
   "cell_type": "markdown",
   "metadata": {},
   "source": [
    "# Comparative Analyses of Base Compositions, DNA Sizes and Dinucleotide Frequency Profiles in Archael and Bacterial Chromosomes and Plasmids\n",
    "\n",
    "H. Nishida (2012)\n",
    "\n",
    "Article link: https://www.hindawi.com/journals/ijeb/2012/342482/"
   ]
  },
  {
   "cell_type": "markdown",
   "metadata": {},
   "source": [
    "The paper provides a comparative study of the GC contents, DNA sizes and dinucleotides frequency profiles in chromosomes and plasmids of prokaryotes. The authors provide statistical evidence that the GC% of plasmids is lower than that of host chromosomes."
   ]
  },
  {
   "cell_type": "markdown",
   "metadata": {},
   "source": [
    "This trend is noticed in more than 80% of bacterial and archaeal chromosomes-plasmids pairs. In most cases, the difference was less than 10%. The Pearson correlation coefficient was 0.965 and 0.917 in the respective cases. \n",
    "\n",
    "The author also compared the chromosome size with chromosome GC% and found that in bacteria, the DNA size and GC content were related with the Pearson coefficient of 0.46. \n",
    "\n",
    "# Takeaways from the paper\n",
    "\n",
    "This was a short paper emphasizing the relation between the GC% of plasmids and chromosomes. The data set considered by the author is not as large as the one in the paper by Shintani et al. However, it arrives to the same conclusions. There is sufficient statistical evidence for the assumption that the GC% of chromosomes exceeds that of plasmids.\n",
    "\n",
    "The author also provides diculeotide frequency plots. However, I don't exactly understand the importance of those plots or what to make of these. \n",
    "\n",
    "\n",
    "\n"
   ]
  }
 ],
 "metadata": {
  "kernelspec": {
   "display_name": "Python 3",
   "language": "python",
   "name": "python3"
  }
 },
 "nbformat": 4,
 "nbformat_minor": 2
}
