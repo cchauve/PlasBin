{
 "cells": [
  {
   "cell_type": "markdown",
   "metadata": {},
   "source": [
    "# An Exact Algorithm to Compute the DCJ Distance for Genomes with Duplicate Genes\n",
    "\n",
    "M. Shao, Y. Lin, B. Moret (2015)\n",
    "\n",
    "Article pdf: https://pdfs.semanticscholar.org/4e14/49d78bc0a9de392ebf94f13b730b37f5db95.pdf"
   ]
  },
  {
   "cell_type": "markdown",
   "metadata": {},
   "source": [
    "DCJ is the most used model for research in genome rearrangements. While the DCJ distance can be computed in linear time without duplicate genes, it becomes NP-hard in the presence of duplicate genes. In this paper, the authors propose an ILP to compute the DCJ distance between two genomes containing duplicate genes."
   ]
  },
  {
   "cell_type": "markdown",
   "metadata": {},
   "source": [
    "## Adjacency graph\n",
    "\n",
    "It is assumed that both genomes ($G_1$ and $G_2$) considered have the same gene content. A \"valid\" bijection between the genomes is essentially a perfect matching of the genes of $G_1$ and $G_2$.\n",
    "\n",
    "The adjacency graph w.r.t. $G_1$ and $G_2$ is $AG=(V,E)$ where $V$ consists of the extremity sets ($S_1$ and $S_2$) of the two genomes and $E$ consists of black and grey edges. Black edges connect extremities in $S_1$ to homologous extremities in $S_2$. Grey edges connect extremities in the same genome if they form an adjacency. \n",
    "\n",
    "An \"alternating\" path (or cycle) in $AG$ alternates between black and grey edges. A \"decomposition\" of $AG$ is a set of vertex disjoint alternating paths/cycles that cover the entire vertex set as well as all the grey edges (implying they cover all gene extremities and adjacencies). A consistent decomposition involves either both $(f_h, g_h)$ and $(f_t, g_t)$ to be a part of the decomposition or none of the two. \n",
    "\n",
    "Accordingly, if $c_D$ and $o_D$ is the number of cycles and odd paths in the deocmposition respectively, the DCJ distance between the two genomes is given by $(|V|/4-c-o/2)$. The aim is to find the decomposition $D \\in \\mathcal{D}$ that minimizes the DCJ distance. Clearly, as the number of cycles and odd paths increases, the DCJ distance decreases. Thus, we try to maximize the number of these structures. Through the use of some construction, it can be viewed as the maximum cycle decomposition problem. "
   ]
  },
  {
   "cell_type": "markdown",
   "metadata": {},
   "source": [
    "## Maximum cycle decomposition\n",
    "\n",
    "In order to remove any telomeres, the authors introduce \"null extremities\". For any extremity coming from a telomere, a null extremity is introduced as the one adjacenct to the extremity. If $G_1$ and $G_2$ respectively have $k_1$ and $k_2$ null extremities and $k_1 < k_2$, then $k_2 - k_1$ pairs of null extremities are added to $S_1$. Further all pair of null extremities across $G_1$ and $G_2$ are connected via black edges. \n",
    "\n",
    "Each edge $e$ is assigned a variable $x_e$ which takes value 1 if it is a part of the solution. Each vertex $v_i$ has a variable $y_i$ which takes value $0 \\leq y_i \\leq i$. Each vertex also has a variable $z_i$ that takes the value 1 if $y_i = i$. \n",
    "\n",
    "Constraints:\n",
    "1. Grey edges: <br>\n",
    "Firstly, all grey edges or adjacencies should be part of the solution. Thus, <br>\n",
    "$x_e = 1$ for all grey edges $e$.\n",
    "\n",
    "\n",
    "2. Consistency: <br>\n",
    "By the definition of a consistent decomposition, we have <br>\n",
    "$x_{(f_h,g_h)} = x_{(f_t,g_t)}$ for homologous pairs $f,g$. \n",
    "\n",
    "\n",
    "3. Exactly one homologous pair: <br>\n",
    "A gene can be homologous to exactly one gene in the opposite genome. <br>\n",
    "$\\sum_{(u,v) \\in E, v \\in S2} x_{(u,v)} = 1$ for all $u \\in S_1$ <br>\n",
    "$\\sum_{(u,v) \\in E, u \\in S1} x_{(u,v)} = 1$ for all $v \\in S_2$\n",
    "\n",
    "\n",
    "4. Vertices in a cycle: <br>\n",
    "All the vertices in a cycle in the final solution should have the same value. <br>\n",
    "$y_i \\leq y_j + i.(1-x_e)$ <br>\n",
    "$y_j \\leq y_i + j.(1-x_e)$ for all edges $e = (v_i,v_j)$.\n",
    "\n",
    "\n",
    "5. Upper bound: <br>\n",
    "$i.z_i \\leq y_i$ for all vertices $v_i$.\n",
    "\n",
    "\n",
    "Clearly, as the value $y_i$ for all vertices in the cycle should be the same, only one vertex per cycle can take its maximum attainable value. Thus, the number of variables $z_i$ taking value 1 indicates the total number of cycles, which is required to be maximized."
   ]
  },
  {
   "cell_type": "markdown",
   "metadata": {},
   "source": [
    "## Key takeaways\n",
    "\n",
    "There is no immediate relation to the problem of counting/estimating gene losses. However, the idea of converting a minimization problem into a maximization one and the use of $z_i$ variables was interesting and might come in handy at some point."
   ]
  },
  {
   "cell_type": "code",
   "execution_count": null,
   "metadata": {},
   "outputs": [],
   "source": []
  }
 ],
 "metadata": {
  "kernelspec": {
   "display_name": "Python 3",
   "language": "python",
   "name": "python3"
  },
  "language_info": {
   "codemirror_mode": {
    "name": "ipython",
    "version": 3
   },
   "file_extension": ".py",
   "mimetype": "text/x-python",
   "name": "python",
   "nbconvert_exporter": "python",
   "pygments_lexer": "ipython3",
   "version": "3.6.7"
  }
 },
 "nbformat": 4,
 "nbformat_minor": 2
}
