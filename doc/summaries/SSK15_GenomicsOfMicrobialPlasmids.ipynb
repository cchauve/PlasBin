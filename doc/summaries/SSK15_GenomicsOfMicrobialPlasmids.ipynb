{
 "cells": [
  {
   "cell_type": "markdown",
   "metadata": {},
   "source": [
    "# Genomics of microbial plasmids: classification and identification based on replication and transfer systems and host taxonomy\n",
    "\n",
    "M. Shinatani, Z. Sanchez, K. Kimbara (2015)\n",
    "\n",
    "Article link: https://www.ncbi.nlm.nih.gov/pmc/articles/PMC4379921/"
   ]
  },
  {
   "cell_type": "markdown",
   "metadata": {},
   "source": [
    "The paper classifies known plasmids according to their replication and transfer mechanisms. It also surveys the distribution of plasmid size and GC% for various phyla."
   ]
  },
  {
   "cell_type": "markdown",
   "metadata": {},
   "source": [
    "Conjugative transfer, a mechanism for horizontal gene transfer, is one of the major methods of sharing genetic elements across bacteria. Thus, it plays an important role in bacterial evolution and development of anitiotic resistance. Plasmids are part of the mobile genetic elements that spread through conjugative transfer. Most of th recognized plasmids are bacterial while small portions are from archaea and eukaryota. The relation between plasmids features and host taxonomy can help in understanding the means of their circulation amongst organisms. It might also help in identifying new plasmids."
   ]
  },
  {
   "cell_type": "markdown",
   "metadata": {},
   "source": [
    "## Replication and transfer mechanisms\n",
    "\n",
    "Replications takes place at \"origin of vegetative replication\" (oriV). Types of replication include: thete-type, rolling circle and strand displacement. Conjugative transfer in self-transmissible (carrying its own set of all the genes necessary to facilitate transfer) requires the \"origin of transfer\" (oriT), the relaxase protein, type IV coupling protein and type IV secretion system. These are classified according to the amino acid sequence of the relaxase protein or by their mating formation during the transfer."
   ]
  },
  {
   "cell_type": "markdown",
   "metadata": {},
   "source": [
    "## Classification of plasmids\n",
    "\n",
    "Known plasmids have been classified into 22 phyla. Majority of the plasmids fall under Proteobacteria, Firmicutes, Spirochaetes, Actinobacteria, Cyanobacteria, Bacteroidetes, Chalmydiae and Tenericutes. The paper highlights the variation in the sizes and GC% of the plasmids for each phylum. The average GC% of plasmids for various phyla varies from 26.3% to 64.5%. Thus, there is no uniformity in the GC% of the plasmids. However, the GC% of most plasmids is consistently lower than that of their host chromosomes by <10%. The reason stated for this difference is the higher energy cost required to maintain G and C. Plasmids can also be classified according to Incompatibility (Inc) (two plasmids are incompatible if introducing one plasmid disturbs the stability of inheritance of the other). "
   ]
  },
  {
   "cell_type": "markdown",
   "metadata": {},
   "source": [
    "## Key takeaways\n",
    "\n",
    "The paper suggests that the GC% of plasmids is typically lower than that of host chromosomes. This provides sound reasoning for a part of our objective function. It is also worth noting that the GC% varies greatly across various phyla. Thus, knowledge of the classification might aid in having an expected GC% that may be achieved. However, since GC% is considered a taxonomic marker, this idea may not viable for practical purposes.\n",
    "\n",
    "The paper also mentions that the GC% may be suggestive of the \"age\" of the plasmid in the host (meaning the time since it has been introduced to the host). The example provided shows that the plasmids with greater GC% are \"older\" than those with lesser GC%. In future, it might be interesting to see if the age of the plasmid can be guessed using previous data and its GC%.\n",
    "\n",
    "\n",
    "\n"
   ]
  }
 ],
 "metadata": {
  "kernelspec": {
   "display_name": "Python 3",
   "language": "python",
   "name": "python3"
  },
  "language_info": {
   "codemirror_mode": {
    "name": "ipython",
    "version": 3
   },
   "file_extension": ".py",
   "mimetype": "text/x-python",
   "name": "python",
   "nbconvert_exporter": "python",
   "pygments_lexer": "ipython3",
   "version": "3.6.7"
  }
 },
 "nbformat": 4,
 "nbformat_minor": 2
}
