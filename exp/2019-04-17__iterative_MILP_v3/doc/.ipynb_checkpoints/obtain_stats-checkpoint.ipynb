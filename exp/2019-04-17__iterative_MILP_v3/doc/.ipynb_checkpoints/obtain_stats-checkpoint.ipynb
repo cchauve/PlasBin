{
 "cells": [
  {
   "cell_type": "markdown",
   "metadata": {},
   "source": [
    "# Plasmids MILP experiment v3\n",
    "\n",
    "## Description\n",
    "\n",
    "The following describes the experiment with iterative Plasmids assembly MILP with additional constraints to remove cycles. The plasmids obtained in this experiment have exactly one component each and the component is a path. This has been achieved by adding two types of constraints:\n",
    "1. The number of contigs in the plasmid should be exactly one more than the number of links in the plasmid.\n",
    "2. However, the first constraint can also be satisfied by graphs with multiple component containing exactly 1 path and the rest as cycles. Hence, we add constraints to remove any cyclic sequence of contigs in the plasmid. The resulting plasmid will contain exactly one path. \n",
    "As the number of cycles generated can be exponential, we add the second type of constraints iteratively as we identify a cyclic sequence. So, for instance, for a plasmid $p$, let $\\{a,b,c,d\\}$ be contigs involved in a cycle and $\\{a_hb_h,b_tc_t,c_hd_t,d_ha_t\\}$ be the links in the cycle, we add exactly one constraint:\n",
    "\n",
    "links[$p$][$a_hb_h$] + links[$p$][$a_hb_h$] + links[$p$][$a_hb_h$] + links[$p$][$a_hb_h$] $\\leq$ 3\n",
    "\n",
    "If the number of such constraints is greater than 50 (which seems to happen frequently), the linearization is performed greedily removing the least weighted link in each remaining cycle. \n",
    "\n",
    "The details of the objective function are provided in modified_formulation.ipynb.\n",
    "\n",
    "In addition to these constraints, we also separate questionable plasmids away from putative plasmids. The conditions under which a plasmid is classified as putative are as follows:\n",
    "\n",
    "1. min_gene_density[plasmid] $\\geq$ 0.3\n",
    "2. min_gene_density[seed_contig] $\\geq$ 1.5$*$min_gene_density[plasmid] $=$ 0.45\n",
    "3. 1500 $\\leq$ min_length[plasmid] $\\leq$ 1750000"
   ]
  },
  {
   "cell_type": "code",
   "execution_count": 1,
   "metadata": {},
   "outputs": [
    {
     "data": {
      "text/html": [
       "<script>\n",
       "code_show=true; \n",
       "function code_toggle() {\n",
       " if (code_show){\n",
       " $('div.input').hide();\n",
       " } else {\n",
       " $('div.input').show();\n",
       " }\n",
       " code_show = !code_show\n",
       "} \n",
       "$( document ).ready(code_toggle);\n",
       "</script>\n",
       "<form action=\"javascript:code_toggle()\"><input type=\"submit\" value=\"Click here to toggle on/off the raw code.\"></form>"
      ],
      "text/plain": [
       "<IPython.core.display.HTML object>"
      ]
     },
     "execution_count": 1,
     "metadata": {},
     "output_type": "execute_result"
    }
   ],
   "source": [
    "from IPython.display import Image\n",
    "from IPython.display import HTML\n",
    "\n",
    "HTML('''<script>\n",
    "code_show=true; \n",
    "function code_toggle() {\n",
    " if (code_show){\n",
    " $('div.input').hide();\n",
    " } else {\n",
    " $('div.input').show();\n",
    " }\n",
    " code_show = !code_show\n",
    "} \n",
    "$( document ).ready(code_toggle);\n",
    "</script>\n",
    "<form action=\"javascript:code_toggle()\"><input type=\"submit\" value=\"Click here to toggle on/off the raw code.\"></form>''')"
   ]
  },
  {
   "cell_type": "markdown",
   "metadata": {},
   "source": [
    "#### Figure 1: Linearization to obtain single component"
   ]
  },
  {
   "cell_type": "code",
   "execution_count": 3,
   "metadata": {},
   "outputs": [],
   "source": [
    "#Image(filename=\"linearization.png\", width=600)"
   ]
  },
  {
   "cell_type": "code",
   "execution_count": 46,
   "metadata": {
    "collapsed": true
   },
   "outputs": [],
   "source": [
    "import os\n",
    "from collections import defaultdict\n",
    "import matplotlib.pyplot as plt\n",
    "import numpy as np\n",
    "import pandas as pd\n",
    "plt.switch_backend('agg')\n",
    "%matplotlib inline"
   ]
  },
  {
   "cell_type": "code",
   "execution_count": 47,
   "metadata": {
    "collapsed": true
   },
   "outputs": [],
   "source": [
    "output_dir = '../output'\n",
    "greedy_dir = '../../../../Plasmids-Assembly/exp/2018-07-20__sample_analyses_greedy_strategy/greedy_v2'\n",
    "v2_dir = '../../2019-03-21__iterative_MILP_v2/output'"
   ]
  },
  {
   "cell_type": "code",
   "execution_count": 48,
   "metadata": {
    "collapsed": true
   },
   "outputs": [],
   "source": [
    "def update_dict(line, stat_dict, file, folder_loc):\n",
    "    stat = line.split(\" \")[-1]\n",
    "    stat_dict[file.split('/')[folder_loc]].append(float(stat))\n",
    "    return stat_dict"
   ]
  },
  {
   "cell_type": "code",
   "execution_count": 49,
   "metadata": {
    "collapsed": true
   },
   "outputs": [],
   "source": [
    "def compute_mean(mean, k, precs, recs, f1s):\n",
    "    mean[k] = {}\n",
    "    mean[k]['precision'] = sum(precs[k])/len(precs[k])\n",
    "    mean[k]['recall'] = sum(recs[k])/len(recs[k])\n",
    "    mean[k]['f1_score'] = sum(f1s[k])/len(f1s[k])\n",
    "    return mean"
   ]
  },
  {
   "cell_type": "code",
   "execution_count": 50,
   "metadata": {
    "collapsed": true
   },
   "outputs": [],
   "source": [
    "def compute_max(best, k, precs, recs, f1s):\n",
    "    best[k] = {}\n",
    "    best[k]['precision'] = max(precs[k])\n",
    "    best[k]['recall'] = max(recs[k])\n",
    "    best[k]['f1_score'] = max(f1s[k])\n",
    "    return best"
   ]
  },
  {
   "cell_type": "markdown",
   "metadata": {},
   "source": [
    "## Statistics for different samples\n",
    "\n",
    "In this part, we use the $\\alpha$ ratios 1.1.1 as in the greedy heuristic. The MILP was run with nplasmids  $=1$. In other words, although we remove one plasmid at a time in this experiment, the MILP has provisions to remove $k>$1 plasmids in one iteration, provided convergence is reached. The main motivation behind the iterative plasmid generation approach is to help in reaching convergence by reducing the number of variables.\n",
    "\n",
    "A set of 10 ids was chosen to test the general performance of the MILP. These were the same ids as in the previous experiments.\n",
    "\n",
    "The results for the 10 chosen sample ids have been compared with the results of the greedy heuristic by Robert. The results of the greedy heuristic can be found at '/Plasmids-Assembly/exp/2018-07-20__sample_analyses_greedy_strategy/greedy_v2'."
   ]
  },
  {
   "cell_type": "code",
   "execution_count": 51,
   "metadata": {
    "collapsed": true
   },
   "outputs": [],
   "source": [
    "files = [os.path.join(dp, f) for dp, dn, filenames in os.walk(output_dir) for f in filenames if \"eval.csv\" in f]\n",
    "precs, recs, f1s = defaultdict(list), defaultdict(list), defaultdict(list)\n",
    "prec_ratio, rec_ratio, f1_ratio = defaultdict(list), defaultdict(list), defaultdict(list)\n",
    "\n",
    "for file in files:\n",
    "    if 'sample' in file.split('/')[2]:\n",
    "        sample_id = file.split('/')[2].split('_')[1]\n",
    "        ratio = file.split('/')[3]\n",
    "        with open(file, 'r') as f:\n",
    "            for line in f:\n",
    "                if \"precision\" in line:\n",
    "                    precs = update_dict(line, precs, file, 2)\n",
    "                    prec_ratio = update_dict(line, prec_ratio, file, 3)\n",
    "                if \"recall\" in line:\n",
    "                    recs = update_dict(line, recs, file, 2)\n",
    "                    rec_ratio = update_dict(line, rec_ratio, file, 3)\n",
    "                if \"f1\" in line:\n",
    "                    f1s = update_dict(line, f1s, file, 2)\n",
    "                    f1_ratio = update_dict(line, f1_ratio, file, 3)"
   ]
  },
  {
   "cell_type": "code",
   "execution_count": 52,
   "metadata": {
    "collapsed": true
   },
   "outputs": [],
   "source": [
    "mean, best = {}, {}\n",
    "mean_scores, best_scores = [], [] \n",
    "for sample_id in precs:\n",
    "    mean[sample_id] = {}\n",
    "    mean[sample_id]['precision'] = sum(precs[sample_id])/len(precs[sample_id])\n",
    "    mean[sample_id]['recall'] = sum(recs[sample_id])/len(recs[sample_id])\n",
    "    mean[sample_id]['f1_score'] = sum(f1s[sample_id])/len(f1s[sample_id])\n",
    "    mean_scores.append([sample_id, mean[sample_id]['precision'], mean[sample_id]['recall'], mean[sample_id]['f1_score']])\n",
    "\n",
    "    best[sample_id] = {}\n",
    "    best[sample_id]['precision'] = max(precs[sample_id])\n",
    "    best[sample_id]['recall'] = max(recs[sample_id])\n",
    "    best[sample_id]['f1_score'] = max(f1s[sample_id])  \n",
    "    best_scores.append([sample_id, best[sample_id]['precision'], best[sample_id]['recall'], best[sample_id]['f1_score']])\n",
    "\n",
    "mean_scores = pd.DataFrame(mean_scores)\n",
    "mean_scores.rename(columns = {0: 'Sample', 1: 'Precision', 2: 'Recall', 3: 'F1 score'}, inplace = True)\n",
    "\n",
    "best_scores = pd.DataFrame(best_scores)\n",
    "best_scores.rename(columns = {0: 'Sample', 1: 'Precision', 2: 'Recall', 3: 'F1 score'}, inplace = True)"
   ]
  },
  {
   "cell_type": "markdown",
   "metadata": {},
   "source": [
    "#### Table 1: Average scores for each sample"
   ]
  },
  {
   "cell_type": "code",
   "execution_count": 53,
   "metadata": {},
   "outputs": [
    {
     "data": {
      "text/html": [
       "<div>\n",
       "<style>\n",
       "    .dataframe thead tr:only-child th {\n",
       "        text-align: right;\n",
       "    }\n",
       "\n",
       "    .dataframe thead th {\n",
       "        text-align: left;\n",
       "    }\n",
       "\n",
       "    .dataframe tbody tr th {\n",
       "        vertical-align: top;\n",
       "    }\n",
       "</style>\n",
       "<table border=\"1\" class=\"dataframe\">\n",
       "  <thead>\n",
       "    <tr style=\"text-align: right;\">\n",
       "      <th></th>\n",
       "      <th>Sample</th>\n",
       "      <th>Precision</th>\n",
       "      <th>Recall</th>\n",
       "      <th>F1 score</th>\n",
       "    </tr>\n",
       "  </thead>\n",
       "  <tbody>\n",
       "    <tr>\n",
       "      <th>0</th>\n",
       "      <td>sample_56</td>\n",
       "      <td>0.912488</td>\n",
       "      <td>0.629921</td>\n",
       "      <td>0.745321</td>\n",
       "    </tr>\n",
       "    <tr>\n",
       "      <th>1</th>\n",
       "      <td>sample_125</td>\n",
       "      <td>0.999980</td>\n",
       "      <td>0.668654</td>\n",
       "      <td>0.801423</td>\n",
       "    </tr>\n",
       "    <tr>\n",
       "      <th>2</th>\n",
       "      <td>sample_66</td>\n",
       "      <td>0.963247</td>\n",
       "      <td>0.464169</td>\n",
       "      <td>0.626460</td>\n",
       "    </tr>\n",
       "    <tr>\n",
       "      <th>3</th>\n",
       "      <td>sample_103</td>\n",
       "      <td>0.582142</td>\n",
       "      <td>0.887455</td>\n",
       "      <td>0.703084</td>\n",
       "    </tr>\n",
       "    <tr>\n",
       "      <th>4</th>\n",
       "      <td>sample_39</td>\n",
       "      <td>0.862257</td>\n",
       "      <td>0.889925</td>\n",
       "      <td>0.875873</td>\n",
       "    </tr>\n",
       "    <tr>\n",
       "      <th>5</th>\n",
       "      <td>sample_109</td>\n",
       "      <td>0.701633</td>\n",
       "      <td>0.544846</td>\n",
       "      <td>0.613379</td>\n",
       "    </tr>\n",
       "    <tr>\n",
       "      <th>6</th>\n",
       "      <td>sample_117</td>\n",
       "      <td>0.999149</td>\n",
       "      <td>0.731716</td>\n",
       "      <td>0.844773</td>\n",
       "    </tr>\n",
       "    <tr>\n",
       "      <th>7</th>\n",
       "      <td>sample_116</td>\n",
       "      <td>0.000000</td>\n",
       "      <td>0.000000</td>\n",
       "      <td>0.000000</td>\n",
       "    </tr>\n",
       "    <tr>\n",
       "      <th>8</th>\n",
       "      <td>sample_11</td>\n",
       "      <td>0.752657</td>\n",
       "      <td>0.691582</td>\n",
       "      <td>0.720828</td>\n",
       "    </tr>\n",
       "    <tr>\n",
       "      <th>9</th>\n",
       "      <td>sample_23</td>\n",
       "      <td>0.221225</td>\n",
       "      <td>0.813233</td>\n",
       "      <td>0.347829</td>\n",
       "    </tr>\n",
       "  </tbody>\n",
       "</table>\n",
       "</div>"
      ],
      "text/plain": [
       "       Sample  Precision    Recall  F1 score\n",
       "0   sample_56   0.912488  0.629921  0.745321\n",
       "1  sample_125   0.999980  0.668654  0.801423\n",
       "2   sample_66   0.963247  0.464169  0.626460\n",
       "3  sample_103   0.582142  0.887455  0.703084\n",
       "4   sample_39   0.862257  0.889925  0.875873\n",
       "5  sample_109   0.701633  0.544846  0.613379\n",
       "6  sample_117   0.999149  0.731716  0.844773\n",
       "7  sample_116   0.000000  0.000000  0.000000\n",
       "8   sample_11   0.752657  0.691582  0.720828\n",
       "9   sample_23   0.221225  0.813233  0.347829"
      ]
     },
     "execution_count": 53,
     "metadata": {},
     "output_type": "execute_result"
    }
   ],
   "source": [
    "mean_scores"
   ]
  },
  {
   "cell_type": "markdown",
   "metadata": {},
   "source": [
    "#### Table 2: Maximum scores for each sample"
   ]
  },
  {
   "cell_type": "code",
   "execution_count": 54,
   "metadata": {},
   "outputs": [
    {
     "data": {
      "text/html": [
       "<div>\n",
       "<style>\n",
       "    .dataframe thead tr:only-child th {\n",
       "        text-align: right;\n",
       "    }\n",
       "\n",
       "    .dataframe thead th {\n",
       "        text-align: left;\n",
       "    }\n",
       "\n",
       "    .dataframe tbody tr th {\n",
       "        vertical-align: top;\n",
       "    }\n",
       "</style>\n",
       "<table border=\"1\" class=\"dataframe\">\n",
       "  <thead>\n",
       "    <tr style=\"text-align: right;\">\n",
       "      <th></th>\n",
       "      <th>Sample</th>\n",
       "      <th>Precision</th>\n",
       "      <th>Recall</th>\n",
       "      <th>F1 score</th>\n",
       "    </tr>\n",
       "  </thead>\n",
       "  <tbody>\n",
       "    <tr>\n",
       "      <th>0</th>\n",
       "      <td>sample_56</td>\n",
       "      <td>0.912488</td>\n",
       "      <td>0.629921</td>\n",
       "      <td>0.745321</td>\n",
       "    </tr>\n",
       "    <tr>\n",
       "      <th>1</th>\n",
       "      <td>sample_125</td>\n",
       "      <td>0.999980</td>\n",
       "      <td>0.668654</td>\n",
       "      <td>0.801423</td>\n",
       "    </tr>\n",
       "    <tr>\n",
       "      <th>2</th>\n",
       "      <td>sample_66</td>\n",
       "      <td>0.963247</td>\n",
       "      <td>0.464169</td>\n",
       "      <td>0.626460</td>\n",
       "    </tr>\n",
       "    <tr>\n",
       "      <th>3</th>\n",
       "      <td>sample_103</td>\n",
       "      <td>0.582142</td>\n",
       "      <td>0.887455</td>\n",
       "      <td>0.703084</td>\n",
       "    </tr>\n",
       "    <tr>\n",
       "      <th>4</th>\n",
       "      <td>sample_39</td>\n",
       "      <td>0.862257</td>\n",
       "      <td>0.889925</td>\n",
       "      <td>0.875873</td>\n",
       "    </tr>\n",
       "    <tr>\n",
       "      <th>5</th>\n",
       "      <td>sample_109</td>\n",
       "      <td>0.701633</td>\n",
       "      <td>0.544846</td>\n",
       "      <td>0.613379</td>\n",
       "    </tr>\n",
       "    <tr>\n",
       "      <th>6</th>\n",
       "      <td>sample_117</td>\n",
       "      <td>0.999149</td>\n",
       "      <td>0.731716</td>\n",
       "      <td>0.844773</td>\n",
       "    </tr>\n",
       "    <tr>\n",
       "      <th>7</th>\n",
       "      <td>sample_116</td>\n",
       "      <td>0.000000</td>\n",
       "      <td>0.000000</td>\n",
       "      <td>0.000000</td>\n",
       "    </tr>\n",
       "    <tr>\n",
       "      <th>8</th>\n",
       "      <td>sample_11</td>\n",
       "      <td>0.752657</td>\n",
       "      <td>0.691582</td>\n",
       "      <td>0.720828</td>\n",
       "    </tr>\n",
       "    <tr>\n",
       "      <th>9</th>\n",
       "      <td>sample_23</td>\n",
       "      <td>0.221225</td>\n",
       "      <td>0.813233</td>\n",
       "      <td>0.347829</td>\n",
       "    </tr>\n",
       "  </tbody>\n",
       "</table>\n",
       "</div>"
      ],
      "text/plain": [
       "       Sample  Precision    Recall  F1 score\n",
       "0   sample_56   0.912488  0.629921  0.745321\n",
       "1  sample_125   0.999980  0.668654  0.801423\n",
       "2   sample_66   0.963247  0.464169  0.626460\n",
       "3  sample_103   0.582142  0.887455  0.703084\n",
       "4   sample_39   0.862257  0.889925  0.875873\n",
       "5  sample_109   0.701633  0.544846  0.613379\n",
       "6  sample_117   0.999149  0.731716  0.844773\n",
       "7  sample_116   0.000000  0.000000  0.000000\n",
       "8   sample_11   0.752657  0.691582  0.720828\n",
       "9   sample_23   0.221225  0.813233  0.347829"
      ]
     },
     "execution_count": 54,
     "metadata": {},
     "output_type": "execute_result"
    }
   ],
   "source": [
    "best_scores"
   ]
  },
  {
   "cell_type": "code",
   "execution_count": 55,
   "metadata": {
    "collapsed": true
   },
   "outputs": [],
   "source": [
    "ids = mean_scores['Sample'].values.tolist()\n",
    "greedy_files = [os.path.join(dp, f) for dp, dn, filenames in os.walk(greedy_dir) for f in filenames if \"greedy_mean.csv\" in f]\n",
    "greedy_precs, greedy_recs, greedy_f1s = defaultdict(list), defaultdict(list), defaultdict(list)\n",
    "\n",
    "count = {}\n",
    "for file in greedy_files:\n",
    "    if file.split('/')[9] in ids:\n",
    "        with open(file, 'r') as f:\n",
    "            rl, pl, fl = [], [], []\n",
    "            for line in f:\n",
    "                if \"score_ref_coverage\" in line:\n",
    "                    rl.append(line)\n",
    "                if \"score_pred_coverage\" in line:\n",
    "                    pl.append(line)\n",
    "                if \"overall_score\" in line:\n",
    "                    fl.append(line)       \n",
    "            greedy_recs = update_dict(rl[0], greedy_recs, file, 9)\n",
    "            greedy_precs = update_dict(pl[0], greedy_precs, file, 9)\n",
    "            greedy_f1s = update_dict(fl[0], greedy_f1s, file, 9)"
   ]
  },
  {
   "cell_type": "code",
   "execution_count": 56,
   "metadata": {
    "collapsed": true
   },
   "outputs": [],
   "source": [
    "greedy_mean = {}\n",
    "greedy_mean_scores = [] \n",
    "for sample_id in greedy_precs:\n",
    "    greedy_mean[sample_id] = {}\n",
    "    greedy_mean[sample_id]['precision'] = sum(greedy_precs[sample_id])/len(greedy_precs[sample_id])\n",
    "    greedy_mean[sample_id]['recall'] = sum(greedy_recs[sample_id])/len(greedy_recs[sample_id])\n",
    "    greedy_mean[sample_id]['f1_score'] = sum(greedy_f1s[sample_id])/len(greedy_f1s[sample_id])\n",
    "    greedy_mean_scores.append([sample_id, greedy_mean[sample_id]['precision'], greedy_mean[sample_id]['recall'], greedy_mean[sample_id]['f1_score']])\n",
    "\n",
    "greedy_mean_scores = pd.DataFrame(greedy_mean_scores)\n",
    "greedy_mean_scores.rename(columns = {0: 'Sample', 1: 'Precision', 2: 'Recall', 3: 'F1 score'}, inplace = True)"
   ]
  },
  {
   "cell_type": "markdown",
   "metadata": {},
   "source": [
    "#### Table 3:Mean scores using greedy heuristic"
   ]
  },
  {
   "cell_type": "code",
   "execution_count": 57,
   "metadata": {
    "scrolled": true
   },
   "outputs": [
    {
     "data": {
      "text/html": [
       "<div>\n",
       "<style>\n",
       "    .dataframe thead tr:only-child th {\n",
       "        text-align: right;\n",
       "    }\n",
       "\n",
       "    .dataframe thead th {\n",
       "        text-align: left;\n",
       "    }\n",
       "\n",
       "    .dataframe tbody tr th {\n",
       "        vertical-align: top;\n",
       "    }\n",
       "</style>\n",
       "<table border=\"1\" class=\"dataframe\">\n",
       "  <thead>\n",
       "    <tr style=\"text-align: right;\">\n",
       "      <th></th>\n",
       "      <th>Sample</th>\n",
       "      <th>Precision</th>\n",
       "      <th>Recall</th>\n",
       "      <th>F1 score</th>\n",
       "    </tr>\n",
       "  </thead>\n",
       "  <tbody>\n",
       "    <tr>\n",
       "      <th>0</th>\n",
       "      <td>sample_56</td>\n",
       "      <td>1.000000</td>\n",
       "      <td>0.976956</td>\n",
       "      <td>0.988478</td>\n",
       "    </tr>\n",
       "    <tr>\n",
       "      <th>1</th>\n",
       "      <td>sample_125</td>\n",
       "      <td>1.000000</td>\n",
       "      <td>0.996320</td>\n",
       "      <td>0.998160</td>\n",
       "    </tr>\n",
       "    <tr>\n",
       "      <th>2</th>\n",
       "      <td>sample_66</td>\n",
       "      <td>1.000000</td>\n",
       "      <td>1.000000</td>\n",
       "      <td>1.000000</td>\n",
       "    </tr>\n",
       "    <tr>\n",
       "      <th>3</th>\n",
       "      <td>sample_103</td>\n",
       "      <td>0.580096</td>\n",
       "      <td>0.900643</td>\n",
       "      <td>0.740370</td>\n",
       "    </tr>\n",
       "    <tr>\n",
       "      <th>4</th>\n",
       "      <td>sample_39</td>\n",
       "      <td>0.908497</td>\n",
       "      <td>0.915360</td>\n",
       "      <td>0.911929</td>\n",
       "    </tr>\n",
       "    <tr>\n",
       "      <th>5</th>\n",
       "      <td>sample_109</td>\n",
       "      <td>1.000000</td>\n",
       "      <td>0.983308</td>\n",
       "      <td>0.991655</td>\n",
       "    </tr>\n",
       "    <tr>\n",
       "      <th>6</th>\n",
       "      <td>sample_117</td>\n",
       "      <td>0.999994</td>\n",
       "      <td>0.989847</td>\n",
       "      <td>0.994921</td>\n",
       "    </tr>\n",
       "    <tr>\n",
       "      <th>7</th>\n",
       "      <td>sample_116</td>\n",
       "      <td>1.000000</td>\n",
       "      <td>0.324472</td>\n",
       "      <td>0.662236</td>\n",
       "    </tr>\n",
       "    <tr>\n",
       "      <th>8</th>\n",
       "      <td>sample_11</td>\n",
       "      <td>0.862581</td>\n",
       "      <td>0.954005</td>\n",
       "      <td>0.908293</td>\n",
       "    </tr>\n",
       "    <tr>\n",
       "      <th>9</th>\n",
       "      <td>sample_23</td>\n",
       "      <td>0.609916</td>\n",
       "      <td>1.000000</td>\n",
       "      <td>0.804958</td>\n",
       "    </tr>\n",
       "  </tbody>\n",
       "</table>\n",
       "</div>"
      ],
      "text/plain": [
       "       Sample  Precision    Recall  F1 score\n",
       "0   sample_56   1.000000  0.976956  0.988478\n",
       "1  sample_125   1.000000  0.996320  0.998160\n",
       "2   sample_66   1.000000  1.000000  1.000000\n",
       "3  sample_103   0.580096  0.900643  0.740370\n",
       "4   sample_39   0.908497  0.915360  0.911929\n",
       "5  sample_109   1.000000  0.983308  0.991655\n",
       "6  sample_117   0.999994  0.989847  0.994921\n",
       "7  sample_116   1.000000  0.324472  0.662236\n",
       "8   sample_11   0.862581  0.954005  0.908293\n",
       "9   sample_23   0.609916  1.000000  0.804958"
      ]
     },
     "execution_count": 57,
     "metadata": {},
     "output_type": "execute_result"
    }
   ],
   "source": [
    "greedy_mean_scores"
   ]
  },
  {
   "cell_type": "code",
   "execution_count": 58,
   "metadata": {},
   "outputs": [],
   "source": [
    "v2_files = [os.path.join(dp, f) for dp, dn, filenames in os.walk(v2_dir) for f in filenames if \"eval.csv\" in f]\n",
    "v2_precs, v2_recs, v2_f1s = defaultdict(list), defaultdict(list), defaultdict(list)\n",
    "#prec_ratio, rec_ratio, f1_ratio = defaultdict(list), defaultdict(list), defaultdict(list)\n",
    "\n",
    "for file in v2_files:\n",
    "    if 'sample' in file.split('/')[4]:\n",
    "        sample_id = file.split('/')[4].split('_')[1]\n",
    "        #print(sample_id, file)\n",
    "        ratio = file.split('/')[3]\n",
    "        with open(file, 'r') as f:\n",
    "            for line in f:\n",
    "                if \"precision\" in line:\n",
    "                    v2_precs = update_dict(line, precs, file, 2)\n",
    "                    #prec_ratio = update_dict(line, prec_ratio, file, 3)\n",
    "                if \"recall\" in line:\n",
    "                    v2_recs = update_dict(line, recs, file, 2)\n",
    "                    #rec_ratio = update_dict(line, rec_ratio, file, 3)\n",
    "                if \"f1\" in line:\n",
    "                    v2_f1s = update_dict(line, f1s, file, 2)\n",
    "                    #f1_ratio = update_dict(line, f1_ratio, file, 3)"
   ]
  },
  {
   "cell_type": "code",
   "execution_count": 59,
   "metadata": {},
   "outputs": [],
   "source": [
    "v2_mean = {}\n",
    "v2_mean_scores = [] \n",
    "for sample_id in v2_precs:\n",
    "    if 'sample' in sample_id:\n",
    "        #print(sample_id)\n",
    "        v2_mean[sample_id] = {}\n",
    "        v2_mean[sample_id]['precision'] = sum(v2_precs[sample_id])/len(v2_precs[sample_id])\n",
    "        v2_mean[sample_id]['recall'] = sum(v2_recs[sample_id])/len(v2_recs[sample_id])\n",
    "        v2_mean[sample_id]['f1_score'] = sum(v2_f1s[sample_id])/len(v2_f1s[sample_id])\n",
    "        v2_mean_scores.append([sample_id, v2_mean[sample_id]['precision'], v2_mean[sample_id]['recall'], v2_mean[sample_id]['f1_score']])\n",
    "\n",
    "v2_mean_scores = pd.DataFrame(v2_mean_scores)\n",
    "v2_mean_scores.rename(columns = {0: 'Sample', 1: 'Precision', 2: 'Recall', 3: 'F1 score'}, inplace = True)\n",
    "#v2_mean_scores"
   ]
  },
  {
   "cell_type": "markdown",
   "metadata": {},
   "source": [
    "#### Figure 2: Average precision"
   ]
  },
  {
   "cell_type": "code",
   "execution_count": 61,
   "metadata": {},
   "outputs": [
    {
     "data": {
      "image/png": "[encoded data removed]",
      "text/plain": [
       "<matplotlib.figure.Figure at 0x7f4998861198>"
      ]
     },
     "metadata": {},
     "output_type": "display_data"
    }
   ],
   "source": [
    "N = 10\n",
    "ind = np.arange(N)\n",
    "width = 0.27\n",
    "\n",
    "fig = plt.figure()\n",
    "axp = fig.add_subplot(111)\n",
    "\n",
    "ids = mean_scores['Sample'].values.tolist()\n",
    "ids = [k.split('_')[1] for k in ids]\n",
    "\n",
    "pvals = mean_scores['Precision'].values.tolist()\n",
    "rects1 = axp.bar(ind, pvals, width, color='g')\n",
    "gpvals = greedy_mean_scores['Precision'].values.tolist()\n",
    "rects3 = axp.bar(ind+width, gpvals, width, color='r')\n",
    "#v2pvals = v2_mean_scores['Precision'].values.tolist()\n",
    "#rects2 = axp.bar(ind+2*width, v2pvals, width, color='b')\n",
    "\n",
    "#axp.set_title('Figure 1: Average precision')\n",
    "axp.set_ylabel('Scores')\n",
    "axp.set_xticks(ind+width)\n",
    "axp.set_xticklabels( (ids[0], ids[1], ids[2], ids[3], ids[4], ids[5], ids[6], ids[7], ids[8], ids[9]) )\n",
    "#axp.legend( (rects1[0], rects2[0], rects3[0]), ('MILP', 'MILP v2', 'Greedy') )\n",
    "axp.legend( (rects1[0], rects3[0]), ('MILP', 'Greedy') )\n",
    "plt.show()"
   ]
  },
  {
   "cell_type": "markdown",
   "metadata": {},
   "source": [
    "From Figures 2,3 and 4, it is clear that the greedy strategy consistently outperforms the MILP strategy once again. However, the performance has improved from previous experiments barring a couple of inputs. The average precision has improved with the exception of sample 109. No putative plasmids were output for sample 116. A common observation in this experiment was that the MILP output several short plasmids that made up a longer reference plasmid. Longer plasmids had very low gene density due to which they were considered as questionable."
   ]
  },
  {
   "cell_type": "markdown",
   "metadata": {},
   "source": [
    "#### Figure 3: Average recall"
   ]
  },
  {
   "cell_type": "code",
   "execution_count": 62,
   "metadata": {},
   "outputs": [
    {
     "data": {
      "image/png": "[encoded data removed]",
      "text/plain": [
       "<matplotlib.figure.Figure at 0x7f49985bb080>"
      ]
     },
     "metadata": {},
     "output_type": "display_data"
    }
   ],
   "source": [
    "N = 10\n",
    "ind = np.arange(N)\n",
    "width = 0.27\n",
    "\n",
    "fig = plt.figure()\n",
    "axr = fig.add_subplot(111)\n",
    "\n",
    "rvals = mean_scores['Recall'].values.tolist()\n",
    "rects4 = axr.bar(ind, rvals, width, color='g')\n",
    "grvals = greedy_mean_scores['Recall'].values.tolist()\n",
    "rects6 = axr.bar(ind+width, grvals, width, color='r')\n",
    "#v2rvals = v2_mean_scores['Recall'].values.tolist()\n",
    "#rects5 = axp.bar(ind+2*width, v2rvals, width, color='b')\n",
    "\n",
    "#axr.set_title('Figure 2: Average recall')\n",
    "axr.set_ylabel('Scores')\n",
    "axr.set_xticks(ind+width)\n",
    "axr.set_xticklabels( (ids[0], ids[1], ids[2], ids[3], ids[4], ids[5], ids[6], ids[7], ids[8], ids[9]) )\n",
    "axr.legend( (rects4[0], rects6[0]), ('MILP', 'Greedy') )\n",
    "\n",
    "plt.show()"
   ]
  },
  {
   "cell_type": "markdown",
   "metadata": {},
   "source": [
    "#### Figure 4: Average F1 score"
   ]
  },
  {
   "cell_type": "code",
   "execution_count": 64,
   "metadata": {},
   "outputs": [
    {
     "data": {
      "image/png": "[encoded data removed]",
      "text/plain": [
       "<matplotlib.figure.Figure at 0x7f4998cf7c88>"
      ]
     },
     "metadata": {},
     "output_type": "display_data"
    }
   ],
   "source": [
    "N = 10\n",
    "ind = np.arange(N)\n",
    "width = 0.27\n",
    "\n",
    "fig = plt.figure()\n",
    "axf = fig.add_subplot(111)\n",
    "\n",
    "\n",
    "fvals = mean_scores['F1 score'].values.tolist()\n",
    "rects7 = axf.bar(ind, fvals, width, color='g')\n",
    "gfvals = greedy_mean_scores['F1 score'].values.tolist()\n",
    "rects9 = axf.bar(ind+width, gfvals, width, color='r')\n",
    "#v2fvals = v2_mean_scores['F1 score'].values.tolist()\n",
    "#rects8 = axf.bar(ind+2*width, v2fvals, width, color='b')\n",
    "\n",
    "#axf.set_title('Figure 3: Average F1 score')\n",
    "axf.set_ylabel('Scores')\n",
    "axf.set_xticks(ind+width)\n",
    "axf.set_xticklabels( (ids[0], ids[1], ids[2], ids[3], ids[4], ids[5], ids[6], ids[7], ids[8], ids[9]) )\n",
    "axf.legend( (rects7[0], rects9[0]), ('MILP', 'Greedy') )\n",
    "\n",
    "plt.show()"
   ]
  },
  {
   "cell_type": "markdown",
   "metadata": {},
   "source": [
    "#### Figure 4: Best precision, recall and F1 score"
   ]
  },
  {
   "cell_type": "code",
   "execution_count": 65,
   "metadata": {},
   "outputs": [
    {
     "data": {
      "image/png": "[encoded data removed]",
      "text/plain": [
       "<matplotlib.figure.Figure at 0x7f49991323c8>"
      ]
     },
     "metadata": {},
     "output_type": "display_data"
    },
    {
     "data": {
      "text/plain": [
       "<matplotlib.figure.Figure at 0x7f4998deaf28>"
      ]
     },
     "metadata": {},
     "output_type": "display_data"
    }
   ],
   "source": [
    "fig = plt.figure()\n",
    "ax = fig.add_subplot(111)\n",
    "\n",
    "pvals = best_scores['Precision'].values.tolist()\n",
    "rects1 = ax.bar(ind, pvals, width, color='r')\n",
    "rvals = best_scores['Recall'].values.tolist()\n",
    "rects2 = ax.bar(ind+width, rvals, width, color='g')\n",
    "fvals = best_scores['F1 score'].values.tolist()\n",
    "rects3 = ax.bar(ind+width*2, fvals, width, color='b')\n",
    "ids = best_scores['Sample'].values.tolist()\n",
    "ids = [k.split('_')[1] for k in ids]\n",
    "#ax.set_title('Figure 4: Best precision, recall and F1 score')\n",
    "ax.set_ylabel('Scores')\n",
    "ax.set_xticks(ind+width)\n",
    "ax.set_xticklabels( (ids[0], ids[1], ids[2], ids[3], ids[4], ids[5], ids[6], ids[7], ids[8]) )\n",
    "ax.legend( (rects1[0], rects2[0], rects3[0]), ('Prec', 'Rec', 'F1') )\n",
    "plt.show()\n",
    "plt.savefig(os.path.join(output_dir,'best_scores_MILP_exp-1.pdf'), format = 'pdf', dpi = 1200, bbox_inches = 'tight')"
   ]
  },
  {
   "cell_type": "code",
   "execution_count": null,
   "metadata": {
    "collapsed": true
   },
   "outputs": [],
   "source": []
  }
 ],
 "metadata": {
  "kernelspec": {
   "display_name": "Python 3",
   "language": "python",
   "name": "python3"
  },
  "language_info": {
   "codemirror_mode": {
    "name": "ipython",
    "version": 3
   },
   "file_extension": ".py",
   "mimetype": "text/x-python",
   "name": "python",
   "nbconvert_exporter": "python",
   "pygments_lexer": "ipython3",
   "version": "3.6.3"
  }
 },
 "nbformat": 4,
 "nbformat_minor": 2
}
