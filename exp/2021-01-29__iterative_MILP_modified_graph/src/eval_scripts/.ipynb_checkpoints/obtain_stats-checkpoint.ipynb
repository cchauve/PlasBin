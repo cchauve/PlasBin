{
 "cells": [
  {
   "cell_type": "markdown",
   "metadata": {},
   "source": [
    "# Plasmids MILP experiment 1"
   ]
  },
  {
   "cell_type": "markdown",
   "metadata": {},
   "source": [
    "## Description\n",
    "\n",
    "The following describes the results of the experiment with the first version of the Plasmids assembly MILP. There are two parts to the experiment. In the first part, I tried to determine the set of $\\alpha$s in the objective function by running the MILP for the same sample. In the second part, I used the same $\\alpha$ values for different samples. In both parts, I have recorded the average and maximum precision, recall and F1 score obtained."
   ]
  },
  {
   "cell_type": "code",
   "execution_count": 1,
   "metadata": {
    "collapsed": true
   },
   "outputs": [],
   "source": [
    "import os\n",
    "from collections import defaultdict\n",
    "import matplotlib.pyplot as plt\n",
    "import numpy as np\n",
    "import pandas as pd\n",
    "plt.switch_backend('agg')\n",
    "%matplotlib inline"
   ]
  },
  {
   "cell_type": "code",
   "execution_count": 2,
   "metadata": {
    "collapsed": true
   },
   "outputs": [],
   "source": [
    "#output_dir = '/home/amane/projects/rrg-chauvec/wg-anoph/Plasmids-Assembly/exp/2019-02-19__plasmid_MILP/output'\n",
    "output_dir = '../../output'\n",
    "ratio_tests = os.path.join(output_dir,'ratio_test')"
   ]
  },
  {
   "cell_type": "code",
   "execution_count": 3,
   "metadata": {
    "collapsed": true
   },
   "outputs": [],
   "source": [
    "def update_dict(line, stat_dict, file, folder_loc):\n",
    "    stat = line.split(\" \")[-1]\n",
    "    stat_dict[file.split('/')[folder_loc]].append(float(stat))\n",
    "    return stat_dict"
   ]
  },
  {
   "cell_type": "code",
   "execution_count": 4,
   "metadata": {
    "collapsed": true
   },
   "outputs": [],
   "source": [
    "def compute_mean(mean, k, precs, recs, f1s):\n",
    "    mean[k] = {}\n",
    "    mean[k]['precision'] = sum(precs[k])/len(precs[k])\n",
    "    mean[k]['recall'] = sum(recs[k])/len(recs[k])\n",
    "    mean[k]['f1_score'] = sum(f1s[k])/len(f1s[k])\n",
    "    return mean"
   ]
  },
  {
   "cell_type": "code",
   "execution_count": 5,
   "metadata": {
    "collapsed": true
   },
   "outputs": [],
   "source": [
    "def compute_max(best, k, precs, recs, f1s):\n",
    "    best[k] = {}\n",
    "    best[k]['precision'] = max(precs[k])\n",
    "    best[k]['recall'] = max(recs[k])\n",
    "    best[k]['f1_score'] = max(f1s[k])\n",
    "    return best"
   ]
  },
  {
   "cell_type": "markdown",
   "metadata": {},
   "source": [
    "## Part I: Statistics for various coefficient combinations ($\\alpha_1, \\alpha_2, \\alpha_3$)\n",
    "\n",
    "The aim of this part is to find which set of $\\alpha$ values would be a suitable choice for the MILP. For this part I used a single sample (id=103) and obtained the results for various $\\alpha$ values. The sample itself contains exactly 1 plasmid. However, I ran the experiments for number of plasmids (nplasmids) $\\in \\{1,2,3,4\\}$. The reason behind this is that in many cases, the output when nplasmids $= 1$ yielded 0 precision and recall. In other words, the best plasmid according to the MILP did not match the reference plasmid for the sample."
   ]
  },
  {
   "cell_type": "code",
   "execution_count": 10,
   "metadata": {},
   "outputs": [],
   "source": [
    "files = [os.path.join(dp, f) for dp, dn, filenames in os.walk(ratio_tests) for f in filenames if \"eval.csv\" in f]\n",
    "precs, recs, f1s = defaultdict(list), defaultdict(list), defaultdict(list)\n",
    "\n",
    "for file in files:\n",
    "    #print(file.split('/')[4])\n",
    "    with open(file, 'r') as f:\n",
    "        for line in f:\n",
    "            if \"precision\" in line:\n",
    "                precs = update_dict(line, precs, file, 4)\n",
    "            if \"recall\" in line:\n",
    "                recs = update_dict(line, recs, file, 4)\n",
    "            if \"f1\" in line:\n",
    "                f1s = update_dict(line, f1s, file, 4)"
   ]
  },
  {
   "cell_type": "code",
   "execution_count": 11,
   "metadata": {
    "collapsed": true
   },
   "outputs": [],
   "source": [
    "mean, best = {}, {} \n",
    "mean_scores = []\n",
    "best_scores = []\n",
    "\n",
    "for ratio in precs:\n",
    "    mean = compute_mean(mean, ratio, precs, recs, f1s)\n",
    "    mean_scores.append([ratio, mean[ratio]['precision'], mean[ratio]['recall'], mean[ratio]['f1_score']])\n",
    "    best = compute_max(best, ratio, precs, recs, f1s)\n",
    "    best_scores.append([ratio, best[ratio]['precision'], best[ratio]['recall'], best[ratio]['f1_score']])\n",
    "    \n",
    "mean_scores = pd.DataFrame(mean_scores)\n",
    "mean_scores.rename(columns = {0: 'Ratio', 1: 'Precision', 2: 'Recall', 3: 'F1 score'}, inplace = True)\n",
    "\n",
    "best_scores = pd.DataFrame(best_scores)\n",
    "best_scores.rename(columns = {0: 'Ratio', 1: 'Precision', 2: 'Recall', 3: 'F1 score'}, inplace = True)\n",
    "\n",
    "with open(os.path.join(output_dir,'exp1_scores.csv'), 'w') as f:\n",
    "    mean_scores.to_csv(f, sep = '\\t', encoding='utf-8', index=False)\n",
    "with open(os.path.join(output_dir,'exp1_scores.csv'), 'a') as f:\n",
    "    best_scores.to_csv(f, sep = '\\t', encoding='utf-8', index=False)"
   ]
  },
  {
   "cell_type": "markdown",
   "metadata": {},
   "source": [
    "Table 1 lists the results. The first column lists the ratio ($\\alpha_1: \\alpha_2: \\alpha_3$) used in the objective function. From the table, we can see that the choice of $\\alpha_1$ does not impact the results too much. For instance, the cases 0.1.0, 1.1.0 and 2.1.0 have very similar precision, recall and F1 score. This indicates that the MILP assigns read depths rd[p][c] such that the deviation from the average read depth mean_rd[p] is negligible."
   ]
  },
  {
   "cell_type": "code",
   "execution_count": 12,
   "metadata": {},
   "outputs": [
    {
     "data": {
      "text/html": [
       "<div>\n",
       "<style>\n",
       "    .dataframe thead tr:only-child th {\n",
       "        text-align: right;\n",
       "    }\n",
       "\n",
       "    .dataframe thead th {\n",
       "        text-align: left;\n",
       "    }\n",
       "\n",
       "    .dataframe tbody tr th {\n",
       "        vertical-align: top;\n",
       "    }\n",
       "</style>\n",
       "<table border=\"1\" class=\"dataframe\">\n",
       "  <thead>\n",
       "    <tr style=\"text-align: right;\">\n",
       "      <th></th>\n",
       "      <th>Ratio</th>\n",
       "      <th>Precision</th>\n",
       "      <th>Recall</th>\n",
       "      <th>F1 score</th>\n",
       "    </tr>\n",
       "  </thead>\n",
       "  <tbody>\n",
       "    <tr>\n",
       "      <th>0</th>\n",
       "      <td>0.1.0</td>\n",
       "      <td>0.236699</td>\n",
       "      <td>0.665015</td>\n",
       "      <td>0.328052</td>\n",
       "    </tr>\n",
       "    <tr>\n",
       "      <th>1</th>\n",
       "      <td>1.0.1</td>\n",
       "      <td>0.301081</td>\n",
       "      <td>0.851765</td>\n",
       "      <td>0.444899</td>\n",
       "    </tr>\n",
       "    <tr>\n",
       "      <th>2</th>\n",
       "      <td>0.0.1</td>\n",
       "      <td>0.301081</td>\n",
       "      <td>0.851765</td>\n",
       "      <td>0.444899</td>\n",
       "    </tr>\n",
       "    <tr>\n",
       "      <th>3</th>\n",
       "      <td>1.1.0</td>\n",
       "      <td>0.235248</td>\n",
       "      <td>0.655713</td>\n",
       "      <td>0.325510</td>\n",
       "    </tr>\n",
       "    <tr>\n",
       "      <th>4</th>\n",
       "      <td>1.2.1</td>\n",
       "      <td>0.228488</td>\n",
       "      <td>0.657477</td>\n",
       "      <td>0.334947</td>\n",
       "    </tr>\n",
       "    <tr>\n",
       "      <th>5</th>\n",
       "      <td>1.1.1</td>\n",
       "      <td>0.214321</td>\n",
       "      <td>0.657482</td>\n",
       "      <td>0.318551</td>\n",
       "    </tr>\n",
       "    <tr>\n",
       "      <th>6</th>\n",
       "      <td>1.0.0</td>\n",
       "      <td>0.000189</td>\n",
       "      <td>0.001663</td>\n",
       "      <td>0.000339</td>\n",
       "    </tr>\n",
       "    <tr>\n",
       "      <th>7</th>\n",
       "      <td>2.1.1</td>\n",
       "      <td>0.214324</td>\n",
       "      <td>0.657486</td>\n",
       "      <td>0.318555</td>\n",
       "    </tr>\n",
       "    <tr>\n",
       "      <th>8</th>\n",
       "      <td>1.1.2</td>\n",
       "      <td>0.212701</td>\n",
       "      <td>0.651393</td>\n",
       "      <td>0.315989</td>\n",
       "    </tr>\n",
       "    <tr>\n",
       "      <th>9</th>\n",
       "      <td>0.1.1</td>\n",
       "      <td>0.214322</td>\n",
       "      <td>0.657478</td>\n",
       "      <td>0.318552</td>\n",
       "    </tr>\n",
       "    <tr>\n",
       "      <th>10</th>\n",
       "      <td>5.2.1</td>\n",
       "      <td>0.226868</td>\n",
       "      <td>0.651385</td>\n",
       "      <td>0.332384</td>\n",
       "    </tr>\n",
       "    <tr>\n",
       "      <th>11</th>\n",
       "      <td>2.1.0</td>\n",
       "      <td>0.235225</td>\n",
       "      <td>0.656298</td>\n",
       "      <td>0.325518</td>\n",
       "    </tr>\n",
       "    <tr>\n",
       "      <th>12</th>\n",
       "      <td>10.5.1</td>\n",
       "      <td>0.193701</td>\n",
       "      <td>0.646188</td>\n",
       "      <td>0.290895</td>\n",
       "    </tr>\n",
       "  </tbody>\n",
       "</table>\n",
       "</div>"
      ],
      "text/plain": [
       "     Ratio  Precision    Recall  F1 score\n",
       "0    0.1.0   0.236699  0.665015  0.328052\n",
       "1    1.0.1   0.301081  0.851765  0.444899\n",
       "2    0.0.1   0.301081  0.851765  0.444899\n",
       "3    1.1.0   0.235248  0.655713  0.325510\n",
       "4    1.2.1   0.228488  0.657477  0.334947\n",
       "5    1.1.1   0.214321  0.657482  0.318551\n",
       "6    1.0.0   0.000189  0.001663  0.000339\n",
       "7    2.1.1   0.214324  0.657486  0.318555\n",
       "8    1.1.2   0.212701  0.651393  0.315989\n",
       "9    0.1.1   0.214322  0.657478  0.318552\n",
       "10   5.2.1   0.226868  0.651385  0.332384\n",
       "11   2.1.0   0.235225  0.656298  0.325518\n",
       "12  10.5.1   0.193701  0.646188  0.290895"
      ]
     },
     "execution_count": 12,
     "metadata": {},
     "output_type": "execute_result"
    }
   ],
   "source": [
    "mean_scores"
   ]
  },
  {
   "cell_type": "code",
   "execution_count": 13,
   "metadata": {},
   "outputs": [
    {
     "data": {
      "text/html": [
       "<div>\n",
       "<style>\n",
       "    .dataframe thead tr:only-child th {\n",
       "        text-align: right;\n",
       "    }\n",
       "\n",
       "    .dataframe thead th {\n",
       "        text-align: left;\n",
       "    }\n",
       "\n",
       "    .dataframe tbody tr th {\n",
       "        vertical-align: top;\n",
       "    }\n",
       "</style>\n",
       "<table border=\"1\" class=\"dataframe\">\n",
       "  <thead>\n",
       "    <tr style=\"text-align: right;\">\n",
       "      <th></th>\n",
       "      <th>Ratio</th>\n",
       "      <th>Precision</th>\n",
       "      <th>Recall</th>\n",
       "      <th>F1 score</th>\n",
       "    </tr>\n",
       "  </thead>\n",
       "  <tbody>\n",
       "    <tr>\n",
       "      <th>0</th>\n",
       "      <td>0.1.0</td>\n",
       "      <td>0.560841</td>\n",
       "      <td>0.906976</td>\n",
       "      <td>0.676345</td>\n",
       "    </tr>\n",
       "    <tr>\n",
       "      <th>1</th>\n",
       "      <td>1.0.1</td>\n",
       "      <td>0.301081</td>\n",
       "      <td>0.851765</td>\n",
       "      <td>0.444899</td>\n",
       "    </tr>\n",
       "    <tr>\n",
       "      <th>2</th>\n",
       "      <td>0.0.1</td>\n",
       "      <td>0.301081</td>\n",
       "      <td>0.851765</td>\n",
       "      <td>0.444899</td>\n",
       "    </tr>\n",
       "    <tr>\n",
       "      <th>3</th>\n",
       "      <td>1.1.0</td>\n",
       "      <td>0.560841</td>\n",
       "      <td>0.906976</td>\n",
       "      <td>0.676345</td>\n",
       "    </tr>\n",
       "    <tr>\n",
       "      <th>4</th>\n",
       "      <td>1.2.1</td>\n",
       "      <td>0.390642</td>\n",
       "      <td>0.901267</td>\n",
       "      <td>0.535630</td>\n",
       "    </tr>\n",
       "    <tr>\n",
       "      <th>5</th>\n",
       "      <td>1.1.1</td>\n",
       "      <td>0.390650</td>\n",
       "      <td>0.901250</td>\n",
       "      <td>0.535641</td>\n",
       "    </tr>\n",
       "    <tr>\n",
       "      <th>6</th>\n",
       "      <td>1.0.0</td>\n",
       "      <td>0.000755</td>\n",
       "      <td>0.006653</td>\n",
       "      <td>0.001356</td>\n",
       "    </tr>\n",
       "    <tr>\n",
       "      <th>7</th>\n",
       "      <td>2.1.1</td>\n",
       "      <td>0.390650</td>\n",
       "      <td>0.901267</td>\n",
       "      <td>0.535641</td>\n",
       "    </tr>\n",
       "    <tr>\n",
       "      <th>8</th>\n",
       "      <td>1.1.2</td>\n",
       "      <td>0.390650</td>\n",
       "      <td>0.876895</td>\n",
       "      <td>0.535641</td>\n",
       "    </tr>\n",
       "    <tr>\n",
       "      <th>9</th>\n",
       "      <td>0.1.1</td>\n",
       "      <td>0.390650</td>\n",
       "      <td>0.901250</td>\n",
       "      <td>0.535641</td>\n",
       "    </tr>\n",
       "    <tr>\n",
       "      <th>10</th>\n",
       "      <td>5.2.1</td>\n",
       "      <td>0.390650</td>\n",
       "      <td>0.876878</td>\n",
       "      <td>0.535641</td>\n",
       "    </tr>\n",
       "    <tr>\n",
       "      <th>11</th>\n",
       "      <td>2.1.0</td>\n",
       "      <td>0.560841</td>\n",
       "      <td>0.906976</td>\n",
       "      <td>0.676345</td>\n",
       "    </tr>\n",
       "    <tr>\n",
       "      <th>12</th>\n",
       "      <td>10.5.1</td>\n",
       "      <td>0.389181</td>\n",
       "      <td>0.866621</td>\n",
       "      <td>0.534255</td>\n",
       "    </tr>\n",
       "  </tbody>\n",
       "</table>\n",
       "</div>"
      ],
      "text/plain": [
       "     Ratio  Precision    Recall  F1 score\n",
       "0    0.1.0   0.560841  0.906976  0.676345\n",
       "1    1.0.1   0.301081  0.851765  0.444899\n",
       "2    0.0.1   0.301081  0.851765  0.444899\n",
       "3    1.1.0   0.560841  0.906976  0.676345\n",
       "4    1.2.1   0.390642  0.901267  0.535630\n",
       "5    1.1.1   0.390650  0.901250  0.535641\n",
       "6    1.0.0   0.000755  0.006653  0.001356\n",
       "7    2.1.1   0.390650  0.901267  0.535641\n",
       "8    1.1.2   0.390650  0.876895  0.535641\n",
       "9    0.1.1   0.390650  0.901250  0.535641\n",
       "10   5.2.1   0.390650  0.876878  0.535641\n",
       "11   2.1.0   0.560841  0.906976  0.676345\n",
       "12  10.5.1   0.389181  0.866621  0.534255"
      ]
     },
     "execution_count": 13,
     "metadata": {},
     "output_type": "execute_result"
    }
   ],
   "source": [
    "best_scores"
   ]
  },
  {
   "cell_type": "markdown",
   "metadata": {},
   "source": [
    "## Part 2: Statistics for different samples\n",
    "\n",
    "In this part, I chose the $\\alpha$ ratios which performed better than others. If two sets of ratios gave the same or similar output, (such as 1.1.0 and 2.1.0 above), only one of the two was chosen. Since variation of $\\alpha_1$ does not significantly impact the answers, it is assigned the value 1. The ratios chosen for this part are 1.1.0, 1.1.1, 1.2.1 and 1.5.1. For each ratio, the MILP was run with nplasmids $\\in \\{1,2,3\\}$. In many cases, the MILP did not converge to the optimal for higher number of plasmids. \n",
    "\n",
    "A set of 10 ids was chosen to test the general performance of the MILP. These were the same ids on which Robert had previously carried out his preliminary experiments with the HyAsP greedy algorithm."
   ]
  },
  {
   "cell_type": "code",
   "execution_count": 20,
   "metadata": {},
   "outputs": [],
   "source": [
    "files = [os.path.join(dp, f) for dp, dn, filenames in os.walk(output_dir) for f in filenames if \"eval.csv\" in f]\n",
    "precs, recs, f1s = defaultdict(list), defaultdict(list), defaultdict(list)\n",
    "\n",
    "for file in files:\n",
    "    if 'sample' in file.split('/')[3]:\n",
    "        sample_id = file.split('/')[3].split('_')[1]\n",
    "        with open(file, 'r') as f:\n",
    "            for line in f:\n",
    "                if \"precision\" in line:\n",
    "                    precs = update_dict(line, precs, file, 3)\n",
    "                if \"recall\" in line:\n",
    "                    recs = update_dict(line, recs, file, 3)\n",
    "                if \"f1\" in line:\n",
    "                    f1s = update_dict(line, f1s, file, 3)\n",
    "\n",
    "#print(precs)                    \n",
    "#print(len(precs))"
   ]
  },
  {
   "cell_type": "code",
   "execution_count": 21,
   "metadata": {
    "collapsed": true
   },
   "outputs": [],
   "source": [
    "mean, best = {}, {}\n",
    "mean_scores, best_scores = [], [] \n",
    "for sample_id in precs:\n",
    "    #print(sample_id)\n",
    "    #print(precs[sample_id])\n",
    "    #print(sum(precs[sample_id]))\n",
    "    #print(len(precs[sample_id]))\n",
    "    mean[sample_id] = {}\n",
    "    mean[sample_id]['precision'] = sum(precs[sample_id])/len(precs[sample_id])\n",
    "    mean[sample_id]['recall'] = sum(recs[sample_id])/len(recs[sample_id])\n",
    "    mean[sample_id]['f1_score'] = sum(f1s[sample_id])/len(f1s[sample_id])\n",
    "    #mean = compute_mean(mean, sample_id, precs, recs, f1s)\n",
    "    mean_scores.append([sample_id, mean[sample_id]['precision'], mean[sample_id]['recall'], mean[sample_id]['f1_score']])\n",
    "\n",
    "    best[sample_id] = {}\n",
    "    best[sample_id]['precision'] = max(precs[sample_id])\n",
    "    best[sample_id]['recall'] = max(recs[sample_id])\n",
    "    best[sample_id]['f1_score'] = max(f1s[sample_id])   \n",
    "    #best = compute_max(best, sample_id, precs, recs, f1s)\n",
    "    best_scores.append([sample_id, best[sample_id]['precision'], best[sample_id]['recall'], best[sample_id]['f1_score']])\n",
    "\n",
    "mean_scores = pd.DataFrame(mean_scores)\n",
    "mean_scores.rename(columns = {0: 'Sample', 1: 'Precision', 2: 'Recall', 3: 'F1 score'}, inplace = True)\n",
    "\n",
    "best_scores = pd.DataFrame(best_scores)\n",
    "best_scores.rename(columns = {0: 'Sample', 1: 'Precision', 2: 'Recall', 3: 'F1 score'}, inplace = True)"
   ]
  },
  {
   "cell_type": "code",
   "execution_count": 22,
   "metadata": {},
   "outputs": [
    {
     "data": {
      "text/html": [
       "<div>\n",
       "<style>\n",
       "    .dataframe thead tr:only-child th {\n",
       "        text-align: right;\n",
       "    }\n",
       "\n",
       "    .dataframe thead th {\n",
       "        text-align: left;\n",
       "    }\n",
       "\n",
       "    .dataframe tbody tr th {\n",
       "        vertical-align: top;\n",
       "    }\n",
       "</style>\n",
       "<table border=\"1\" class=\"dataframe\">\n",
       "  <thead>\n",
       "    <tr style=\"text-align: right;\">\n",
       "      <th></th>\n",
       "      <th>Sample</th>\n",
       "      <th>Precision</th>\n",
       "      <th>Recall</th>\n",
       "      <th>F1 score</th>\n",
       "    </tr>\n",
       "  </thead>\n",
       "  <tbody>\n",
       "    <tr>\n",
       "      <th>0</th>\n",
       "      <td>sample_56</td>\n",
       "      <td>0.760744</td>\n",
       "      <td>0.600275</td>\n",
       "      <td>0.661956</td>\n",
       "    </tr>\n",
       "    <tr>\n",
       "      <th>1</th>\n",
       "      <td>sample_125</td>\n",
       "      <td>0.966390</td>\n",
       "      <td>0.996519</td>\n",
       "      <td>0.980513</td>\n",
       "    </tr>\n",
       "    <tr>\n",
       "      <th>2</th>\n",
       "      <td>sample_66</td>\n",
       "      <td>0.821570</td>\n",
       "      <td>0.925678</td>\n",
       "      <td>0.859620</td>\n",
       "    </tr>\n",
       "    <tr>\n",
       "      <th>3</th>\n",
       "      <td>sample_103</td>\n",
       "      <td>0.228094</td>\n",
       "      <td>0.580290</td>\n",
       "      <td>0.314628</td>\n",
       "    </tr>\n",
       "    <tr>\n",
       "      <th>4</th>\n",
       "      <td>sample_39</td>\n",
       "      <td>0.828279</td>\n",
       "      <td>0.321142</td>\n",
       "      <td>0.373770</td>\n",
       "    </tr>\n",
       "    <tr>\n",
       "      <th>5</th>\n",
       "      <td>sample_109</td>\n",
       "      <td>0.923135</td>\n",
       "      <td>0.739351</td>\n",
       "      <td>0.807197</td>\n",
       "    </tr>\n",
       "    <tr>\n",
       "      <th>6</th>\n",
       "      <td>sample_117</td>\n",
       "      <td>0.558284</td>\n",
       "      <td>0.395824</td>\n",
       "      <td>0.460433</td>\n",
       "    </tr>\n",
       "    <tr>\n",
       "      <th>7</th>\n",
       "      <td>sample_116</td>\n",
       "      <td>0.988555</td>\n",
       "      <td>0.324472</td>\n",
       "      <td>0.488577</td>\n",
       "    </tr>\n",
       "    <tr>\n",
       "      <th>8</th>\n",
       "      <td>sample_11</td>\n",
       "      <td>0.327385</td>\n",
       "      <td>0.652570</td>\n",
       "      <td>0.427112</td>\n",
       "    </tr>\n",
       "    <tr>\n",
       "      <th>9</th>\n",
       "      <td>sample_23</td>\n",
       "      <td>0.038901</td>\n",
       "      <td>0.443717</td>\n",
       "      <td>0.070864</td>\n",
       "    </tr>\n",
       "  </tbody>\n",
       "</table>\n",
       "</div>"
      ],
      "text/plain": [
       "       Sample  Precision    Recall  F1 score\n",
       "0   sample_56   0.760744  0.600275  0.661956\n",
       "1  sample_125   0.966390  0.996519  0.980513\n",
       "2   sample_66   0.821570  0.925678  0.859620\n",
       "3  sample_103   0.228094  0.580290  0.314628\n",
       "4   sample_39   0.828279  0.321142  0.373770\n",
       "5  sample_109   0.923135  0.739351  0.807197\n",
       "6  sample_117   0.558284  0.395824  0.460433\n",
       "7  sample_116   0.988555  0.324472  0.488577\n",
       "8   sample_11   0.327385  0.652570  0.427112\n",
       "9   sample_23   0.038901  0.443717  0.070864"
      ]
     },
     "execution_count": 22,
     "metadata": {},
     "output_type": "execute_result"
    }
   ],
   "source": [
    "mean_scores"
   ]
  },
  {
   "cell_type": "code",
   "execution_count": 23,
   "metadata": {},
   "outputs": [
    {
     "data": {
      "text/html": [
       "<div>\n",
       "<style>\n",
       "    .dataframe thead tr:only-child th {\n",
       "        text-align: right;\n",
       "    }\n",
       "\n",
       "    .dataframe thead th {\n",
       "        text-align: left;\n",
       "    }\n",
       "\n",
       "    .dataframe tbody tr th {\n",
       "        vertical-align: top;\n",
       "    }\n",
       "</style>\n",
       "<table border=\"1\" class=\"dataframe\">\n",
       "  <thead>\n",
       "    <tr style=\"text-align: right;\">\n",
       "      <th></th>\n",
       "      <th>Sample</th>\n",
       "      <th>Precision</th>\n",
       "      <th>Recall</th>\n",
       "      <th>F1 score</th>\n",
       "    </tr>\n",
       "  </thead>\n",
       "  <tbody>\n",
       "    <tr>\n",
       "      <th>0</th>\n",
       "      <td>sample_56</td>\n",
       "      <td>0.969493</td>\n",
       "      <td>0.880142</td>\n",
       "      <td>0.908879</td>\n",
       "    </tr>\n",
       "    <tr>\n",
       "      <th>1</th>\n",
       "      <td>sample_125</td>\n",
       "      <td>0.992355</td>\n",
       "      <td>1.000000</td>\n",
       "      <td>0.993565</td>\n",
       "    </tr>\n",
       "    <tr>\n",
       "      <th>2</th>\n",
       "      <td>sample_66</td>\n",
       "      <td>0.991442</td>\n",
       "      <td>1.000000</td>\n",
       "      <td>0.906751</td>\n",
       "    </tr>\n",
       "    <tr>\n",
       "      <th>3</th>\n",
       "      <td>sample_103</td>\n",
       "      <td>0.560874</td>\n",
       "      <td>0.901267</td>\n",
       "      <td>0.676391</td>\n",
       "    </tr>\n",
       "    <tr>\n",
       "      <th>4</th>\n",
       "      <td>sample_39</td>\n",
       "      <td>0.890843</td>\n",
       "      <td>0.833633</td>\n",
       "      <td>0.861289</td>\n",
       "    </tr>\n",
       "    <tr>\n",
       "      <th>5</th>\n",
       "      <td>sample_109</td>\n",
       "      <td>0.998338</td>\n",
       "      <td>0.992920</td>\n",
       "      <td>0.989296</td>\n",
       "    </tr>\n",
       "    <tr>\n",
       "      <th>6</th>\n",
       "      <td>sample_117</td>\n",
       "      <td>0.983546</td>\n",
       "      <td>0.569597</td>\n",
       "      <td>0.721408</td>\n",
       "    </tr>\n",
       "    <tr>\n",
       "      <th>7</th>\n",
       "      <td>sample_116</td>\n",
       "      <td>0.993844</td>\n",
       "      <td>0.324472</td>\n",
       "      <td>0.489222</td>\n",
       "    </tr>\n",
       "    <tr>\n",
       "      <th>8</th>\n",
       "      <td>sample_11</td>\n",
       "      <td>0.391231</td>\n",
       "      <td>0.957755</td>\n",
       "      <td>0.471149</td>\n",
       "    </tr>\n",
       "    <tr>\n",
       "      <th>9</th>\n",
       "      <td>sample_23</td>\n",
       "      <td>0.085449</td>\n",
       "      <td>0.845833</td>\n",
       "      <td>0.155217</td>\n",
       "    </tr>\n",
       "  </tbody>\n",
       "</table>\n",
       "</div>"
      ],
      "text/plain": [
       "       Sample  Precision    Recall  F1 score\n",
       "0   sample_56   0.969493  0.880142  0.908879\n",
       "1  sample_125   0.992355  1.000000  0.993565\n",
       "2   sample_66   0.991442  1.000000  0.906751\n",
       "3  sample_103   0.560874  0.901267  0.676391\n",
       "4   sample_39   0.890843  0.833633  0.861289\n",
       "5  sample_109   0.998338  0.992920  0.989296\n",
       "6  sample_117   0.983546  0.569597  0.721408\n",
       "7  sample_116   0.993844  0.324472  0.489222\n",
       "8   sample_11   0.391231  0.957755  0.471149\n",
       "9   sample_23   0.085449  0.845833  0.155217"
      ]
     },
     "execution_count": 23,
     "metadata": {},
     "output_type": "execute_result"
    }
   ],
   "source": [
    "best_scores"
   ]
  },
  {
   "cell_type": "code",
   "execution_count": 24,
   "metadata": {
    "collapsed": true
   },
   "outputs": [],
   "source": [
    "N = 10\n",
    "ind = np.arange(N)\n",
    "width = 0.27"
   ]
  },
  {
   "cell_type": "markdown",
   "metadata": {},
   "source": [
    "As seen in the following figure, the average recall rate is lower than 0.6 for 6 of the 10\n",
    "samples chosen. However, the precision is higher than the recall for most of the\n",
    "samples. One explanation for this is that the MILP predicts a large plasmid\n",
    "than covers a significant portion of the reference plasmid. As one of the terms\n",
    "in the objective function increases the gene density, the MILP tends to choose\n",
    "a higher length plasmid. Hopefully, this issue might be resolved in the next\n",
    "experiment, in which path constraints will be introduced."
   ]
  },
  {
   "cell_type": "code",
   "execution_count": 28,
   "metadata": {},
   "outputs": [
    {
     "data": {
      "image/png": "[encoded data removed]",
      "text/plain": [
       "<matplotlib.figure.Figure at 0x7f8417f8ce10>"
      ]
     },
     "metadata": {},
     "output_type": "display_data"
    },
    {
     "data": {
      "text/plain": [
       "<matplotlib.figure.Figure at 0x7f8417ca5c88>"
      ]
     },
     "metadata": {},
     "output_type": "display_data"
    }
   ],
   "source": [
    "fig = plt.figure()\n",
    "ax = fig.add_subplot(111)\n",
    "\n",
    "pvals = mean_scores['Precision'].values.tolist()\n",
    "rects1 = ax.bar(ind, pvals, width, color='r')\n",
    "rvals = mean_scores['Recall'].values.tolist()\n",
    "rects2 = ax.bar(ind+width, rvals, width, color='g')\n",
    "fvals = mean_scores['F1 score'].values.tolist()\n",
    "rects3 = ax.bar(ind+width*2, fvals, width, color='b')\n",
    "ids = mean_scores['Sample'].values.tolist()\n",
    "ids = [k.split('_')[1] for k in ids]\n",
    "ax.set_ylabel('Scores')\n",
    "ax.set_xticks(ind+width)\n",
    "ax.set_xticklabels( (ids[0], ids[1], ids[2], ids[3], ids[4], ids[5], ids[6], ids[7], ids[8], ids[9]) )\n",
    "ax.legend( (rects1[0], rects2[0], rects3[0]), ('Prec', 'Rec', 'F1') )\n",
    "plt.show()\n",
    "plt.savefig(os.path.join(output_dir,'mean_scores_MILP_exp1.pdf'), format = 'pdf', dpi = 1200, bbox_inches = 'tight')"
   ]
  },
  {
   "cell_type": "code",
   "execution_count": 29,
   "metadata": {},
   "outputs": [
    {
     "data": {
      "image/png": "[encoded data removed]",
      "text/plain": [
       "<matplotlib.figure.Figure at 0x7f8418003c18>"
      ]
     },
     "metadata": {},
     "output_type": "display_data"
    },
    {
     "data": {
      "text/plain": [
       "<matplotlib.figure.Figure at 0x7f8418084160>"
      ]
     },
     "metadata": {},
     "output_type": "display_data"
    }
   ],
   "source": [
    "fig = plt.figure()\n",
    "ax = fig.add_subplot(111)\n",
    "\n",
    "pvals = best_scores['Precision'].values.tolist()\n",
    "rects1 = ax.bar(ind, pvals, width, color='r')\n",
    "rvals = best_scores['Recall'].values.tolist()\n",
    "rects2 = ax.bar(ind+width, rvals, width, color='g')\n",
    "fvals = best_scores['F1 score'].values.tolist()\n",
    "rects3 = ax.bar(ind+width*2, fvals, width, color='b')\n",
    "ids = best_scores['Sample'].values.tolist()\n",
    "ids = [k.split('_')[1] for k in ids]\n",
    "ax.set_ylabel('Scores')\n",
    "ax.set_xticks(ind+width)\n",
    "ax.set_xticklabels( (ids[0], ids[1], ids[2], ids[3], ids[4], ids[5], ids[6], ids[7], ids[8], ids[9]) )\n",
    "ax.legend( (rects1[0], rects2[0], rects3[0]), ('Prec', 'Rec', 'F1') )\n",
    "plt.show()\n",
    "plt.savefig(os.path.join(output_dir,'best_scores_MILP_exp1.pdf'), format = 'pdf', dpi = 1200, bbox_inches = 'tight')"
   ]
  },
  {
   "cell_type": "code",
   "execution_count": null,
   "metadata": {
    "collapsed": true
   },
   "outputs": [],
   "source": []
  }
 ],
 "metadata": {
  "kernelspec": {
   "display_name": "Python 3",
   "language": "python",
   "name": "python3"
  },
  "language_info": {
   "codemirror_mode": {
    "name": "ipython",
    "version": 3
   },
   "file_extension": ".py",
   "mimetype": "text/x-python",
   "name": "python",
   "nbconvert_exporter": "python",
   "pygments_lexer": "ipython3",
   "version": "3.6.3"
  }
 },
 "nbformat": 4,
 "nbformat_minor": 2
}
