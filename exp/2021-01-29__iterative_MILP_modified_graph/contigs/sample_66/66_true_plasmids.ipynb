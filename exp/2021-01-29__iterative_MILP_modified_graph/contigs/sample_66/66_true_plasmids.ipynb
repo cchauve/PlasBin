{
 "cells": [
  {
   "cell_type": "markdown",
   "metadata": {},
   "source": [
    "# Details about true plasmids for sample 109"
   ]
  },
  {
   "cell_type": "code",
   "execution_count": 38,
   "metadata": {
    "collapsed": false
   },
   "outputs": [
    {
     "data": {
      "text/html": [
       "<script>\n",
       "code_show=true; \n",
       "function code_toggle() {\n",
       " if (code_show){\n",
       " $('div.input').hide();\n",
       " } else {\n",
       " $('div.input').show();\n",
       " }\n",
       " code_show = !code_show\n",
       "} \n",
       "$( document ).ready(code_toggle);\n",
       "</script>\n",
       "<form action=\"javascript:code_toggle()\"><input type=\"submit\" value=\"Click here to toggle on/off the raw code.\"></form>"
      ],
      "text/plain": [
       "<IPython.core.display.HTML object>"
      ]
     },
     "execution_count": 38,
     "metadata": {},
     "output_type": "execute_result"
    }
   ],
   "source": [
    "from IPython.display import Image\n",
    "from IPython.display import HTML\n",
    "\n",
    "HTML('''<script>\n",
    "code_show=true; \n",
    "function code_toggle() {\n",
    " if (code_show){\n",
    " $('div.input').hide();\n",
    " } else {\n",
    " $('div.input').show();\n",
    " }\n",
    " code_show = !code_show\n",
    "} \n",
    "$( document ).ready(code_toggle);\n",
    "</script>\n",
    "<form action=\"javascript:code_toggle()\"><input type=\"submit\" value=\"Click here to toggle on/off the raw code.\"></form>''')"
   ]
  },
  {
   "cell_type": "code",
   "execution_count": 1,
   "metadata": {
    "collapsed": true
   },
   "outputs": [],
   "source": [
    "from __future__ import division\n",
    "import numpy as np\n",
    "import pandas as pd\n",
    "\n",
    "def read_file(filename):\n",
    "\tstring = open(filename, \"r\").read()\n",
    "\tstring_list = string.split(\"\\n\")\n",
    "\tstring_list = [line for line in string_list if line and line[0] != '#'] #Read line only if it is nonempty and not a comment.\n",
    "\treturn string_list\n",
    "\n",
    "#Storing contig details\n",
    "#-----------------------------------------------\n",
    "#Stores the id of the contig\n",
    "def get_id(line):\n",
    "\treturn line[1]\n",
    "#Stores the nucleotide sequence of the contig\n",
    "def get_nucleotide_seq(line):\n",
    "\t#print(line[2])\n",
    "\treturn line[2]\t\t\n",
    "#Computes GC ratio: counts no. of 'G'/'C' occurences in the sequence and divide by the sequence length.\n",
    "def compute_GCratio(seq):\n",
    "\tGC = 0\n",
    "\tln_seq = 0\n",
    "\tfor nucl in seq:\n",
    "\t\tif nucl == 'G' or nucl == 'C':\n",
    "\t\t\tGC += 1\n",
    "\t\tln_seq += 1\n",
    "\treturn GC/ln_seq\n",
    "#Stores the length of the sequence\n",
    "def get_length(line):\n",
    "\treturn int(line[3].split(':')[2])\n",
    "#Stores the read depth of the contig\n",
    "def get_read_depth(line):\n",
    "\treturn float(line[4].split(':')[2])\t\t\n",
    "\n",
    "#Takes a contig from the assembly file and initiates an entry in the contigs_dict\n",
    "#Each contig is tagged with the following attributes:\n",
    "#1. Length of the contig (int)\n",
    "#2. Overall read depth of the contig (float)\n",
    "#3. Indication if the contig is a seed (binary)\n",
    "#4. GC content of the contig (float)\n",
    "#5. Gene coverage intervals (list of pairs)\n",
    "#6. Gene coverage (float)\n",
    "def update_contigs_dict(contigs_dict, line):\n",
    "\tc = get_id(line)\n",
    "\tseq = get_nucleotide_seq(line) \n",
    "\tGC_cont = compute_GCratio(seq)\n",
    "\tln = get_length(line)\n",
    "\trd = get_read_depth(line)\n",
    "\n",
    "\tcontigs_dict[c] = {}\n",
    "\tcontigs_dict[c]['Sequence'] = seq\n",
    "\tcontigs_dict[c]['Length'] = ln\n",
    "\tcontigs_dict[c]['Read_depth'] = rd\n",
    "\tcontigs_dict[c]['Seed'] = 0\t\t\t\t\t\t\t#Default\n",
    "\tcontigs_dict[c]['GC_cont'] = GC_cont\n",
    "\tcontigs_dict[c]['Gene_coverage_intervals'] = []\t\t#Default\n",
    "\tcontigs_dict[c]['Gene_coverage'] = 0\t\t\t\t#Default\n",
    "\tcontigs_dict[c]['Density'] = 0\t\t\t\t#Default\n",
    "\treturn contigs_dict\n",
    "\n",
    "#A link is of the type: ((l1, e1),(l2, e2)) \n",
    "#where l1, l2 are adjacent links and e1, e2 are the connected link extremities\n",
    "def get_link(line):\n",
    "\tc1, o1, c2, o2 = line[1], line[2], line[3], line[4]\n",
    "\tif o1 == '+':\n",
    "\t\text1 = 'h'\n",
    "\telse:\n",
    "\t\text1 = 't'\n",
    "\tif o2 == '+':\n",
    "\t\text2 = 't'\n",
    "\telse:\n",
    "\t\text2 = 'h'\n",
    "\te = ((c1, ext1),(c2, ext2))\t\n",
    "\treturn e \n",
    "\n",
    "#Reads the assembly file line by line and forwards a line \n",
    "#to update_contigs_dict or get_link depending on the entry\n",
    "def get_data(assembly_file, contigs_dict, links_list):\n",
    "\tstring_list = read_file(assembly_file)\n",
    "\tcount_s = 0\n",
    "\tcount_l = 0\n",
    "\tfor line in string_list:\n",
    "\t\tline = line.split(\"\\t\")\n",
    "\t\tif line[0] == 'S':\n",
    "\t\t\tcontigs_dict = update_contigs_dict(contigs_dict, line)\n",
    "\t\telif line[0] == 'L':\n",
    "\t\t\te = get_link(line)\n",
    "\t\t\tlinks_list.append(e)\n",
    "\treturn contigs_dict, links_list\n",
    "\n",
    "#Reads the seed file and makes a list of seeds\n",
    "def get_seeds(seeds_file, seeds_set):\n",
    "\tstring_list = read_file(seeds_file)\n",
    "\tfor line in string_list:\n",
    "\t\tline = line.split(\"\\t\")\n",
    "\t\tseeds_set.add(line[0])\n",
    "\treturn seeds_set\n",
    "\n",
    "#Takes the gene covering intervals for a contig and finds their union\n",
    "#The length of the union is used to compute gene coverage\n",
    "def get_union(intervals):\n",
    "\tunion = []\n",
    "\tfor begin, end in sorted(intervals):\n",
    "\t\tif union and union[-1][1] >= begin - 1:\n",
    "\t\t\tunion[-1][1] = max(union[-1][1], end)\n",
    "\t\telse:\n",
    "\t\t\tunion.append([begin, end])\n",
    "\treturn union\t\t\n",
    "\n",
    "#Computes the gene coverage for each contig\n",
    "def get_gene_coverage(mapping_file, contigs_dict):\n",
    "\tstring_list = read_file(mapping_file)\n",
    "\tpossible_seeds = []\n",
    "\tfor line in string_list:\n",
    "\t\tline = line.split(\"\\t\")\t\n",
    "\t\tqseqid, sseqid = line[0], line[1]\n",
    "\t\tsstart, send = line[8], line[9]\n",
    "\t\tif sseqid not in possible_seeds:\n",
    "\t\t\tpossible_seeds.append(sseqid)\n",
    "\t\tif sseqid not in contigs_dict:\n",
    "\t\t\tprint(sseqid, \"not in contigs_dict\")\n",
    "\t\telse:\n",
    "\t\t\tif int(sstart) > int(send):\n",
    "\t\t\t\tcontigs_dict[sseqid]['Gene_coverage_intervals'].append((int(send), int(sstart)))\n",
    "\t\t\telse:\n",
    "\t\t\t\tcontigs_dict[sseqid]['Gene_coverage_intervals'].append((int(sstart), int(send)))\n",
    "\n",
    "\tfor sseqid in contigs_dict:\n",
    "\t\tunion = get_union(contigs_dict[sseqid]['Gene_coverage_intervals'])\n",
    "\t\tln = contigs_dict[sseqid]['Length']\n",
    "\t\tcovered = 0\n",
    "\t\tfor interval in union:\n",
    "\t\t\tcovered += interval[1] - interval[0] + 1\n",
    "\t\tcontigs_dict[sseqid]['Gene_coverage'] = covered/ln\n",
    "\t\tif contigs_dict[sseqid]['Gene_coverage'] > 0:\n",
    "\t\t\tcontigs_dict[sseqid]['Density'] = 1\n",
    "\n",
    "\treturn contigs_dict"
   ]
  },
  {
   "cell_type": "code",
   "execution_count": 2,
   "metadata": {
    "collapsed": false
   },
   "outputs": [],
   "source": [
    "sample_id = str(109)\n",
    "\n",
    "sample_dir = '/home/aniket/python_scripts/Plasmids/data/unicycler_pipeline/'\n",
    "\n",
    "assembly_file = sample_dir + 'sample_' + sample_id + '/assembly.gfa'\n",
    "mapping_file = sample_dir + 'sample_' + sample_id + '/filtered_genes_to_contigs.csv'\n",
    "seeds_file = sample_dir + 'sample_' + sample_id + '/seed_contigs.csv'\n",
    "\n",
    "contigs_dict = {}\n",
    "links_list = []\n",
    "seeds_set = set()\n",
    "\n",
    "contigs_dict, links_list = get_data(assembly_file, contigs_dict, links_list)\n",
    "seeds_set = get_seeds(seeds_file, seeds_set)\n",
    "contigs_dict = get_gene_coverage(mapping_file, contigs_dict)"
   ]
  },
  {
   "cell_type": "code",
   "execution_count": 3,
   "metadata": {
    "collapsed": false
   },
   "outputs": [],
   "source": [
    "chain_file = 'contig_chains.csv'\n",
    "\n",
    "contig_chains = {}\n",
    "string_list = read_file(chain_file)\n",
    "for line in string_list:\n",
    "    plasmid_name = line.split(';')[0]\n",
    "    chain = line.split(';')[1]\n",
    "    contig_list = [x[:-1] for x in chain.split(',')]\n",
    "    contig_chains[plasmid_name] = contig_list   "
   ]
  },
  {
   "cell_type": "markdown",
   "metadata": {},
   "source": [
    "## Individual plasmids"
   ]
  },
  {
   "cell_type": "code",
   "execution_count": null,
   "metadata": {
    "collapsed": true
   },
   "outputs": [],
   "source": [
    "print"
   ]
  },
  {
   "cell_type": "code",
   "execution_count": 4,
   "metadata": {
    "collapsed": false
   },
   "outputs": [],
   "source": [
    "objective_values = [] \n",
    "plasmid_contigs = {}\n",
    "for plasmid in contig_chains:\n",
    "    contig_list = contig_chains[plasmid]\n",
    "    avg_gd, avg_GC, GC_pen, total_len = 0, 0, 0, 0\n",
    "    plasmid_contigs[plasmid] = []\n",
    "    for contig in contig_list:\n",
    "        plasmid_contigs[plasmid].append([contig,contigs_dict[contig]['Gene_coverage'],contigs_dict[contig]['GC_cont'],contigs_dict[contig]['Read_depth'],contigs_dict[contig]['Length']])\n",
    "        \n",
    "        total_len += contigs_dict[contig]['Length']\n",
    "        avg_gd += contigs_dict[contig]['Gene_coverage']*contigs_dict[contig]['Length']\n",
    "        avg_GC += contigs_dict[contig]['GC_cont']*contigs_dict[contig]['Length']\n",
    "    avg_gd = avg_gd/total_len\n",
    "    avg_GC = avg_GC/total_len\n",
    "    for contig in contig_list:\n",
    "        GC_pen += abs(avg_GC - contigs_dict[contig]['GC_cont'])*contigs_dict[contig]['Length']\n",
    "    GC_pen = GC_pen/total_len\n",
    "    \n",
    "    plasmid_contigs[plasmid] = pd.DataFrame(plasmid_contigs[plasmid])\n",
    "    plasmid_contigs[plasmid].rename(columns = {0: 'Contig', 1: 'Gene density', 2: 'GC content', 3: 'Read depth', 4: 'Length'}, inplace = True)  \n",
    "    \n",
    "    objective_values.append([plasmid, avg_gd, GC_pen, total_len])\n",
    "    \n",
    "objective_values = pd.DataFrame(objective_values)\n",
    "objective_values.rename(columns = {0: 'Plasmid', 1: 'Gene density', 2: 'GC penalty', 3: 'Length'}, inplace = True)  \n",
    "    "
   ]
  },
  {
   "cell_type": "code",
   "execution_count": 5,
   "metadata": {
    "collapsed": false
   },
   "outputs": [
    {
     "name": "stdout",
     "output_type": "stream",
     "text": [
      "CP012928.1\n",
      "  Contig  Gene density  GC content  Read depth  Length\n",
      "0     13      0.905524    0.503836    5.942428   52140\n",
      "1     36      0.993300    0.641541    5.978934     597\n",
      "2     26      0.886534    0.571904    5.885962    2406\n",
      "3     46      1.000000    0.556911    9.419002     246\n",
      "4     27      0.960902    0.584177    5.710028    2174\n",
      "5     36      0.993300    0.641541    5.978934     597\n",
      "6     23      0.793968    0.572381    4.864534    3150\n",
      "7     52      0.000000    0.715328    3.482479     137\n",
      "8     30      0.831629    0.555468    6.039539    1271\n",
      "9     48      1.000000    0.594059    9.919710     202\n",
      "\n",
      "\n",
      "\n",
      "CP012925.1\n",
      "  Contig  Gene density  GC content  Read depth  Length\n",
      "0     28      0.472328    0.555821   84.998749    2096\n",
      "\n",
      "\n",
      "\n",
      "CP012927.1\n",
      "  Contig  Gene density  GC content  Read depth  Length\n",
      "0     22       0.38879    0.551305   42.378017    3372\n",
      "\n",
      "\n",
      "\n",
      "CP012929.1\n",
      "   Contig  Gene density  GC content  Read depth  Length\n",
      "0      14      0.859633    0.482198    2.817867   44911\n",
      "1      49      1.000000    0.628571    3.553067     175\n",
      "2      15      0.910516    0.503598    2.920708   42242\n",
      "3      31      0.861538    0.563563    2.691413    1235\n",
      "4      15      0.910516    0.503598    2.920708   42242\n",
      "5      27      0.960902    0.584177    5.710028    2174\n",
      "6      46      1.000000    0.556911    9.419002     246\n",
      "7      24      0.922377    0.537837    2.551984    3079\n",
      "8      49      1.000000    0.628571    3.553067     175\n",
      "9      15      0.910516    0.503598    2.920708   42242\n",
      "10     39      0.919588    0.441237    3.621210     485\n",
      "11     73      0.000000    0.617021    1.096058      47\n",
      "12     37      1.000000    0.458955    3.916712     536\n",
      "\n",
      "\n",
      "\n",
      "CP012926.1\n",
      "  Contig  Gene density  GC content  Read depth  Length\n",
      "0     16      0.821763    0.411783    11.33918   37697\n",
      "\n",
      "\n",
      "\n"
     ]
    }
   ],
   "source": [
    "for plasmid in plasmid_contigs:\n",
    "    print(plasmid)\n",
    "    print(plasmid_contigs[plasmid])\n",
    "    print(\"\\n\\n\")"
   ]
  },
  {
   "cell_type": "code",
   "execution_count": 6,
   "metadata": {
    "collapsed": false
   },
   "outputs": [
    {
     "data": {
      "text/html": [
       "<div>\n",
       "<style scoped>\n",
       "    .dataframe tbody tr th:only-of-type {\n",
       "        vertical-align: middle;\n",
       "    }\n",
       "\n",
       "    .dataframe tbody tr th {\n",
       "        vertical-align: top;\n",
       "    }\n",
       "\n",
       "    .dataframe thead th {\n",
       "        text-align: right;\n",
       "    }\n",
       "</style>\n",
       "<table border=\"1\" class=\"dataframe\">\n",
       "  <thead>\n",
       "    <tr style=\"text-align: right;\">\n",
       "      <th></th>\n",
       "      <th>Plasmid</th>\n",
       "      <th>Gene density</th>\n",
       "      <th>GC penalty</th>\n",
       "      <th>Length</th>\n",
       "    </tr>\n",
       "  </thead>\n",
       "  <tbody>\n",
       "    <tr>\n",
       "      <th>0</th>\n",
       "      <td>CP012928.1</td>\n",
       "      <td>0.900000</td>\n",
       "      <td>0.022248</td>\n",
       "      <td>62920</td>\n",
       "    </tr>\n",
       "    <tr>\n",
       "      <th>1</th>\n",
       "      <td>CP012925.1</td>\n",
       "      <td>0.472328</td>\n",
       "      <td>0.000000</td>\n",
       "      <td>2096</td>\n",
       "    </tr>\n",
       "    <tr>\n",
       "      <th>2</th>\n",
       "      <td>CP012927.1</td>\n",
       "      <td>0.388790</td>\n",
       "      <td>0.000000</td>\n",
       "      <td>3372</td>\n",
       "    </tr>\n",
       "    <tr>\n",
       "      <th>3</th>\n",
       "      <td>CP012929.1</td>\n",
       "      <td>0.898631</td>\n",
       "      <td>0.009593</td>\n",
       "      <td>179789</td>\n",
       "    </tr>\n",
       "    <tr>\n",
       "      <th>4</th>\n",
       "      <td>CP012926.1</td>\n",
       "      <td>0.821763</td>\n",
       "      <td>0.000000</td>\n",
       "      <td>37697</td>\n",
       "    </tr>\n",
       "  </tbody>\n",
       "</table>\n",
       "</div>"
      ],
      "text/plain": [
       "      Plasmid  Gene density  GC penalty  Length\n",
       "0  CP012928.1      0.900000    0.022248   62920\n",
       "1  CP012925.1      0.472328    0.000000    2096\n",
       "2  CP012927.1      0.388790    0.000000    3372\n",
       "3  CP012929.1      0.898631    0.009593  179789\n",
       "4  CP012926.1      0.821763    0.000000   37697"
      ]
     },
     "execution_count": 6,
     "metadata": {},
     "output_type": "execute_result"
    }
   ],
   "source": [
    "objective_values"
   ]
  },
  {
   "cell_type": "markdown",
   "metadata": {},
   "source": [
    "# Connected components"
   ]
  },
  {
   "cell_type": "code",
   "execution_count": 17,
   "metadata": {
    "collapsed": false
   },
   "outputs": [
    {
     "name": "stdout",
     "output_type": "stream",
     "text": [
      "Intersects ['46', '27']\n",
      "[['28'], ['22'], ['15', '14', '23', '73', '13', '37', '26', '31', '39', '52', '49', '46', '36', '24', '27', '48', '30'], ['16']]\n"
     ]
    }
   ],
   "source": [
    "conn_comp = []\n",
    "for plasmid in contig_chains:\n",
    "    common = 0\n",
    "    #print(contig_chains[plasmid])\n",
    "    if len(conn_comp) == 0:\n",
    "        conn_comp.append(contig_chains[plasmid])\n",
    "    else:\n",
    "        for comp in conn_comp:\n",
    "            if len(list(set(comp) & set(contig_chains[plasmid]))) != 0:\n",
    "                print(\"Intersects\", list(set(comp) & set(contig_chains[plasmid])))\n",
    "                temp = (list(set().union(comp, contig_chains[plasmid])))\n",
    "                conn_comp.remove(comp)\n",
    "                conn_comp.append(temp)\n",
    "                common = 1\n",
    "                break\n",
    "            else:\n",
    "                common = 0\n",
    "        if common == 0:\n",
    "            conn_comp.append(contig_chains[plasmid])\n",
    "print(conn_comp)                "
   ]
  },
  {
   "cell_type": "code",
   "execution_count": null,
   "metadata": {
    "collapsed": true
   },
   "outputs": [],
   "source": []
  }
 ],
 "metadata": {
  "kernelspec": {
   "display_name": "Python 3",
   "language": "python",
   "name": "python3"
  },
  "language_info": {
   "codemirror_mode": {
    "name": "ipython",
    "version": 3
   },
   "file_extension": ".py",
   "mimetype": "text/x-python",
   "name": "python",
   "nbconvert_exporter": "python",
   "pygments_lexer": "ipython3",
   "version": "3.6.0"
  }
 },
 "nbformat": 4,
 "nbformat_minor": 2
}
