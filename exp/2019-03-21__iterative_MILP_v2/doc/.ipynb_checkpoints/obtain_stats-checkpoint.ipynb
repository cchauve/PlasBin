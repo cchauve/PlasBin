{
 "cells": [
  {
   "cell_type": "markdown",
   "metadata": {},
   "source": [
    "# Plasmids MILP experiment 3"
   ]
  },
  {
   "cell_type": "markdown",
   "metadata": {},
   "source": [
    "## Description\n",
    "\n",
    "The following describes the results of the experiment with the second version of the iterative Plasmids assembly MILP. Similar to experiment 2, the formulation has new constraints that try to determine a path. In other words, the obtained plasmid should have a single component which is path. However, these constraints are also satisfied by graphs with multiple component containing exactly 1 path and the rest as cycles. Hence, the formulation is not perfect. Second, we determine the plasmids iteratively, one at a time. The assembly graph is then updated since some of the read depth has been used for some contigs. The MILP is then run again using the updaed graph till a stopping condition has been reached. For each run, we record the average and maximum precision, recall and F1 score.\n",
    "\n",
    "In addition to these constraints, we also separate questionable plasmids away from putative plasmids. The conditions under which a plasmid is classified as putative are as follows:\n",
    "1. min_gene_density[plasmid] $>=$ 0.3\n",
    "2. min_gene_density[seed_contig] $>=$ 1.5$*$min_gene_density[plasmid] $=$ 0.45\n",
    "3. 1500 $<=$ min_length[plasmid] $<=$ 1750000\n",
    "\n",
    "The putative and questionable plasmids are then stored in different files. The results shown below are for the putative plasmids. "
   ]
  },
  {
   "cell_type": "code",
   "execution_count": 23,
   "metadata": {},
   "outputs": [
    {
     "data": {
      "text/html": [
       "<script>\n",
       "code_show=true; \n",
       "function code_toggle() {\n",
       " if (code_show){\n",
       " $('div.input').hide();\n",
       " } else {\n",
       " $('div.input').show();\n",
       " }\n",
       " code_show = !code_show\n",
       "} \n",
       "$( document ).ready(code_toggle);\n",
       "</script>\n",
       "<form action=\"javascript:code_toggle()\"><input type=\"submit\" value=\"Click here to toggle on/off the raw code.\"></form>"
      ],
      "text/plain": [
       "<IPython.core.display.HTML object>"
      ]
     },
     "execution_count": 23,
     "metadata": {},
     "output_type": "execute_result"
    }
   ],
   "source": [
    "from IPython.display import HTML\n",
    "\n",
    "HTML('''<script>\n",
    "code_show=true; \n",
    "function code_toggle() {\n",
    " if (code_show){\n",
    " $('div.input').hide();\n",
    " } else {\n",
    " $('div.input').show();\n",
    " }\n",
    " code_show = !code_show\n",
    "} \n",
    "$( document ).ready(code_toggle);\n",
    "</script>\n",
    "<form action=\"javascript:code_toggle()\"><input type=\"submit\" value=\"Click here to toggle on/off the raw code.\"></form>''')"
   ]
  },
  {
   "cell_type": "code",
   "execution_count": 1,
   "metadata": {
    "collapsed": true
   },
   "outputs": [],
   "source": [
    "import os\n",
    "from collections import defaultdict\n",
    "import matplotlib.pyplot as plt\n",
    "import numpy as np\n",
    "import pandas as pd\n",
    "plt.switch_backend('agg')\n",
    "%matplotlib inline"
   ]
  },
  {
   "cell_type": "code",
   "execution_count": 2,
   "metadata": {
    "collapsed": true
   },
   "outputs": [],
   "source": [
    "output_dir = '../output'\n",
    "greedy_dir = '../../../../Plasmids-Assembly/exp/2018-07-20__sample_analyses_greedy_strategy/greedy_v2'"
   ]
  },
  {
   "cell_type": "code",
   "execution_count": 3,
   "metadata": {
    "collapsed": true
   },
   "outputs": [],
   "source": [
    "def update_dict(line, stat_dict, file, folder_loc):\n",
    "    stat = line.split(\" \")[-1]\n",
    "    stat_dict[file.split('/')[folder_loc]].append(float(stat))\n",
    "    return stat_dict"
   ]
  },
  {
   "cell_type": "code",
   "execution_count": 4,
   "metadata": {
    "collapsed": true
   },
   "outputs": [],
   "source": [
    "def compute_mean(mean, k, precs, recs, f1s):\n",
    "    mean[k] = {}\n",
    "    mean[k]['precision'] = sum(precs[k])/len(precs[k])\n",
    "    mean[k]['recall'] = sum(recs[k])/len(recs[k])\n",
    "    mean[k]['f1_score'] = sum(f1s[k])/len(f1s[k])\n",
    "    return mean"
   ]
  },
  {
   "cell_type": "code",
   "execution_count": 5,
   "metadata": {
    "collapsed": true
   },
   "outputs": [],
   "source": [
    "def compute_max(best, k, precs, recs, f1s):\n",
    "    best[k] = {}\n",
    "    best[k]['precision'] = max(precs[k])\n",
    "    best[k]['recall'] = max(recs[k])\n",
    "    best[k]['f1_score'] = max(f1s[k])\n",
    "    return best"
   ]
  },
  {
   "cell_type": "markdown",
   "metadata": {},
   "source": [
    "## Statistics for different samples\n",
    "\n",
    "In this part, we use the same $\\alpha$ ratios as in the previous experiment (which performed better than others). The ratios chosen for this part are 1.1.0, 1.1.1, 1.2.1 and 1.5.1. For each ratio, the MILP was run with nplasmids  $=1$. In other words, although we remove one plasmid at a time in this experiment, the MILP has provisions to remove  $k>$1  plasmids in one iteration, provided convergence is reached. The main motivation behind the iterative plasmid generation approach is to help in reaching convergence by reducing the number of variables.\n",
    "\n",
    "A set of 10 ids was chosen to test the general performance of the MILP. These were the same ids as in the previous experiments.\n",
    "\n",
    "The results for the 10 chosen sample ids have been compared with the results of the greedy heuristic by Robert. The results of the greedy heuristic can be found at '/Plasmids-Assembly/exp/2018-07-20__sample_analyses_greedy_strategy/greedy_v2'."
   ]
  },
  {
   "cell_type": "code",
   "execution_count": 20,
   "metadata": {},
   "outputs": [],
   "source": [
    "files = [os.path.join(dp, f) for dp, dn, filenames in os.walk(output_dir) for f in filenames if \"eval.csv\" in f]\n",
    "precs, recs, f1s = defaultdict(list), defaultdict(list), defaultdict(list)\n",
    "prec_ratio, rec_ratio, f1_ratio = defaultdict(list), defaultdict(list), defaultdict(list)\n",
    "\n",
    "for file in files:\n",
    "    if 'sample' in file.split('/')[2]:\n",
    "        sample_id = file.split('/')[2].split('_')[1]\n",
    "        ratio = file.split('/')[3]\n",
    "        with open(file, 'r') as f:\n",
    "            for line in f:\n",
    "                if \"precision\" in line:\n",
    "                    precs = update_dict(line, precs, file, 2)\n",
    "                    prec_ratio = update_dict(line, prec_ratio, file, 3)\n",
    "                if \"recall\" in line:\n",
    "                    recs = update_dict(line, recs, file, 2)\n",
    "                    rec_ratio = update_dict(line, rec_ratio, file, 3)\n",
    "                if \"f1\" in line:\n",
    "                    f1s = update_dict(line, f1s, file, 2)\n",
    "                    f1_ratio = update_dict(line, f1_ratio, file, 3)                  "
   ]
  },
  {
   "cell_type": "code",
   "execution_count": 7,
   "metadata": {
    "collapsed": true
   },
   "outputs": [],
   "source": [
    "mean, best = {}, {}\n",
    "mean_scores, best_scores = [], [] \n",
    "for sample_id in precs:\n",
    "    mean[sample_id] = {}\n",
    "    mean[sample_id]['precision'] = sum(precs[sample_id])/len(precs[sample_id])\n",
    "    mean[sample_id]['recall'] = sum(recs[sample_id])/len(recs[sample_id])\n",
    "    mean[sample_id]['f1_score'] = sum(f1s[sample_id])/len(f1s[sample_id])\n",
    "    mean_scores.append([sample_id, mean[sample_id]['precision'], mean[sample_id]['recall'], mean[sample_id]['f1_score']])\n",
    "\n",
    "    best[sample_id] = {}\n",
    "    best[sample_id]['precision'] = max(precs[sample_id])\n",
    "    best[sample_id]['recall'] = max(recs[sample_id])\n",
    "    best[sample_id]['f1_score'] = max(f1s[sample_id])  \n",
    "    best_scores.append([sample_id, best[sample_id]['precision'], best[sample_id]['recall'], best[sample_id]['f1_score']])\n",
    "\n",
    "mean_scores = pd.DataFrame(mean_scores)\n",
    "mean_scores.rename(columns = {0: 'Sample', 1: 'Precision', 2: 'Recall', 3: 'F1 score'}, inplace = True)\n",
    "\n",
    "best_scores = pd.DataFrame(best_scores)\n",
    "best_scores.rename(columns = {0: 'Sample', 1: 'Precision', 2: 'Recall', 3: 'F1 score'}, inplace = True)"
   ]
  },
  {
   "cell_type": "markdown",
   "metadata": {},
   "source": [
    "In the following tables, the precision, recall and F1 score have been recorded. For each sample id, the MILP was run for all four ratios mentioned above and the average values over the four ratios has been stored in Table 1. Further the best values obtained over the four has been stored in Table 2. Table 3 shows the average precision, recall and F1 score for the greedy strategy."
   ]
  },
  {
   "cell_type": "markdown",
   "metadata": {},
   "source": [
    "#### Table 1: Average scores for each sample"
   ]
  },
  {
   "cell_type": "code",
   "execution_count": 8,
   "metadata": {},
   "outputs": [
    {
     "data": {
      "text/html": [
       "<div>\n",
       "<style>\n",
       "    .dataframe thead tr:only-child th {\n",
       "        text-align: right;\n",
       "    }\n",
       "\n",
       "    .dataframe thead th {\n",
       "        text-align: left;\n",
       "    }\n",
       "\n",
       "    .dataframe tbody tr th {\n",
       "        vertical-align: top;\n",
       "    }\n",
       "</style>\n",
       "<table border=\"1\" class=\"dataframe\">\n",
       "  <thead>\n",
       "    <tr style=\"text-align: right;\">\n",
       "      <th></th>\n",
       "      <th>Sample</th>\n",
       "      <th>Precision</th>\n",
       "      <th>Recall</th>\n",
       "      <th>F1 score</th>\n",
       "    </tr>\n",
       "  </thead>\n",
       "  <tbody>\n",
       "    <tr>\n",
       "      <th>0</th>\n",
       "      <td>sample_56</td>\n",
       "      <td>0.641347</td>\n",
       "      <td>0.845346</td>\n",
       "      <td>0.721386</td>\n",
       "    </tr>\n",
       "    <tr>\n",
       "      <th>1</th>\n",
       "      <td>sample_125</td>\n",
       "      <td>0.820723</td>\n",
       "      <td>0.830218</td>\n",
       "      <td>0.814052</td>\n",
       "    </tr>\n",
       "    <tr>\n",
       "      <th>2</th>\n",
       "      <td>sample_66</td>\n",
       "      <td>0.911321</td>\n",
       "      <td>0.927429</td>\n",
       "      <td>0.919287</td>\n",
       "    </tr>\n",
       "    <tr>\n",
       "      <th>3</th>\n",
       "      <td>sample_103</td>\n",
       "      <td>0.560434</td>\n",
       "      <td>0.860687</td>\n",
       "      <td>0.678832</td>\n",
       "    </tr>\n",
       "    <tr>\n",
       "      <th>4</th>\n",
       "      <td>sample_39</td>\n",
       "      <td>0.618664</td>\n",
       "      <td>0.718040</td>\n",
       "      <td>0.664061</td>\n",
       "    </tr>\n",
       "    <tr>\n",
       "      <th>5</th>\n",
       "      <td>sample_109</td>\n",
       "      <td>0.787221</td>\n",
       "      <td>0.685106</td>\n",
       "      <td>0.730738</td>\n",
       "    </tr>\n",
       "    <tr>\n",
       "      <th>6</th>\n",
       "      <td>sample_117</td>\n",
       "      <td>0.703003</td>\n",
       "      <td>0.573246</td>\n",
       "      <td>0.631375</td>\n",
       "    </tr>\n",
       "    <tr>\n",
       "      <th>7</th>\n",
       "      <td>sample_116</td>\n",
       "      <td>0.984959</td>\n",
       "      <td>0.324472</td>\n",
       "      <td>0.488135</td>\n",
       "    </tr>\n",
       "    <tr>\n",
       "      <th>8</th>\n",
       "      <td>sample_11</td>\n",
       "      <td>0.341674</td>\n",
       "      <td>0.736025</td>\n",
       "      <td>0.462638</td>\n",
       "    </tr>\n",
       "    <tr>\n",
       "      <th>9</th>\n",
       "      <td>sample_23</td>\n",
       "      <td>0.006270</td>\n",
       "      <td>0.037899</td>\n",
       "      <td>0.010189</td>\n",
       "    </tr>\n",
       "  </tbody>\n",
       "</table>\n",
       "</div>"
      ],
      "text/plain": [
       "       Sample  Precision    Recall  F1 score\n",
       "0   sample_56   0.641347  0.845346  0.721386\n",
       "1  sample_125   0.820723  0.830218  0.814052\n",
       "2   sample_66   0.911321  0.927429  0.919287\n",
       "3  sample_103   0.560434  0.860687  0.678832\n",
       "4   sample_39   0.618664  0.718040  0.664061\n",
       "5  sample_109   0.787221  0.685106  0.730738\n",
       "6  sample_117   0.703003  0.573246  0.631375\n",
       "7  sample_116   0.984959  0.324472  0.488135\n",
       "8   sample_11   0.341674  0.736025  0.462638\n",
       "9   sample_23   0.006270  0.037899  0.010189"
      ]
     },
     "execution_count": 8,
     "metadata": {},
     "output_type": "execute_result"
    }
   ],
   "source": [
    "mean_scores"
   ]
  },
  {
   "cell_type": "markdown",
   "metadata": {},
   "source": [
    "#### Table 2: Maximum scores for each sample"
   ]
  },
  {
   "cell_type": "code",
   "execution_count": 9,
   "metadata": {},
   "outputs": [
    {
     "data": {
      "text/html": [
       "<div>\n",
       "<style>\n",
       "    .dataframe thead tr:only-child th {\n",
       "        text-align: right;\n",
       "    }\n",
       "\n",
       "    .dataframe thead th {\n",
       "        text-align: left;\n",
       "    }\n",
       "\n",
       "    .dataframe tbody tr th {\n",
       "        vertical-align: top;\n",
       "    }\n",
       "</style>\n",
       "<table border=\"1\" class=\"dataframe\">\n",
       "  <thead>\n",
       "    <tr style=\"text-align: right;\">\n",
       "      <th></th>\n",
       "      <th>Sample</th>\n",
       "      <th>Precision</th>\n",
       "      <th>Recall</th>\n",
       "      <th>F1 score</th>\n",
       "    </tr>\n",
       "  </thead>\n",
       "  <tbody>\n",
       "    <tr>\n",
       "      <th>0</th>\n",
       "      <td>sample_56</td>\n",
       "      <td>0.743176</td>\n",
       "      <td>0.931326</td>\n",
       "      <td>0.734479</td>\n",
       "    </tr>\n",
       "    <tr>\n",
       "      <th>1</th>\n",
       "      <td>sample_125</td>\n",
       "      <td>0.986308</td>\n",
       "      <td>0.999986</td>\n",
       "      <td>0.990525</td>\n",
       "    </tr>\n",
       "    <tr>\n",
       "      <th>2</th>\n",
       "      <td>sample_66</td>\n",
       "      <td>0.973091</td>\n",
       "      <td>0.976130</td>\n",
       "      <td>0.974608</td>\n",
       "    </tr>\n",
       "    <tr>\n",
       "      <th>3</th>\n",
       "      <td>sample_103</td>\n",
       "      <td>0.580258</td>\n",
       "      <td>0.887455</td>\n",
       "      <td>0.701708</td>\n",
       "    </tr>\n",
       "    <tr>\n",
       "      <th>4</th>\n",
       "      <td>sample_39</td>\n",
       "      <td>0.648860</td>\n",
       "      <td>0.806992</td>\n",
       "      <td>0.719338</td>\n",
       "    </tr>\n",
       "    <tr>\n",
       "      <th>5</th>\n",
       "      <td>sample_109</td>\n",
       "      <td>0.819145</td>\n",
       "      <td>0.795114</td>\n",
       "      <td>0.806951</td>\n",
       "    </tr>\n",
       "    <tr>\n",
       "      <th>6</th>\n",
       "      <td>sample_117</td>\n",
       "      <td>0.720002</td>\n",
       "      <td>0.585002</td>\n",
       "      <td>0.642790</td>\n",
       "    </tr>\n",
       "    <tr>\n",
       "      <th>7</th>\n",
       "      <td>sample_116</td>\n",
       "      <td>0.988417</td>\n",
       "      <td>0.324472</td>\n",
       "      <td>0.488562</td>\n",
       "    </tr>\n",
       "    <tr>\n",
       "      <th>8</th>\n",
       "      <td>sample_11</td>\n",
       "      <td>0.494054</td>\n",
       "      <td>0.930881</td>\n",
       "      <td>0.641092</td>\n",
       "    </tr>\n",
       "    <tr>\n",
       "      <th>9</th>\n",
       "      <td>sample_23</td>\n",
       "      <td>0.014582</td>\n",
       "      <td>0.041593</td>\n",
       "      <td>0.021594</td>\n",
       "    </tr>\n",
       "  </tbody>\n",
       "</table>\n",
       "</div>"
      ],
      "text/plain": [
       "       Sample  Precision    Recall  F1 score\n",
       "0   sample_56   0.743176  0.931326  0.734479\n",
       "1  sample_125   0.986308  0.999986  0.990525\n",
       "2   sample_66   0.973091  0.976130  0.974608\n",
       "3  sample_103   0.580258  0.887455  0.701708\n",
       "4   sample_39   0.648860  0.806992  0.719338\n",
       "5  sample_109   0.819145  0.795114  0.806951\n",
       "6  sample_117   0.720002  0.585002  0.642790\n",
       "7  sample_116   0.988417  0.324472  0.488562\n",
       "8   sample_11   0.494054  0.930881  0.641092\n",
       "9   sample_23   0.014582  0.041593  0.021594"
      ]
     },
     "execution_count": 9,
     "metadata": {},
     "output_type": "execute_result"
    }
   ],
   "source": [
    "best_scores"
   ]
  },
  {
   "cell_type": "code",
   "execution_count": 10,
   "metadata": {
    "collapsed": true
   },
   "outputs": [],
   "source": [
    "ids = mean_scores['Sample'].values.tolist()\n",
    "greedy_files = [os.path.join(dp, f) for dp, dn, filenames in os.walk(greedy_dir) for f in filenames if \"greedy_mean.csv\" in f]\n",
    "greedy_precs, greedy_recs, greedy_f1s = defaultdict(list), defaultdict(list), defaultdict(list)\n",
    "\n",
    "count = {}\n",
    "for file in greedy_files:\n",
    "    if file.split('/')[9] in ids:\n",
    "        with open(file, 'r') as f:\n",
    "            rl, pl, fl = [], [], []\n",
    "            for line in f:\n",
    "                if \"score_ref_coverage\" in line:\n",
    "                    rl.append(line)\n",
    "                if \"score_pred_coverage\" in line:\n",
    "                    pl.append(line)\n",
    "                if \"overall_score\" in line:\n",
    "                    fl.append(line)       \n",
    "            greedy_recs = update_dict(rl[0], greedy_recs, file, 9)\n",
    "            greedy_precs = update_dict(pl[0], greedy_precs, file, 9)\n",
    "            greedy_f1s = update_dict(fl[0], greedy_f1s, file, 9)                    "
   ]
  },
  {
   "cell_type": "code",
   "execution_count": 11,
   "metadata": {
    "collapsed": true
   },
   "outputs": [],
   "source": [
    "greedy_mean = {}\n",
    "greedy_mean_scores = [] \n",
    "for sample_id in greedy_precs:\n",
    "    greedy_mean[sample_id] = {}\n",
    "    greedy_mean[sample_id]['precision'] = sum(greedy_precs[sample_id])/len(greedy_precs[sample_id])\n",
    "    greedy_mean[sample_id]['recall'] = sum(greedy_recs[sample_id])/len(greedy_recs[sample_id])\n",
    "    greedy_mean[sample_id]['f1_score'] = sum(greedy_f1s[sample_id])/len(greedy_f1s[sample_id])\n",
    "    greedy_mean_scores.append([sample_id, greedy_mean[sample_id]['precision'], greedy_mean[sample_id]['recall'], greedy_mean[sample_id]['f1_score']])\n",
    "\n",
    "greedy_mean_scores = pd.DataFrame(greedy_mean_scores)\n",
    "greedy_mean_scores.rename(columns = {0: 'Sample', 1: 'Precision', 2: 'Recall', 3: 'F1 score'}, inplace = True)"
   ]
  },
  {
   "cell_type": "markdown",
   "metadata": {},
   "source": [
    "#### Table 3: Mean scores using greedy heuristic"
   ]
  },
  {
   "cell_type": "code",
   "execution_count": 12,
   "metadata": {},
   "outputs": [
    {
     "data": {
      "text/html": [
       "<div>\n",
       "<style>\n",
       "    .dataframe thead tr:only-child th {\n",
       "        text-align: right;\n",
       "    }\n",
       "\n",
       "    .dataframe thead th {\n",
       "        text-align: left;\n",
       "    }\n",
       "\n",
       "    .dataframe tbody tr th {\n",
       "        vertical-align: top;\n",
       "    }\n",
       "</style>\n",
       "<table border=\"1\" class=\"dataframe\">\n",
       "  <thead>\n",
       "    <tr style=\"text-align: right;\">\n",
       "      <th></th>\n",
       "      <th>Sample</th>\n",
       "      <th>Precision</th>\n",
       "      <th>Recall</th>\n",
       "      <th>F1 score</th>\n",
       "    </tr>\n",
       "  </thead>\n",
       "  <tbody>\n",
       "    <tr>\n",
       "      <th>0</th>\n",
       "      <td>sample_56</td>\n",
       "      <td>1.000000</td>\n",
       "      <td>0.976956</td>\n",
       "      <td>0.988478</td>\n",
       "    </tr>\n",
       "    <tr>\n",
       "      <th>1</th>\n",
       "      <td>sample_125</td>\n",
       "      <td>1.000000</td>\n",
       "      <td>0.996320</td>\n",
       "      <td>0.998160</td>\n",
       "    </tr>\n",
       "    <tr>\n",
       "      <th>2</th>\n",
       "      <td>sample_66</td>\n",
       "      <td>1.000000</td>\n",
       "      <td>1.000000</td>\n",
       "      <td>1.000000</td>\n",
       "    </tr>\n",
       "    <tr>\n",
       "      <th>3</th>\n",
       "      <td>sample_103</td>\n",
       "      <td>0.580096</td>\n",
       "      <td>0.900643</td>\n",
       "      <td>0.740370</td>\n",
       "    </tr>\n",
       "    <tr>\n",
       "      <th>4</th>\n",
       "      <td>sample_39</td>\n",
       "      <td>0.908497</td>\n",
       "      <td>0.915360</td>\n",
       "      <td>0.911929</td>\n",
       "    </tr>\n",
       "    <tr>\n",
       "      <th>5</th>\n",
       "      <td>sample_109</td>\n",
       "      <td>1.000000</td>\n",
       "      <td>0.983308</td>\n",
       "      <td>0.991655</td>\n",
       "    </tr>\n",
       "    <tr>\n",
       "      <th>6</th>\n",
       "      <td>sample_117</td>\n",
       "      <td>0.999994</td>\n",
       "      <td>0.989847</td>\n",
       "      <td>0.994921</td>\n",
       "    </tr>\n",
       "    <tr>\n",
       "      <th>7</th>\n",
       "      <td>sample_116</td>\n",
       "      <td>1.000000</td>\n",
       "      <td>0.324472</td>\n",
       "      <td>0.662236</td>\n",
       "    </tr>\n",
       "    <tr>\n",
       "      <th>8</th>\n",
       "      <td>sample_11</td>\n",
       "      <td>0.862581</td>\n",
       "      <td>0.954005</td>\n",
       "      <td>0.908293</td>\n",
       "    </tr>\n",
       "    <tr>\n",
       "      <th>9</th>\n",
       "      <td>sample_23</td>\n",
       "      <td>0.609916</td>\n",
       "      <td>1.000000</td>\n",
       "      <td>0.804958</td>\n",
       "    </tr>\n",
       "  </tbody>\n",
       "</table>\n",
       "</div>"
      ],
      "text/plain": [
       "       Sample  Precision    Recall  F1 score\n",
       "0   sample_56   1.000000  0.976956  0.988478\n",
       "1  sample_125   1.000000  0.996320  0.998160\n",
       "2   sample_66   1.000000  1.000000  1.000000\n",
       "3  sample_103   0.580096  0.900643  0.740370\n",
       "4   sample_39   0.908497  0.915360  0.911929\n",
       "5  sample_109   1.000000  0.983308  0.991655\n",
       "6  sample_117   0.999994  0.989847  0.994921\n",
       "7  sample_116   1.000000  0.324472  0.662236\n",
       "8   sample_11   0.862581  0.954005  0.908293\n",
       "9   sample_23   0.609916  1.000000  0.804958"
      ]
     },
     "execution_count": 12,
     "metadata": {},
     "output_type": "execute_result"
    }
   ],
   "source": [
    "greedy_mean_scores"
   ]
  },
  {
   "cell_type": "code",
   "execution_count": 13,
   "metadata": {
    "collapsed": true
   },
   "outputs": [],
   "source": [
    "N = 10\n",
    "ind = np.arange(N)\n",
    "width = 0.27"
   ]
  },
  {
   "cell_type": "code",
   "execution_count": 14,
   "metadata": {},
   "outputs": [
    {
     "data": {
      "image/png": "[encoded data removed]",
      "text/plain": [
       "<matplotlib.figure.Figure at 0x7fbc4e8ff208>"
      ]
     },
     "metadata": {},
     "output_type": "display_data"
    }
   ],
   "source": [
    "fig = plt.figure()\n",
    "axp = fig.add_subplot(111)\n",
    "\n",
    "ids = mean_scores['Sample'].values.tolist()\n",
    "ids = [k.split('_')[1] for k in ids]\n",
    "\n",
    "pvals = mean_scores['Precision'].values.tolist()\n",
    "rects1 = axp.bar(ind, pvals, width, color='g')\n",
    "gpvals = greedy_mean_scores['Precision'].values.tolist()\n",
    "rects2 = axp.bar(ind+width, gpvals, width, color='r')\n",
    "\n",
    "axp.set_title('Figure 1: Average precision')\n",
    "axp.set_ylabel('Scores')\n",
    "axp.set_xticks(ind+width)\n",
    "axp.set_xticklabels( (ids[0], ids[1], ids[2], ids[3], ids[4], ids[5], ids[6], ids[7], ids[8], ids[9]) )\n",
    "axp.legend( (rects1[0], rects2[0]), ('MILP', 'Greedy') )\n",
    "\n",
    "plt.show()"
   ]
  },
  {
   "cell_type": "markdown",
   "metadata": {},
   "source": [
    "From Figures 1,2 and 3, it is clear that the greedy strategy consistently outperforms the MILP strategy. The main difference between the two methods is noticed in the average precisions. However, the results are better than the previous versions of the MILP strategy. From the last version, the acceptance criteria was improved (through segregation into putative and questionable plasmids). The next step would be to add the path constraints through iterative removal of circular segments. In order to weed out plasmids with very low mean read depths, a read depth thresold can be added as part of the criteria for putative plasmids."
   ]
  },
  {
   "cell_type": "code",
   "execution_count": 15,
   "metadata": {},
   "outputs": [
    {
     "data": {
      "image/png": "[encoded data removed]",
      "text/plain": [
       "<matplotlib.figure.Figure at 0x7fbc46a2f6d8>"
      ]
     },
     "metadata": {},
     "output_type": "display_data"
    }
   ],
   "source": [
    "N = 10\n",
    "ind = np.arange(N)\n",
    "width = 0.27\n",
    "\n",
    "fig = plt.figure()\n",
    "axr = fig.add_subplot(111)\n",
    "\n",
    "rvals = mean_scores['Recall'].values.tolist()\n",
    "rects3 = axr.bar(ind, rvals, width, color='g')\n",
    "grvals = greedy_mean_scores['Recall'].values.tolist()\n",
    "rects4 = axr.bar(ind+width, grvals, width, color='r')\n",
    "\n",
    "axr.set_title('Figure 2: Average recall')\n",
    "axr.set_ylabel('Scores')\n",
    "axr.set_xticks(ind+width)\n",
    "axr.set_xticklabels( (ids[0], ids[1], ids[2], ids[3], ids[4], ids[5], ids[6], ids[7], ids[8], ids[9]) )\n",
    "axr.legend( (rects3[0], rects4[0]), ('MILP', 'Greedy') )\n",
    "\n",
    "plt.show()"
   ]
  },
  {
   "cell_type": "code",
   "execution_count": 16,
   "metadata": {},
   "outputs": [
    {
     "data": {
      "image/png": "[encoded data removed]",
      "text/plain": [
       "<matplotlib.figure.Figure at 0x7fbc4e91b748>"
      ]
     },
     "metadata": {},
     "output_type": "display_data"
    }
   ],
   "source": [
    "N = 10\n",
    "ind = np.arange(N)\n",
    "width = 0.27\n",
    "\n",
    "fig = plt.figure()\n",
    "axf = fig.add_subplot(111)\n",
    "\n",
    "\n",
    "fvals = mean_scores['F1 score'].values.tolist()\n",
    "rects5 = axf.bar(ind, fvals, width, color='g')\n",
    "gfvals = greedy_mean_scores['F1 score'].values.tolist()\n",
    "rects6 = axf.bar(ind+width, gfvals, width, color='r')\n",
    "\n",
    "axf.set_title('Figure 3: Average F1 score')\n",
    "axf.set_ylabel('Scores')\n",
    "axf.set_xticks(ind+width)\n",
    "axf.set_xticklabels( (ids[0], ids[1], ids[2], ids[3], ids[4], ids[5], ids[6], ids[7], ids[8], ids[9]) )\n",
    "axf.legend( (rects5[0], rects6[0]), ('MILP', 'Greedy') )\n",
    "\n",
    "plt.show()"
   ]
  },
  {
   "cell_type": "code",
   "execution_count": 17,
   "metadata": {},
   "outputs": [
    {
     "data": {
      "image/png": "[encoded data removed]",
      "text/plain": [
       "<matplotlib.figure.Figure at 0x7fbc468e5780>"
      ]
     },
     "metadata": {},
     "output_type": "display_data"
    },
    {
     "data": {
      "text/plain": [
       "<matplotlib.figure.Figure at 0x7fbc4696da90>"
      ]
     },
     "metadata": {},
     "output_type": "display_data"
    }
   ],
   "source": [
    "fig = plt.figure()\n",
    "ax = fig.add_subplot(111)\n",
    "\n",
    "pvals = best_scores['Precision'].values.tolist()\n",
    "rects1 = ax.bar(ind, pvals, width, color='r')\n",
    "rvals = best_scores['Recall'].values.tolist()\n",
    "rects2 = ax.bar(ind+width, rvals, width, color='g')\n",
    "fvals = best_scores['F1 score'].values.tolist()\n",
    "rects3 = ax.bar(ind+width*2, fvals, width, color='b')\n",
    "ids = best_scores['Sample'].values.tolist()\n",
    "ids = [k.split('_')[1] for k in ids]\n",
    "ax.set_title('Figure 4: Best precision, recall and F1 score')\n",
    "ax.set_ylabel('Scores')\n",
    "ax.set_xticks(ind+width)\n",
    "ax.set_xticklabels( (ids[0], ids[1], ids[2], ids[3], ids[4], ids[5], ids[6], ids[7], ids[8], ids[9]) )\n",
    "ax.legend( (rects1[0], rects2[0], rects3[0]), ('Prec', 'Rec', 'F1') )\n",
    "plt.show()\n",
    "plt.savefig(os.path.join(output_dir,'best_scores_MILP_exp-1.pdf'), format = 'pdf', dpi = 1200, bbox_inches = 'tight')"
   ]
  },
  {
   "cell_type": "markdown",
   "metadata": {
    "collapsed": true
   },
   "source": [
    "## Identifying the best ratio of coefficients in the objective function"
   ]
  },
  {
   "cell_type": "code",
   "execution_count": 21,
   "metadata": {
    "collapsed": true
   },
   "outputs": [],
   "source": [
    "ratio_mean = {}\n",
    "ratio_mean_scores = [] \n",
    "for ratio in prec_ratio:\n",
    "    ratio_mean[ratio] = {}\n",
    "    ratio_mean[ratio]['precision'] = sum(prec_ratio[ratio])/len(prec_ratio[ratio])\n",
    "    ratio_mean[ratio]['recall'] = sum(rec_ratio[ratio])/len(rec_ratio[ratio])\n",
    "    ratio_mean[ratio]['f1_score'] = sum(f1_ratio[ratio])/len(f1_ratio[ratio])\n",
    "    ratio_mean_scores.append([ratio, ratio_mean[ratio]['precision'], ratio_mean[ratio]['recall'], ratio_mean[ratio]['f1_score']])\n",
    "\n",
    "ratio_mean_scores = pd.DataFrame(ratio_mean_scores)\n",
    "ratio_mean_scores.rename(columns = {0: 'Ratio', 1: 'Precision', 2: 'Recall', 3: 'F1 score'}, inplace = True)"
   ]
  },
  {
   "cell_type": "markdown",
   "metadata": {},
   "source": [
    "#### Table 4: Precision, recall and F1 score for various ratios"
   ]
  },
  {
   "cell_type": "code",
   "execution_count": 22,
   "metadata": {},
   "outputs": [
    {
     "data": {
      "text/html": [
       "<div>\n",
       "<style>\n",
       "    .dataframe thead tr:only-child th {\n",
       "        text-align: right;\n",
       "    }\n",
       "\n",
       "    .dataframe thead th {\n",
       "        text-align: left;\n",
       "    }\n",
       "\n",
       "    .dataframe tbody tr th {\n",
       "        vertical-align: top;\n",
       "    }\n",
       "</style>\n",
       "<table border=\"1\" class=\"dataframe\">\n",
       "  <thead>\n",
       "    <tr style=\"text-align: right;\">\n",
       "      <th></th>\n",
       "      <th>Ratio</th>\n",
       "      <th>Precision</th>\n",
       "      <th>Recall</th>\n",
       "      <th>F1 score</th>\n",
       "    </tr>\n",
       "  </thead>\n",
       "  <tbody>\n",
       "    <tr>\n",
       "      <th>0</th>\n",
       "      <td>1.1.0</td>\n",
       "      <td>0.635821</td>\n",
       "      <td>0.626794</td>\n",
       "      <td>0.604377</td>\n",
       "    </tr>\n",
       "    <tr>\n",
       "      <th>1</th>\n",
       "      <td>1.2.1</td>\n",
       "      <td>0.606279</td>\n",
       "      <td>0.609985</td>\n",
       "      <td>0.566058</td>\n",
       "    </tr>\n",
       "    <tr>\n",
       "      <th>2</th>\n",
       "      <td>1.1.1</td>\n",
       "      <td>0.653550</td>\n",
       "      <td>0.669891</td>\n",
       "      <td>0.627622</td>\n",
       "    </tr>\n",
       "    <tr>\n",
       "      <th>3</th>\n",
       "      <td>1.5.1</td>\n",
       "      <td>0.654595</td>\n",
       "      <td>0.708719</td>\n",
       "      <td>0.650221</td>\n",
       "    </tr>\n",
       "  </tbody>\n",
       "</table>\n",
       "</div>"
      ],
      "text/plain": [
       "   Ratio  Precision    Recall  F1 score\n",
       "0  1.1.0   0.635821  0.626794  0.604377\n",
       "1  1.2.1   0.606279  0.609985  0.566058\n",
       "2  1.1.1   0.653550  0.669891  0.627622\n",
       "3  1.5.1   0.654595  0.708719  0.650221"
      ]
     },
     "execution_count": 22,
     "metadata": {},
     "output_type": "execute_result"
    }
   ],
   "source": [
    "ratio_mean_scores"
   ]
  },
  {
   "cell_type": "markdown",
   "metadata": {},
   "source": [
    "From Table 4, we can see that ratio $\\alpha_1:\\alpha_2:\\alpha_3 = 1:5:1$ marginally outperforms the ratio $\\alpha_1:\\alpha_2:\\alpha_3 = 1:1:1$. This suggests a possibility that more weightage to $\\alpha_2$ (weighted average of gene coverage of a plasmid) may improve the results. Since the other two ratios do not perform well, they could be replaced with ratios giving higher weightage to $\\alpha_2$ in order to see if the performance consistently improves with $\\alpha_2$."
   ]
  },
  {
   "cell_type": "code",
   "execution_count": null,
   "metadata": {
    "collapsed": true
   },
   "outputs": [],
   "source": []
  }
 ],
 "metadata": {
  "kernelspec": {
   "display_name": "Python 3",
   "language": "python",
   "name": "python3"
  },
  "language_info": {
   "codemirror_mode": {
    "name": "ipython",
    "version": 3
   },
   "file_extension": ".py",
   "mimetype": "text/x-python",
   "name": "python",
   "nbconvert_exporter": "python",
   "pygments_lexer": "ipython3",
   "version": "3.6.3"
  }
 },
 "nbformat": 4,
 "nbformat_minor": 2
}
