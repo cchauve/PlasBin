{
 "cells": [
  {
   "cell_type": "markdown",
   "metadata": {},
   "source": [
    "# Plasmids MILP experiment 3\n",
    "\n",
    "## Description\n",
    "\n",
    "The following describes the experiment with iterative Plasmids assembly MILP with additional constraints to remove cycles. The plasmids obtained in this experiment have exactly one component each and the component is a path. This has been achieved by adding two types of constraints:\n",
    "1. The number of contigs in the plasmid should be exactly one more than the number of links in the plasmid.\n",
    "2. However, the first constraint can also be satisfied by graphs with multiple component containing exactly 1 path and the rest as cycles. Hence, we add constraints to remove any cyclic sequence of contigs in the plasmid. The resulting plasmid will contain exactly one path. \n",
    "As the number of cycles generated can be exponential, we add the second type of constraints iteratively as we identify a cyclic sequence. So, for instance, for a plasmid $p$, let $\\{a,b,c,d\\}$ be contigs involved in a cycle and $\\{a_hb_h,b_tc_t,c_hd_t,d_ha_t\\}$ be the links in the cycle, we add exactly one constraint:\n",
    "\n",
    "links[$p$][$a_hb_h$] + links[$p$][$a_hb_h$] + links[$p$][$a_hb_h$] + links[$p$][$a_hb_h$] $\\leq$ 3\n",
    "\n",
    "If the number of such constraints is greater than 50 (which seems to happen frequently), the linearization is performed greedily removing the least weighted link in each remaining cycle.\n",
    "\n",
    "We continue to determine the plasmids iteratively and the assembly graph is updated to accommodate reduction in read depths for the contigs involved. The MILP is then run again using the updaed graph till a stopping condition has been reached. For each run, we record the average and maximum precision, recall and F1 score.\n",
    "\n",
    "In addition to these constraints, we also separate questionable plasmids away from putative plasmids. The conditions under which a plasmid is classified as putative are as follows:\n",
    "\n",
    "1. min_gene_density[plasmid] $\\geq$ 0.3\n",
    "2. min_gene_density[seed_contig] $\\geq$ 1.5$*$min_gene_density[plasmid] $=$ 0.45\n",
    "3. 1500 $\\leq$ min_length[plasmid] $\\leq$ 1750000"
   ]
  },
  {
   "cell_type": "code",
   "execution_count": null,
   "metadata": {
    "collapsed": true
   },
   "outputs": [],
   "source": []
  }
 ],
 "metadata": {
  "kernelspec": {
   "display_name": "Python 3",
   "language": "python",
   "name": "python3"
  },
  "language_info": {
   "codemirror_mode": {
    "name": "ipython",
    "version": 3
   },
   "file_extension": ".py",
   "mimetype": "text/x-python",
   "name": "python",
   "nbconvert_exporter": "python",
   "pygments_lexer": "ipython3",
   "version": "3.6.3"
  }
 },
 "nbformat": 4,
 "nbformat_minor": 2
}
