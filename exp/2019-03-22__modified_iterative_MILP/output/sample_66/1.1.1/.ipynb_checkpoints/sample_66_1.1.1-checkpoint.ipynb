{
 "cells": [
  {
   "cell_type": "markdown",
   "metadata": {},
   "source": [
    "# Performance of MILP on sample 66 with $\\alpha_1 = 1$, $\\alpha_2 = 1$ and $\\alpha_3 = 1$"
   ]
  },
  {
   "cell_type": "code",
   "execution_count": 1,
   "metadata": {},
   "outputs": [
    {
     "data": {
      "text/html": [
       "<script>\n",
       "code_show=true; \n",
       "function code_toggle() {\n",
       " if (code_show){\n",
       " $('div.input').hide();\n",
       " } else {\n",
       " $('div.input').show();\n",
       " }\n",
       " code_show = !code_show\n",
       "} \n",
       "$( document ).ready(code_toggle);\n",
       "</script>\n",
       "<form action=\"javascript:code_toggle()\"><input type=\"submit\" value=\"Click here to toggle on/off the raw code.\"></form>"
      ],
      "text/plain": [
       "<IPython.core.display.HTML object>"
      ]
     },
     "execution_count": 1,
     "metadata": {},
     "output_type": "execute_result"
    }
   ],
   "source": [
    "from IPython.display import Image\n",
    "from IPython.display import HTML\n",
    "\n",
    "HTML('''<script>\n",
    "code_show=true; \n",
    "function code_toggle() {\n",
    " if (code_show){\n",
    " $('div.input').hide();\n",
    " } else {\n",
    " $('div.input').show();\n",
    " }\n",
    " code_show = !code_show\n",
    "} \n",
    "$( document ).ready(code_toggle);\n",
    "</script>\n",
    "<form action=\"javascript:code_toggle()\"><input type=\"submit\" value=\"Click here to toggle on/off the raw code.\"></form>''')"
   ]
  },
  {
   "cell_type": "code",
   "execution_count": 2,
   "metadata": {
    "collapsed": true
   },
   "outputs": [],
   "source": [
    "import linecache\n",
    "import matplotlib.pyplot as plt\n",
    "import numpy as np\n",
    "import pandas as pd\n",
    "pd.options.display.max_columns = None\n",
    "\n",
    "from IPython.display import Image"
   ]
  },
  {
   "cell_type": "code",
   "execution_count": 3,
   "metadata": {
    "collapsed": true
   },
   "outputs": [],
   "source": [
    "def parse_structure(filename):\n",
    "    with open(filename) as file:\n",
    "        lines = file.readlines()\n",
    "        for i, line in enumerate(lines):\n",
    "            # number of reference chromosomes:\n",
    "            if line.startswith('number of reference c'):\n",
    "                skip_ref_chromosomes = i + 1\n",
    "                continue\n",
    "                \n",
    "            # number of reference plasmids:\n",
    "            if line.startswith('number of reference p'):\n",
    "                skip_ref_plasmids = i + 1\n",
    "                continue\n",
    "                \n",
    "            # number of predicted plasmids:\n",
    "            if line.startswith('number of p'):\n",
    "                skip_pred_plasmids = i + 1\n",
    "                continue\n",
    "            \n",
    "            # > predicted plasmid covers <proportion> of reference plasmid\n",
    "            if line.startswith('> pr'):\n",
    "                skip_ref_by_pred = i + 1\n",
    "                continue\n",
    "            \n",
    "            # > reference plasmid covers <proportion> of predicted plasmid\n",
    "            if line.startswith('> r'):\n",
    "                skip_pred_by_ref = i + 1\n",
    "                continue\n",
    "                \n",
    "            # > in total, how much of predicted plasmid is covered by reference plasmids\n",
    "            if line.startswith('> in total, how much of p'):\n",
    "                skip_pred_by_all = i + 1\n",
    "                continue\n",
    "                \n",
    "            # > in total, how much of reference plasmid is covered by predicted plasmids\n",
    "            if line.startswith('> in total, how much of r'):\n",
    "                skip_ref_by_all = i + 1\n",
    "                continue\n",
    "            \n",
    "            # > pairs of predicted and reference plasmids with coverage >= ... in both directions\n",
    "            if line.startswith('> pa'):\n",
    "                skip_mutual = i + 1\n",
    "                continue\n",
    "            \n",
    "            # > summary scores\n",
    "            if line.startswith('> s'):\n",
    "                skip_summary_scores = i + 1\n",
    "                break\n",
    "        \n",
    "        return skip_ref_chromosomes, skip_ref_plasmids, skip_pred_plasmids, skip_ref_by_pred, skip_pred_by_ref, \\\n",
    "                skip_pred_by_all, skip_ref_by_all, skip_mutual, skip_summary_scores\n",
    "\n",
    "def read_table(file, skip_rows, num_rows, h = 0, s = '\\t', col_sums = False, renaming = {}):\n",
    "    df = pd.read_csv(file, skiprows = skip_rows, nrows = num_rows, sep = s, header = h)\n",
    "    if col_sums:\n",
    "        df.loc[len(df.index)] = ['Total'] + list(df.drop(df.columns[0], axis = 1).sum())\n",
    "    df.rename(columns = renaming, inplace = True)\n",
    "    return df\n",
    "\n",
    "def list_plasmids(file, skip_rows, num_rows):\n",
    "    df = read_table(file, skip_rows, num_rows, h = None, s = ' ', renaming = {0: 'plasmid', 1: 'length (nt)'})\n",
    "    df.plasmid = [v[1:-1] for v in df.plasmid]\n",
    "    return df[['plasmid', 'length (nt)']]\n",
    "\n",
    "def list_scores(file, skip_rows, num_rows):\n",
    "    df = read_table(file, skip_rows, num_rows, h = None, s = ' ', renaming = {0: 'score', 1: 'value'})\n",
    "    df['score'] = [v[:-1].replace('score_ref_coverage', 'recall').replace('score_pred_coverage', 'precision').replace('overall_score', 'overall') for v in df['score']]\n",
    "    return df\n",
    "\n",
    "def list_correspondences(file, skip_rows, num_rows):\n",
    "    first_line = linecache.getline(file, skip_rows + 1).strip()\n",
    "    if first_line == 'none':\n",
    "        print('No high mutual correspondence found.')\n",
    "        #return pd.DataFrame({'reference': [], 'prediction': [], 'recall': [], 'precision': []})\n",
    "    else:        \n",
    "        df = read_table(file, skip_rows, num_rows, h = None, s = ' ', renaming = {0: 'reference', 2: 'prediction', 3: 'recall', 5: 'precision'})\n",
    "        df['recall'] = [float(v[1:]) for v in df['recall']]\n",
    "        df['precision'] = [float(v[:-1]) for v in df['precision']]\n",
    "        return df[['reference', 'prediction', 'recall', 'precision']]\n",
    "    \n",
    "def plot_scores(information, score_labels):\n",
    "    # information = list of tuples of from (file, label)\n",
    "    pos = list(range(len(score_labels)))\n",
    "    width = 1 / (len(information) + 2)\n",
    "\n",
    "    fig, ax = plt.subplots(figsize = (10, 5))\n",
    "\n",
    "    offset = -len(information) / 2\n",
    "    for file, lab in information:\n",
    "        plt.bar([p + offset * width for p in pos], list_scores(file, parse_structure(file)[-1], len(score_labels))['value'], width, label = lab)\n",
    "        offset += 1\n",
    "\n",
    "    ax.set_ylabel('score')\n",
    "    ax.set_xticks([p - 0.5 * width for p in pos])\n",
    "    ax.set_xticklabels(score_labels)\n",
    "    ax.legend(bbox_to_anchor = (1, 0.5))\n",
    "\n",
    "    plt.grid()\n",
    "    plt.show()"
   ]
  },
  {
   "cell_type": "markdown",
   "metadata": {},
   "source": [
    "*Precision*: proportion of predicted plasmid covered by reference plasmids (aka score_pred_coverage).\n",
    "\n",
    "*Recall*: proportion of reference plasmid covered by predicted plasmids (aka score_ref_coverage)."
   ]
  },
  {
   "cell_type": "code",
   "execution_count": 4,
   "metadata": {
    "collapsed": true
   },
   "outputs": [],
   "source": [
    "score_labels = ['recall', 'precision', 'overall']\n",
    "\n",
    "# evaluation files\n",
    "sample_id = 66\n",
    "MILP = \"nplasmids_1/eval/MILP/MILP_eval.csv\"\n",
    "greedy_mean = \"../../../../../../Plasmids-Assembly/exp/2018-07-20__sample_analyses_greedy_strategy/greedy_v2/L111/sample_%i/%i_greedy_mean.csv\" % (sample_id, sample_id)\n",
    "\n",
    "# reference information\n",
    "_, skip_ref_plasmids, skip_pred_plasmids, _, _, _, _, _, _ = parse_structure(greedy_mean)\n",
    "num_ref_plasmids = skip_pred_plasmids - skip_ref_plasmids - 3"
   ]
  },
  {
   "cell_type": "markdown",
   "metadata": {},
   "source": [
    "#### List of reference plasmids"
   ]
  },
  {
   "cell_type": "code",
   "execution_count": 5,
   "metadata": {},
   "outputs": [
    {
     "data": {
      "text/html": [
       "<div>\n",
       "<style>\n",
       "    .dataframe thead tr:only-child th {\n",
       "        text-align: right;\n",
       "    }\n",
       "\n",
       "    .dataframe thead th {\n",
       "        text-align: left;\n",
       "    }\n",
       "\n",
       "    .dataframe tbody tr th {\n",
       "        vertical-align: top;\n",
       "    }\n",
       "</style>\n",
       "<table border=\"1\" class=\"dataframe\">\n",
       "  <thead>\n",
       "    <tr style=\"text-align: right;\">\n",
       "      <th></th>\n",
       "      <th>plasmid</th>\n",
       "      <th>length (nt)</th>\n",
       "    </tr>\n",
       "  </thead>\n",
       "  <tbody>\n",
       "    <tr>\n",
       "      <th>0</th>\n",
       "      <td>CP016924.1</td>\n",
       "      <td>111539</td>\n",
       "    </tr>\n",
       "    <tr>\n",
       "      <th>1</th>\n",
       "      <td>CP016925.1</td>\n",
       "      <td>63291</td>\n",
       "    </tr>\n",
       "    <tr>\n",
       "      <th>2</th>\n",
       "      <td>CP016927.1</td>\n",
       "      <td>72093</td>\n",
       "    </tr>\n",
       "  </tbody>\n",
       "</table>\n",
       "</div>"
      ],
      "text/plain": [
       "      plasmid  length (nt)\n",
       "0  CP016924.1       111539\n",
       "1  CP016925.1        63291\n",
       "2  CP016927.1        72093"
      ]
     },
     "execution_count": 5,
     "metadata": {},
     "output_type": "execute_result"
    }
   ],
   "source": [
    "list_plasmids(greedy_mean, skip_ref_plasmids, num_ref_plasmids)"
   ]
  },
  {
   "cell_type": "markdown",
   "metadata": {},
   "source": [
    "#### Overview of the scores on this sample for the different tools"
   ]
  },
  {
   "cell_type": "code",
   "execution_count": 6,
   "metadata": {},
   "outputs": [
    {
     "data": {
      "image/png": "[encoded data removed]",
      "text/plain": [
       "<matplotlib.figure.Figure at 0x7f75773c9828>"
      ]
     },
     "metadata": {},
     "output_type": "display_data"
    }
   ],
   "source": [
    "plot_scores([(greedy_mean, 'greedy (mean, plasmids)'), (MILP, 'MILP (1:1:1)')], score_labels)"
   ]
  },
  {
   "cell_type": "markdown",
   "metadata": {},
   "source": [
    "## MILP output details"
   ]
  },
  {
   "cell_type": "code",
   "execution_count": 7,
   "metadata": {
    "collapsed": true
   },
   "outputs": [],
   "source": [
    "_, _, skip_pred_plasmids, skip_ref_by_pred, skip_pred_by_ref, skip_pred_by_all, skip_ref_by_all, \\\n",
    "    skip_mutual, skip_summary_scores = parse_structure(MILP)\n",
    "num_pred_plasmids = skip_ref_by_pred - skip_pred_plasmids - 2\n",
    "num_mutual = skip_summary_scores - skip_mutual - 2"
   ]
  },
  {
   "cell_type": "markdown",
   "metadata": {},
   "source": [
    "#### List of predicted plasmids"
   ]
  },
  {
   "cell_type": "code",
   "execution_count": 8,
   "metadata": {},
   "outputs": [
    {
     "data": {
      "text/html": [
       "<div>\n",
       "<style>\n",
       "    .dataframe thead tr:only-child th {\n",
       "        text-align: right;\n",
       "    }\n",
       "\n",
       "    .dataframe thead th {\n",
       "        text-align: left;\n",
       "    }\n",
       "\n",
       "    .dataframe tbody tr th {\n",
       "        vertical-align: top;\n",
       "    }\n",
       "</style>\n",
       "<table border=\"1\" class=\"dataframe\">\n",
       "  <thead>\n",
       "    <tr style=\"text-align: right;\">\n",
       "      <th></th>\n",
       "      <th>plasmid</th>\n",
       "      <th>length (nt)</th>\n",
       "    </tr>\n",
       "  </thead>\n",
       "  <tbody>\n",
       "    <tr>\n",
       "      <th>0</th>\n",
       "      <td>plasmid_0</td>\n",
       "      <td>66705</td>\n",
       "    </tr>\n",
       "    <tr>\n",
       "      <th>1</th>\n",
       "      <td>plasmid_1</td>\n",
       "      <td>11428</td>\n",
       "    </tr>\n",
       "    <tr>\n",
       "      <th>2</th>\n",
       "      <td>plasmid_2</td>\n",
       "      <td>1978</td>\n",
       "    </tr>\n",
       "    <tr>\n",
       "      <th>3</th>\n",
       "      <td>plasmid_3</td>\n",
       "      <td>2535</td>\n",
       "    </tr>\n",
       "    <tr>\n",
       "      <th>4</th>\n",
       "      <td>plasmid_4</td>\n",
       "      <td>5860</td>\n",
       "    </tr>\n",
       "  </tbody>\n",
       "</table>\n",
       "</div>"
      ],
      "text/plain": [
       "     plasmid  length (nt)\n",
       "0  plasmid_0        66705\n",
       "1  plasmid_1        11428\n",
       "2  plasmid_2         1978\n",
       "3  plasmid_3         2535\n",
       "4  plasmid_4         5860"
      ]
     },
     "execution_count": 8,
     "metadata": {},
     "output_type": "execute_result"
    }
   ],
   "source": [
    "list_plasmids(MILP, skip_pred_plasmids, num_pred_plasmids)"
   ]
  },
  {
   "cell_type": "markdown",
   "metadata": {},
   "source": [
    "#### Precision and recall"
   ]
  },
  {
   "cell_type": "code",
   "execution_count": 9,
   "metadata": {},
   "outputs": [
    {
     "data": {
      "text/html": [
       "<div>\n",
       "<style>\n",
       "    .dataframe thead tr:only-child th {\n",
       "        text-align: right;\n",
       "    }\n",
       "\n",
       "    .dataframe thead th {\n",
       "        text-align: left;\n",
       "    }\n",
       "\n",
       "    .dataframe tbody tr th {\n",
       "        vertical-align: top;\n",
       "    }\n",
       "</style>\n",
       "<table border=\"1\" class=\"dataframe\">\n",
       "  <thead>\n",
       "    <tr style=\"text-align: right;\">\n",
       "      <th></th>\n",
       "      <th>score</th>\n",
       "      <th>value</th>\n",
       "    </tr>\n",
       "  </thead>\n",
       "  <tbody>\n",
       "    <tr>\n",
       "      <th>0</th>\n",
       "      <td>recall</td>\n",
       "      <td>0.213075</td>\n",
       "    </tr>\n",
       "    <tr>\n",
       "      <th>1</th>\n",
       "      <td>precision</td>\n",
       "      <td>0.502734</td>\n",
       "    </tr>\n",
       "    <tr>\n",
       "      <th>2</th>\n",
       "      <td>f1_score</td>\n",
       "      <td>0.299297</td>\n",
       "    </tr>\n",
       "  </tbody>\n",
       "</table>\n",
       "</div>"
      ],
      "text/plain": [
       "       score     value\n",
       "0     recall  0.213075\n",
       "1  precision  0.502734\n",
       "2   f1_score  0.299297"
      ]
     },
     "execution_count": 9,
     "metadata": {},
     "output_type": "execute_result"
    }
   ],
   "source": [
    "list_scores(MILP, skip_summary_scores, len(score_labels))"
   ]
  },
  {
   "cell_type": "markdown",
   "metadata": {},
   "source": [
    "#### Proportion of reference plasmid (column) covered by individual predicted plasmid (row)"
   ]
  },
  {
   "cell_type": "code",
   "execution_count": 10,
   "metadata": {},
   "outputs": [
    {
     "data": {
      "text/html": [
       "<div>\n",
       "<style>\n",
       "    .dataframe thead tr:only-child th {\n",
       "        text-align: right;\n",
       "    }\n",
       "\n",
       "    .dataframe thead th {\n",
       "        text-align: left;\n",
       "    }\n",
       "\n",
       "    .dataframe tbody tr th {\n",
       "        vertical-align: top;\n",
       "    }\n",
       "</style>\n",
       "<table border=\"1\" class=\"dataframe\">\n",
       "  <thead>\n",
       "    <tr style=\"text-align: right;\">\n",
       "      <th></th>\n",
       "      <th>predicted</th>\n",
       "      <th>CP016924.1</th>\n",
       "      <th>CP016925.1</th>\n",
       "      <th>CP016927.1</th>\n",
       "    </tr>\n",
       "  </thead>\n",
       "  <tbody>\n",
       "    <tr>\n",
       "      <th>0</th>\n",
       "      <td>plasmid_0</td>\n",
       "      <td>0.0</td>\n",
       "      <td>0.091403</td>\n",
       "      <td>0.357025</td>\n",
       "    </tr>\n",
       "    <tr>\n",
       "      <th>1</th>\n",
       "      <td>plasmid_1</td>\n",
       "      <td>0.0</td>\n",
       "      <td>0.232055</td>\n",
       "      <td>0.015411</td>\n",
       "    </tr>\n",
       "    <tr>\n",
       "      <th>2</th>\n",
       "      <td>plasmid_2</td>\n",
       "      <td>0.0</td>\n",
       "      <td>0.000000</td>\n",
       "      <td>0.033318</td>\n",
       "    </tr>\n",
       "    <tr>\n",
       "      <th>3</th>\n",
       "      <td>plasmid_3</td>\n",
       "      <td>0.0</td>\n",
       "      <td>0.027081</td>\n",
       "      <td>0.037438</td>\n",
       "    </tr>\n",
       "    <tr>\n",
       "      <th>4</th>\n",
       "      <td>plasmid_4</td>\n",
       "      <td>0.0</td>\n",
       "      <td>0.171494</td>\n",
       "      <td>0.039824</td>\n",
       "    </tr>\n",
       "    <tr>\n",
       "      <th>5</th>\n",
       "      <td>Total</td>\n",
       "      <td>0.0</td>\n",
       "      <td>0.522033</td>\n",
       "      <td>0.483015</td>\n",
       "    </tr>\n",
       "  </tbody>\n",
       "</table>\n",
       "</div>"
      ],
      "text/plain": [
       "   predicted  CP016924.1  CP016925.1  CP016927.1\n",
       "0  plasmid_0         0.0    0.091403    0.357025\n",
       "1  plasmid_1         0.0    0.232055    0.015411\n",
       "2  plasmid_2         0.0    0.000000    0.033318\n",
       "3  plasmid_3         0.0    0.027081    0.037438\n",
       "4  plasmid_4         0.0    0.171494    0.039824\n",
       "5      Total         0.0    0.522033    0.483015"
      ]
     },
     "execution_count": 10,
     "metadata": {},
     "output_type": "execute_result"
    }
   ],
   "source": [
    "read_table(MILP, skip_ref_by_pred, num_pred_plasmids, renaming = {'Unnamed: 0': 'predicted'}, col_sums = True)"
   ]
  },
  {
   "cell_type": "markdown",
   "metadata": {},
   "source": [
    "#### Proportion of predicted plasmid (column) covered by individual reference plasmid (row)"
   ]
  },
  {
   "cell_type": "code",
   "execution_count": 11,
   "metadata": {},
   "outputs": [
    {
     "data": {
      "text/html": [
       "<div>\n",
       "<style>\n",
       "    .dataframe thead tr:only-child th {\n",
       "        text-align: right;\n",
       "    }\n",
       "\n",
       "    .dataframe thead th {\n",
       "        text-align: left;\n",
       "    }\n",
       "\n",
       "    .dataframe tbody tr th {\n",
       "        vertical-align: top;\n",
       "    }\n",
       "</style>\n",
       "<table border=\"1\" class=\"dataframe\">\n",
       "  <thead>\n",
       "    <tr style=\"text-align: right;\">\n",
       "      <th></th>\n",
       "      <th>reference</th>\n",
       "      <th>plasmid_0</th>\n",
       "      <th>plasmid_1</th>\n",
       "      <th>plasmid_2</th>\n",
       "      <th>plasmid_3</th>\n",
       "      <th>plasmid_4</th>\n",
       "    </tr>\n",
       "  </thead>\n",
       "  <tbody>\n",
       "    <tr>\n",
       "      <th>0</th>\n",
       "      <td>CP016924.1</td>\n",
       "      <td>0.000000</td>\n",
       "      <td>0.000000</td>\n",
       "      <td>0.000000</td>\n",
       "      <td>0.000000</td>\n",
       "      <td>0.000000</td>\n",
       "    </tr>\n",
       "    <tr>\n",
       "      <th>1</th>\n",
       "      <td>CP016925.1</td>\n",
       "      <td>0.039427</td>\n",
       "      <td>1.000000</td>\n",
       "      <td>0.000000</td>\n",
       "      <td>0.676134</td>\n",
       "      <td>1.000000</td>\n",
       "    </tr>\n",
       "    <tr>\n",
       "      <th>2</th>\n",
       "      <td>CP016927.1</td>\n",
       "      <td>0.364171</td>\n",
       "      <td>0.087679</td>\n",
       "      <td>0.607179</td>\n",
       "      <td>0.676134</td>\n",
       "      <td>0.303413</td>\n",
       "    </tr>\n",
       "    <tr>\n",
       "      <th>3</th>\n",
       "      <td>Total</td>\n",
       "      <td>0.403598</td>\n",
       "      <td>1.087679</td>\n",
       "      <td>0.607179</td>\n",
       "      <td>1.352268</td>\n",
       "      <td>1.303413</td>\n",
       "    </tr>\n",
       "  </tbody>\n",
       "</table>\n",
       "</div>"
      ],
      "text/plain": [
       "    reference  plasmid_0  plasmid_1  plasmid_2  plasmid_3  plasmid_4\n",
       "0  CP016924.1   0.000000   0.000000   0.000000   0.000000   0.000000\n",
       "1  CP016925.1   0.039427   1.000000   0.000000   0.676134   1.000000\n",
       "2  CP016927.1   0.364171   0.087679   0.607179   0.676134   0.303413\n",
       "3       Total   0.403598   1.087679   0.607179   1.352268   1.303413"
      ]
     },
     "execution_count": 11,
     "metadata": {},
     "output_type": "execute_result"
    }
   ],
   "source": [
    "read_table(MILP, skip_pred_by_ref, num_ref_plasmids, renaming = {'Unnamed: 0': 'reference'}, col_sums = True)"
   ]
  },
  {
   "cell_type": "markdown",
   "metadata": {},
   "source": [
    "#### Proportion of predicted plasmid collectively covered by all reference plasmids"
   ]
  },
  {
   "cell_type": "code",
   "execution_count": 12,
   "metadata": {},
   "outputs": [
    {
     "data": {
      "text/html": [
       "<div>\n",
       "<style>\n",
       "    .dataframe thead tr:only-child th {\n",
       "        text-align: right;\n",
       "    }\n",
       "\n",
       "    .dataframe thead th {\n",
       "        text-align: left;\n",
       "    }\n",
       "\n",
       "    .dataframe tbody tr th {\n",
       "        vertical-align: top;\n",
       "    }\n",
       "</style>\n",
       "<table border=\"1\" class=\"dataframe\">\n",
       "  <thead>\n",
       "    <tr style=\"text-align: right;\">\n",
       "      <th></th>\n",
       "      <th>plasmid</th>\n",
       "      <th>proportion</th>\n",
       "    </tr>\n",
       "  </thead>\n",
       "  <tbody>\n",
       "    <tr>\n",
       "      <th>0</th>\n",
       "      <td>plasmid_0</td>\n",
       "      <td>0.364171</td>\n",
       "    </tr>\n",
       "    <tr>\n",
       "      <th>1</th>\n",
       "      <td>plasmid_1</td>\n",
       "      <td>1.000000</td>\n",
       "    </tr>\n",
       "    <tr>\n",
       "      <th>2</th>\n",
       "      <td>plasmid_2</td>\n",
       "      <td>0.607179</td>\n",
       "    </tr>\n",
       "    <tr>\n",
       "      <th>3</th>\n",
       "      <td>plasmid_3</td>\n",
       "      <td>0.676134</td>\n",
       "    </tr>\n",
       "    <tr>\n",
       "      <th>4</th>\n",
       "      <td>plasmid_4</td>\n",
       "      <td>1.000000</td>\n",
       "    </tr>\n",
       "  </tbody>\n",
       "</table>\n",
       "</div>"
      ],
      "text/plain": [
       "     plasmid  proportion\n",
       "0  plasmid_0    0.364171\n",
       "1  plasmid_1    1.000000\n",
       "2  plasmid_2    0.607179\n",
       "3  plasmid_3    0.676134\n",
       "4  plasmid_4    1.000000"
      ]
     },
     "execution_count": 12,
     "metadata": {},
     "output_type": "execute_result"
    }
   ],
   "source": [
    "read_table(MILP, skip_pred_by_all, num_pred_plasmids)"
   ]
  },
  {
   "cell_type": "markdown",
   "metadata": {},
   "source": [
    "#### Proportion of reference plasmid collectively covered by all predicted plasmids"
   ]
  },
  {
   "cell_type": "code",
   "execution_count": 13,
   "metadata": {},
   "outputs": [
    {
     "data": {
      "text/html": [
       "<div>\n",
       "<style>\n",
       "    .dataframe thead tr:only-child th {\n",
       "        text-align: right;\n",
       "    }\n",
       "\n",
       "    .dataframe thead th {\n",
       "        text-align: left;\n",
       "    }\n",
       "\n",
       "    .dataframe tbody tr th {\n",
       "        vertical-align: top;\n",
       "    }\n",
       "</style>\n",
       "<table border=\"1\" class=\"dataframe\">\n",
       "  <thead>\n",
       "    <tr style=\"text-align: right;\">\n",
       "      <th></th>\n",
       "      <th>plasmid</th>\n",
       "      <th>proportion</th>\n",
       "    </tr>\n",
       "  </thead>\n",
       "  <tbody>\n",
       "    <tr>\n",
       "      <th>0</th>\n",
       "      <td>CP016924.1</td>\n",
       "      <td>0.000000</td>\n",
       "    </tr>\n",
       "    <tr>\n",
       "      <th>1</th>\n",
       "      <td>CP016925.1</td>\n",
       "      <td>0.379264</td>\n",
       "    </tr>\n",
       "    <tr>\n",
       "      <th>2</th>\n",
       "      <td>CP016927.1</td>\n",
       "      <td>0.396835</td>\n",
       "    </tr>\n",
       "  </tbody>\n",
       "</table>\n",
       "</div>"
      ],
      "text/plain": [
       "      plasmid  proportion\n",
       "0  CP016924.1    0.000000\n",
       "1  CP016925.1    0.379264\n",
       "2  CP016927.1    0.396835"
      ]
     },
     "execution_count": 13,
     "metadata": {},
     "output_type": "execute_result"
    }
   ],
   "source": [
    "read_table(MILP, skip_ref_by_all, num_ref_plasmids)"
   ]
  },
  {
   "cell_type": "markdown",
   "metadata": {},
   "source": [
    "#### Correspondences between reference and predicted plasmids"
   ]
  },
  {
   "cell_type": "code",
   "execution_count": 14,
   "metadata": {},
   "outputs": [
    {
     "name": "stdout",
     "output_type": "stream",
     "text": [
      "No high mutual correspondence found.\n"
     ]
    }
   ],
   "source": [
    "list_correspondences(MILP, skip_mutual, num_mutual)"
   ]
  },
  {
   "cell_type": "markdown",
   "metadata": {
    "collapsed": true
   },
   "source": [
    "## Objective function values"
   ]
  },
  {
   "cell_type": "markdown",
   "metadata": {},
   "source": [
    "The summary of the values of components of the objective functions has been provided below. These values have been computed for both the greedy and MILP approaches."
   ]
  },
  {
   "cell_type": "code",
   "execution_count": 15,
   "metadata": {
    "collapsed": true
   },
   "outputs": [],
   "source": [
    "sample_dir = \"../../../../../../Plasmids-Assembly/exp/2018-07-11__plasmid_contigs_from_genes/MOB-suite_samples/unicycler_pipeline/\"\n",
    "assembly_file = sample_dir + 'sample_' + str(sample_id) + '/assembly.gfa'\n",
    "mapping_file = sample_dir + 'sample_' + str(sample_id) + '/filtered_genes_to_contigs.csv'\n",
    "seeds_file = sample_dir + 'sample_' + str(sample_id) + '/seed_contigs.csv'\n",
    "\n",
    "MILP_contig_chains = \"nplasmids_1/MILP/contig_chains.csv\"\n",
    "greedy_contig_chains = \"../../../../../../Plasmids-Assembly/exp/2018-07-20__sample_analyses_greedy_strategy/greedy_v2/L111/sample_%i/greedy_mean/contig_chains.csv\" % (sample_id)\n"
   ]
  },
  {
   "cell_type": "code",
   "execution_count": 16,
   "metadata": {
    "collapsed": true
   },
   "outputs": [],
   "source": [
    "def read_file(filename):\n",
    "\tstring = open(filename, \"r\").read()\n",
    "\tstring_list = string.split(\"\\n\")\n",
    "\tstring_list = [line for line in string_list if line and line[0] != '#'] #Read line only if it is nonempty and not a comment.\n",
    "\treturn string_list\n",
    "\n",
    "#Storing contig details\n",
    "#-----------------------------------------------\n",
    "#Stores the id of the contig\n",
    "def get_id(line):\n",
    "\treturn line[1]\n",
    "#Stores the nucleotide sequence of the contig\n",
    "def get_nucleotide_seq(line):\n",
    "\t#print(line[2])\n",
    "\treturn line[2]\t\t\n",
    "#Computes GC ratio: counts no. of 'G'/'C' occurences in the sequence and divide by the sequence length.\n",
    "def compute_GCratio(seq):\n",
    "\tGC = 0\n",
    "\tln_seq = 0\n",
    "\tfor nucl in seq:\n",
    "\t\tif nucl == 'G' or nucl == 'C':\n",
    "\t\t\tGC += 1\n",
    "\t\tln_seq += 1\n",
    "\treturn GC/ln_seq\n",
    "#Stores the length of the sequence\n",
    "def get_length(line):\n",
    "\treturn int(line[3].split(':')[2])\n",
    "#Stores the read depth of the contig\n",
    "def get_read_depth(line):\n",
    "\treturn float(line[4].split(':')[2])\t\t\n",
    "\n",
    "#Takes a contig from the assembly file and initiates an entry in the contigs_dict\n",
    "#Each contig is tagged with the following attributes:\n",
    "#1. Length of the contig (int)\n",
    "#2. Overall read depth of the contig (float)\n",
    "#3. Indication if the contig is a seed (binary)\n",
    "#4. GC content of the contig (float)\n",
    "#5. Gene coverage intervals (list of pairs)\n",
    "#6. Gene coverage (float)\n",
    "def update_contigs_dict(contigs_dict, line):\n",
    "\tc = get_id(line)\n",
    "\tseq = get_nucleotide_seq(line) \n",
    "\tGC_cont = compute_GCratio(seq)\n",
    "\tln = get_length(line)\n",
    "\trd = get_read_depth(line)\n",
    "\n",
    "\tcontigs_dict[c] = {}\n",
    "\tcontigs_dict[c]['Sequence'] = seq\n",
    "\tcontigs_dict[c]['Length'] = ln\n",
    "\tcontigs_dict[c]['Read_depth'] = rd\n",
    "\tcontigs_dict[c]['Seed'] = 0\t\t\t\t\t\t\t#Default\n",
    "\tcontigs_dict[c]['GC_cont'] = GC_cont\n",
    "\tcontigs_dict[c]['Gene_coverage_intervals'] = []\t\t#Default\n",
    "\tcontigs_dict[c]['Gene_coverage'] = 0\t\t\t\t#Default\n",
    "\treturn contigs_dict\n",
    "\n",
    "#A link is of the type: ((l1, e1),(l2, e2)) \n",
    "#where l1, l2 are adjacent links and e1, e2 are the connected link extremities\n",
    "def get_link(line):\n",
    "\tc1, o1, c2, o2 = line[1], line[2], line[3], line[4]\n",
    "\tif o1 == '+':\n",
    "\t\text1 = 'h'\n",
    "\telse:\n",
    "\t\text1 = 't'\n",
    "\tif o2 == '+':\n",
    "\t\text2 = 't'\n",
    "\telse:\n",
    "\t\text2 = 'h'\n",
    "\te = ((c1, ext1),(c2, ext2))\t\n",
    "\treturn e \n",
    "\n",
    "#Reads the assembly file line by line and forwards a line \n",
    "#to update_contigs_dict or get_link depending on the entry\n",
    "def get_data(assembly_file, contigs_dict, links_list):\n",
    "\tstring_list = read_file(assembly_file)\n",
    "\tcount_s = 0\n",
    "\tcount_l = 0\n",
    "\tfor line in string_list:\n",
    "\t\tline = line.split(\"\\t\")\n",
    "\t\tif line[0] == 'S':\n",
    "\t\t\tcontigs_dict = update_contigs_dict(contigs_dict, line)\n",
    "\t\telif line[0] == 'L':\n",
    "\t\t\te = get_link(line)\n",
    "\t\t\tlinks_list.append(e)\n",
    "\treturn contigs_dict, links_list\n",
    "\n",
    "#Reads the seed file and makes a list of seeds\n",
    "def get_seeds(seeds_file, seeds_set):\n",
    "\tstring_list = read_file(seeds_file)\n",
    "\tfor line in string_list:\n",
    "\t\tline = line.split(\"\\t\")\n",
    "\t\tseeds_set.add(line[0])\n",
    "\treturn seeds_set\n",
    "\n",
    "#Takes the gene covering intervals for a contig and finds their union\n",
    "#The length of the union is used to compute gene coverage\n",
    "def get_union(intervals):\n",
    "\tunion = []\n",
    "\tfor begin, end in sorted(intervals):\n",
    "\t\tif union and union[-1][1] >= begin - 1:\n",
    "\t\t\tunion[-1][1] = max(union[-1][1], end)\n",
    "\t\telse:\n",
    "\t\t\tunion.append([begin, end])\n",
    "\treturn union\t\t\n",
    "\n",
    "#Computes the gene coverage for each contig\n",
    "def get_gene_coverage(mapping_file, contigs_dict):\n",
    "\tstring_list = read_file(mapping_file)\n",
    "\tpossible_seeds = []\n",
    "\tfor line in string_list:\n",
    "\t\tline = line.split(\"\\t\")\t\n",
    "\t\tqseqid, sseqid = line[0], line[1]\n",
    "\t\tsstart, send = line[8], line[9]\n",
    "\t\tif sseqid not in possible_seeds:\n",
    "\t\t\tpossible_seeds.append(sseqid)\n",
    "\t\tif sseqid not in contigs_dict:\n",
    "\t\t\tprint(sseqid, \"not in contigs_dict\")\n",
    "\t\telse:\n",
    "\t\t\tif int(sstart) > int(send):\n",
    "\t\t\t\tcontigs_dict[sseqid]['Gene_coverage_intervals'].append((int(send), int(sstart)))\n",
    "\t\t\telse:\n",
    "\t\t\t\tcontigs_dict[sseqid]['Gene_coverage_intervals'].append((int(sstart), int(send)))\n",
    "\n",
    "\tfor sseqid in contigs_dict:\n",
    "\t\tunion = get_union(contigs_dict[sseqid]['Gene_coverage_intervals'])\n",
    "\t\tln = contigs_dict[sseqid]['Length']\n",
    "\t\tcovered = 0\n",
    "\t\tfor interval in union:\n",
    "\t\t\tcovered += interval[1] - interval[0] + 1\n",
    "\t\tcontigs_dict[sseqid]['Gene_coverage'] = covered/ln\n",
    "\n",
    "\treturn contigs_dict"
   ]
  },
  {
   "cell_type": "code",
   "execution_count": 17,
   "metadata": {
    "collapsed": true
   },
   "outputs": [],
   "source": [
    "contigs_dict = {}\n",
    "links_list = []\n",
    "seeds_set = set()\n",
    "\n",
    "contigs_dict, links_list = get_data(assembly_file, contigs_dict, links_list)\n",
    "seeds_set = get_seeds(seeds_file, seeds_set)\n",
    "contigs_dict = get_gene_coverage(mapping_file, contigs_dict)\n",
    "\n",
    "GC_total = 0\n",
    "ln_total = 0\n",
    "for c in contigs_dict:\n",
    "\tGC_total += contigs_dict[c]['GC_cont']*contigs_dict[c]['Length']\n",
    "\tln_total += contigs_dict[c]['Length']\n",
    "\t\n",
    "GC_mean = GC_total/ln_total\t"
   ]
  },
  {
   "cell_type": "code",
   "execution_count": 18,
   "metadata": {
    "collapsed": true
   },
   "outputs": [],
   "source": [
    "def get_obj_val(chain):\n",
    "    gd_sum, GC_sum = 0, 0\n",
    "    a2, a3 = 1, 1\n",
    "    a_total = a2+a3\n",
    "    p_len = 0\n",
    "    for c in chain:\n",
    "        gd = contigs_dict[c]['Gene_coverage']\n",
    "        ln = contigs_dict[c]['Length']\n",
    "        GC = contigs_dict[c]['GC_cont']\n",
    "        p_len += ln\n",
    "        gd_sum += -(a2/a_total)*gd*ln\n",
    "        GC_sum += -(a3/a_total)*(GC_mean-GC)*ln\n",
    "    gd_sum = gd_sum/p_len\n",
    "    GC_sum = GC_sum/p_len\n",
    "    total = gd_sum + GC_sum\n",
    "    return gd_sum, GC_sum, total\n",
    "    "
   ]
  },
  {
   "cell_type": "code",
   "execution_count": 19,
   "metadata": {
    "collapsed": true
   },
   "outputs": [],
   "source": [
    "MILP_plasmids = {}\n",
    "greedy_plasmids = {}\n",
    "\n",
    "plasmids = open(MILP_contig_chains, \"r\").read()\n",
    "plasmid_list = plasmids.split(\"\\n\")\n",
    "for line in plasmid_list:\n",
    "    if line:\n",
    "        p_id = line.split(\";\")[0]\n",
    "        #print(p_id)\n",
    "        chain = line.split(\";\")[1].split(\",\")\n",
    "        chain = [x[0:-1] for x in chain]\n",
    "        MILP_plasmids[p_id] = {}\n",
    "        MILP_plasmids[p_id]['chain'] = chain\n",
    "        MILP_plasmids[p_id]['gd_sum'], MILP_plasmids[p_id]['GC_sum'], MILP_plasmids[p_id]['total'] = get_obj_val(chain)\n",
    "        #print(chain)\n",
    "\n",
    "        \n",
    "plasmids = open(greedy_contig_chains, \"r\").read()\n",
    "plasmid_list = plasmids.split(\"\\n\")\n",
    "for line in plasmid_list:\n",
    "    if line:\n",
    "        p_id = line.split(\";\")[0]\n",
    "        #print(p_id)\n",
    "        chain = line.split(\";\")[1].split(\",\")\n",
    "        chain = [x[0:-1] for x in chain]\n",
    "        greedy_plasmids[p_id] = {}\n",
    "        greedy_plasmids[p_id]['chain'] = chain\n",
    "        greedy_plasmids[p_id]['gd_sum'], greedy_plasmids[p_id]['GC_sum'], greedy_plasmids[p_id]['total'] = get_obj_val(chain)\n",
    "        #print(chain)        "
   ]
  },
  {
   "cell_type": "code",
   "execution_count": 20,
   "metadata": {
    "collapsed": true
   },
   "outputs": [],
   "source": [
    "MILP_obj = pd.DataFrame(MILP_plasmids)\n",
    "MILP_obj.rename(columns = {0: 'Plasmid', 1: 'Chain', 2: 'gd', 3: 'GC', 4: 'Total'}, inplace = True)"
   ]
  },
  {
   "cell_type": "code",
   "execution_count": 21,
   "metadata": {},
   "outputs": [
    {
     "data": {
      "text/html": [
       "<div>\n",
       "<style>\n",
       "    .dataframe thead tr:only-child th {\n",
       "        text-align: right;\n",
       "    }\n",
       "\n",
       "    .dataframe thead th {\n",
       "        text-align: left;\n",
       "    }\n",
       "\n",
       "    .dataframe tbody tr th {\n",
       "        vertical-align: top;\n",
       "    }\n",
       "</style>\n",
       "<table border=\"1\" class=\"dataframe\">\n",
       "  <thead>\n",
       "    <tr style=\"text-align: right;\">\n",
       "      <th></th>\n",
       "      <th>plasmid_0</th>\n",
       "      <th>plasmid_1</th>\n",
       "      <th>plasmid_2</th>\n",
       "      <th>plasmid_3</th>\n",
       "      <th>plasmid_4</th>\n",
       "    </tr>\n",
       "  </thead>\n",
       "  <tbody>\n",
       "    <tr>\n",
       "      <th>GC_sum</th>\n",
       "      <td>-0.0303546</td>\n",
       "      <td>-0.0273721</td>\n",
       "      <td>-0.0338475</td>\n",
       "      <td>-0.0399687</td>\n",
       "      <td>-0.00856283</td>\n",
       "    </tr>\n",
       "    <tr>\n",
       "      <th>chain</th>\n",
       "      <td>[36, 81, 42, 27, 39, 43, 49, 90, 53, 103, 44, ...</td>\n",
       "      <td>[33, 49, 90, 29]</td>\n",
       "      <td>[48, 42]</td>\n",
       "      <td>[50, 44, 103, 47, 106]</td>\n",
       "      <td>[44, 32, 49, 96]</td>\n",
       "    </tr>\n",
       "    <tr>\n",
       "      <th>gd_sum</th>\n",
       "      <td>-0.423447</td>\n",
       "      <td>-0.409783</td>\n",
       "      <td>-0.497472</td>\n",
       "      <td>-0.331755</td>\n",
       "      <td>-0.458959</td>\n",
       "    </tr>\n",
       "    <tr>\n",
       "      <th>total</th>\n",
       "      <td>-0.453801</td>\n",
       "      <td>-0.437155</td>\n",
       "      <td>-0.53132</td>\n",
       "      <td>-0.371724</td>\n",
       "      <td>-0.467522</td>\n",
       "    </tr>\n",
       "  </tbody>\n",
       "</table>\n",
       "</div>"
      ],
      "text/plain": [
       "                                                plasmid_0         plasmid_1  \\\n",
       "GC_sum                                         -0.0303546        -0.0273721   \n",
       "chain   [36, 81, 42, 27, 39, 43, 49, 90, 53, 103, 44, ...  [33, 49, 90, 29]   \n",
       "gd_sum                                          -0.423447         -0.409783   \n",
       "total                                           -0.453801         -0.437155   \n",
       "\n",
       "        plasmid_2               plasmid_3         plasmid_4  \n",
       "GC_sum -0.0338475              -0.0399687       -0.00856283  \n",
       "chain    [48, 42]  [50, 44, 103, 47, 106]  [44, 32, 49, 96]  \n",
       "gd_sum  -0.497472               -0.331755         -0.458959  \n",
       "total    -0.53132               -0.371724         -0.467522  "
      ]
     },
     "execution_count": 21,
     "metadata": {},
     "output_type": "execute_result"
    }
   ],
   "source": [
    "MILP_obj"
   ]
  },
  {
   "cell_type": "code",
   "execution_count": 22,
   "metadata": {
    "collapsed": true
   },
   "outputs": [],
   "source": [
    "greedy_obj = pd.DataFrame(greedy_plasmids)\n",
    "greedy_obj.rename(columns = {0: 'Plasmid', 1: 'Chain', 2: 'gd', 3: 'GC', 4: 'Total'}, inplace = True)"
   ]
  },
  {
   "cell_type": "code",
   "execution_count": 23,
   "metadata": {},
   "outputs": [
    {
     "data": {
      "text/html": [
       "<div>\n",
       "<style>\n",
       "    .dataframe thead tr:only-child th {\n",
       "        text-align: right;\n",
       "    }\n",
       "\n",
       "    .dataframe thead th {\n",
       "        text-align: left;\n",
       "    }\n",
       "\n",
       "    .dataframe tbody tr th {\n",
       "        vertical-align: top;\n",
       "    }\n",
       "</style>\n",
       "<table border=\"1\" class=\"dataframe\">\n",
       "  <thead>\n",
       "    <tr style=\"text-align: right;\">\n",
       "      <th></th>\n",
       "      <th>plasmid_0</th>\n",
       "      <th>plasmid_1</th>\n",
       "      <th>plasmid_2</th>\n",
       "      <th>plasmid_3</th>\n",
       "      <th>plasmid_4</th>\n",
       "      <th>plasmid_5</th>\n",
       "      <th>plasmid_6</th>\n",
       "      <th>plasmid_7</th>\n",
       "    </tr>\n",
       "  </thead>\n",
       "  <tbody>\n",
       "    <tr>\n",
       "      <th>GC_sum</th>\n",
       "      <td>-0.0269478</td>\n",
       "      <td>-0.00630914</td>\n",
       "      <td>-0.0414951</td>\n",
       "      <td>-0.127742</td>\n",
       "      <td>-0.0262564</td>\n",
       "      <td>-0.0278866</td>\n",
       "      <td>-0.12026</td>\n",
       "      <td>-0.0120889</td>\n",
       "    </tr>\n",
       "    <tr>\n",
       "      <th>chain</th>\n",
       "      <td>[31, 96, 49, 32, 44, 50, 22, 42, 48, 81, 36, 8...</td>\n",
       "      <td>[90, 28, 49, 90, 53, 103, 44, 50, 35]</td>\n",
       "      <td>[16]</td>\n",
       "      <td>[40, 47]</td>\n",
       "      <td>[90, 29, 49, 90, 33, 49, 96, 26, 49]</td>\n",
       "      <td>[43, 49]</td>\n",
       "      <td>[39]</td>\n",
       "      <td>[44, 103]</td>\n",
       "    </tr>\n",
       "    <tr>\n",
       "      <th>gd_sum</th>\n",
       "      <td>-0.431739</td>\n",
       "      <td>-0.466209</td>\n",
       "      <td>-0.433364</td>\n",
       "      <td>-0.171579</td>\n",
       "      <td>-0.416414</td>\n",
       "      <td>-0.353082</td>\n",
       "      <td>-0.411942</td>\n",
       "      <td>-0.47225</td>\n",
       "    </tr>\n",
       "    <tr>\n",
       "      <th>total</th>\n",
       "      <td>-0.458686</td>\n",
       "      <td>-0.472518</td>\n",
       "      <td>-0.474859</td>\n",
       "      <td>-0.299321</td>\n",
       "      <td>-0.44267</td>\n",
       "      <td>-0.380968</td>\n",
       "      <td>-0.532202</td>\n",
       "      <td>-0.484339</td>\n",
       "    </tr>\n",
       "  </tbody>\n",
       "</table>\n",
       "</div>"
      ],
      "text/plain": [
       "                                                plasmid_0  \\\n",
       "GC_sum                                         -0.0269478   \n",
       "chain   [31, 96, 49, 32, 44, 50, 22, 42, 48, 81, 36, 8...   \n",
       "gd_sum                                          -0.431739   \n",
       "total                                           -0.458686   \n",
       "\n",
       "                                    plasmid_1  plasmid_2 plasmid_3  \\\n",
       "GC_sum                            -0.00630914 -0.0414951 -0.127742   \n",
       "chain   [90, 28, 49, 90, 53, 103, 44, 50, 35]       [16]  [40, 47]   \n",
       "gd_sum                              -0.466209  -0.433364 -0.171579   \n",
       "total                               -0.472518  -0.474859 -0.299321   \n",
       "\n",
       "                                   plasmid_4  plasmid_5 plasmid_6  plasmid_7  \n",
       "GC_sum                            -0.0262564 -0.0278866  -0.12026 -0.0120889  \n",
       "chain   [90, 29, 49, 90, 33, 49, 96, 26, 49]   [43, 49]      [39]  [44, 103]  \n",
       "gd_sum                             -0.416414  -0.353082 -0.411942   -0.47225  \n",
       "total                               -0.44267  -0.380968 -0.532202  -0.484339  "
      ]
     },
     "execution_count": 23,
     "metadata": {},
     "output_type": "execute_result"
    }
   ],
   "source": [
    "greedy_obj"
   ]
  },
  {
   "cell_type": "markdown",
   "metadata": {},
   "source": [
    "#### Finding intersections or subsets"
   ]
  },
  {
   "cell_type": "code",
   "execution_count": 24,
   "metadata": {},
   "outputs": [
    {
     "name": "stdout",
     "output_type": "stream",
     "text": [
      "plasmid_2  from MILP completely contained in  plasmid_0  from greedy.\n",
      "\n",
      "plasmid_4  from MILP completely contained in  plasmid_0  from greedy.\n",
      "\n",
      "plasmid_1  from MILP completely contained in  plasmid_4  from greedy.\n",
      "\n",
      "plasmid_5  from greedy completely contained in  plasmid_0  from MILP.\n",
      "\n",
      "plasmid_6  from greedy completely contained in  plasmid_0  from MILP.\n",
      "\n",
      "plasmid_7  from greedy completely contained in  plasmid_0  from MILP.\n",
      "\n",
      "plasmid_7  from greedy completely contained in  plasmid_3  from MILP.\n",
      "\n"
     ]
    }
   ],
   "source": [
    "for x in greedy_plasmids:\n",
    "    x_chain = greedy_plasmids[x]['chain']\n",
    "    for y in MILP_plasmids:\n",
    "        y_chain = MILP_plasmids[y]['chain']\n",
    "        if set(y_chain) <= set(x_chain):\n",
    "            print(y, ' from MILP completely contained in ', x, ' from greedy.\\n')\n",
    "        if set(x_chain) <= set(y_chain):\n",
    "            print(x, ' from greedy completely contained in ', y, ' from MILP.\\n')    "
   ]
  },
  {
   "cell_type": "code",
   "execution_count": null,
   "metadata": {
    "collapsed": true
   },
   "outputs": [],
   "source": []
  },
  {
   "cell_type": "code",
   "execution_count": null,
   "metadata": {
    "collapsed": true
   },
   "outputs": [],
   "source": []
  }
 ],
 "metadata": {
  "kernelspec": {
   "display_name": "Python 3",
   "language": "python",
   "name": "python3"
  },
  "language_info": {
   "codemirror_mode": {
    "name": "ipython",
    "version": 3
   },
   "file_extension": ".py",
   "mimetype": "text/x-python",
   "name": "python",
   "nbconvert_exporter": "python",
   "pygments_lexer": "ipython3",
   "version": "3.6.3"
  }
 },
 "nbformat": 4,
 "nbformat_minor": 2
}
