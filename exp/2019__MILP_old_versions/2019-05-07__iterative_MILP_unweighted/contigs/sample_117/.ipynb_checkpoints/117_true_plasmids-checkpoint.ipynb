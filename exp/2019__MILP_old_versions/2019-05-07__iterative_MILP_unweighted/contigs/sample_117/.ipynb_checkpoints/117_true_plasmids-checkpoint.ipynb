{
 "cells": [
  {
   "cell_type": "markdown",
   "metadata": {},
   "source": [
    "# Details about true plasmids for sample 117"
   ]
  },
  {
   "cell_type": "code",
   "execution_count": 38,
   "metadata": {
    "collapsed": false
   },
   "outputs": [
    {
     "data": {
      "text/html": [
       "<script>\n",
       "code_show=true; \n",
       "function code_toggle() {\n",
       " if (code_show){\n",
       " $('div.input').hide();\n",
       " } else {\n",
       " $('div.input').show();\n",
       " }\n",
       " code_show = !code_show\n",
       "} \n",
       "$( document ).ready(code_toggle);\n",
       "</script>\n",
       "<form action=\"javascript:code_toggle()\"><input type=\"submit\" value=\"Click here to toggle on/off the raw code.\"></form>"
      ],
      "text/plain": [
       "<IPython.core.display.HTML object>"
      ]
     },
     "execution_count": 38,
     "metadata": {},
     "output_type": "execute_result"
    }
   ],
   "source": [
    "from IPython.display import Image\n",
    "from IPython.display import HTML\n",
    "\n",
    "HTML('''<script>\n",
    "code_show=true; \n",
    "function code_toggle() {\n",
    " if (code_show){\n",
    " $('div.input').hide();\n",
    " } else {\n",
    " $('div.input').show();\n",
    " }\n",
    " code_show = !code_show\n",
    "} \n",
    "$( document ).ready(code_toggle);\n",
    "</script>\n",
    "<form action=\"javascript:code_toggle()\"><input type=\"submit\" value=\"Click here to toggle on/off the raw code.\"></form>''')"
   ]
  },
  {
   "cell_type": "code",
   "execution_count": 1,
   "metadata": {
    "collapsed": true
   },
   "outputs": [],
   "source": [
    "from __future__ import division\n",
    "import numpy as np\n",
    "import pandas as pd\n",
    "\n",
    "def read_file(filename):\n",
    "\tstring = open(filename, \"r\").read()\n",
    "\tstring_list = string.split(\"\\n\")\n",
    "\tstring_list = [line for line in string_list if line and line[0] != '#'] #Read line only if it is nonempty and not a comment.\n",
    "\treturn string_list\n",
    "\n",
    "#Storing contig details\n",
    "#-----------------------------------------------\n",
    "#Stores the id of the contig\n",
    "def get_id(line):\n",
    "\treturn line[1]\n",
    "#Stores the nucleotide sequence of the contig\n",
    "def get_nucleotide_seq(line):\n",
    "\t#print(line[2])\n",
    "\treturn line[2]\t\t\n",
    "#Computes GC ratio: counts no. of 'G'/'C' occurences in the sequence and divide by the sequence length.\n",
    "def compute_GCratio(seq):\n",
    "\tGC = 0\n",
    "\tln_seq = 0\n",
    "\tfor nucl in seq:\n",
    "\t\tif nucl == 'G' or nucl == 'C':\n",
    "\t\t\tGC += 1\n",
    "\t\tln_seq += 1\n",
    "\treturn GC/ln_seq\n",
    "#Stores the length of the sequence\n",
    "def get_length(line):\n",
    "\treturn int(line[3].split(':')[2])\n",
    "#Stores the read depth of the contig\n",
    "def get_read_depth(line):\n",
    "\treturn float(line[4].split(':')[2])\t\t\n",
    "\n",
    "#Takes a contig from the assembly file and initiates an entry in the contigs_dict\n",
    "#Each contig is tagged with the following attributes:\n",
    "#1. Length of the contig (int)\n",
    "#2. Overall read depth of the contig (float)\n",
    "#3. Indication if the contig is a seed (binary)\n",
    "#4. GC content of the contig (float)\n",
    "#5. Gene coverage intervals (list of pairs)\n",
    "#6. Gene coverage (float)\n",
    "def update_contigs_dict(contigs_dict, line):\n",
    "\tc = get_id(line)\n",
    "\tseq = get_nucleotide_seq(line) \n",
    "\tGC_cont = compute_GCratio(seq)\n",
    "\tln = get_length(line)\n",
    "\trd = get_read_depth(line)\n",
    "\n",
    "\tcontigs_dict[c] = {}\n",
    "\tcontigs_dict[c]['Sequence'] = seq\n",
    "\tcontigs_dict[c]['Length'] = ln\n",
    "\tcontigs_dict[c]['Read_depth'] = rd\n",
    "\tcontigs_dict[c]['Seed'] = 0\t\t\t\t\t\t\t#Default\n",
    "\tcontigs_dict[c]['GC_cont'] = GC_cont\n",
    "\tcontigs_dict[c]['Gene_coverage_intervals'] = []\t\t#Default\n",
    "\tcontigs_dict[c]['Gene_coverage'] = 0\t\t\t\t#Default\n",
    "\tcontigs_dict[c]['Density'] = 0\t\t\t\t#Default\n",
    "\treturn contigs_dict\n",
    "\n",
    "#A link is of the type: ((l1, e1),(l2, e2)) \n",
    "#where l1, l2 are adjacent links and e1, e2 are the connected link extremities\n",
    "def get_link(line):\n",
    "\tc1, o1, c2, o2 = line[1], line[2], line[3], line[4]\n",
    "\tif o1 == '+':\n",
    "\t\text1 = 'h'\n",
    "\telse:\n",
    "\t\text1 = 't'\n",
    "\tif o2 == '+':\n",
    "\t\text2 = 't'\n",
    "\telse:\n",
    "\t\text2 = 'h'\n",
    "\te = ((c1, ext1),(c2, ext2))\t\n",
    "\treturn e \n",
    "\n",
    "#Reads the assembly file line by line and forwards a line \n",
    "#to update_contigs_dict or get_link depending on the entry\n",
    "def get_data(assembly_file, contigs_dict, links_list):\n",
    "\tstring_list = read_file(assembly_file)\n",
    "\tcount_s = 0\n",
    "\tcount_l = 0\n",
    "\tfor line in string_list:\n",
    "\t\tline = line.split(\"\\t\")\n",
    "\t\tif line[0] == 'S':\n",
    "\t\t\tcontigs_dict = update_contigs_dict(contigs_dict, line)\n",
    "\t\telif line[0] == 'L':\n",
    "\t\t\te = get_link(line)\n",
    "\t\t\tlinks_list.append(e)\n",
    "\treturn contigs_dict, links_list\n",
    "\n",
    "#Reads the seed file and makes a list of seeds\n",
    "def get_seeds(seeds_file, seeds_set):\n",
    "\tstring_list = read_file(seeds_file)\n",
    "\tfor line in string_list:\n",
    "\t\tline = line.split(\"\\t\")\n",
    "\t\tseeds_set.add(line[0])\n",
    "\treturn seeds_set\n",
    "\n",
    "#Takes the gene covering intervals for a contig and finds their union\n",
    "#The length of the union is used to compute gene coverage\n",
    "def get_union(intervals):\n",
    "\tunion = []\n",
    "\tfor begin, end in sorted(intervals):\n",
    "\t\tif union and union[-1][1] >= begin - 1:\n",
    "\t\t\tunion[-1][1] = max(union[-1][1], end)\n",
    "\t\telse:\n",
    "\t\t\tunion.append([begin, end])\n",
    "\treturn union\t\t\n",
    "\n",
    "#Computes the gene coverage for each contig\n",
    "def get_gene_coverage(mapping_file, contigs_dict):\n",
    "\tstring_list = read_file(mapping_file)\n",
    "\tpossible_seeds = []\n",
    "\tfor line in string_list:\n",
    "\t\tline = line.split(\"\\t\")\t\n",
    "\t\tqseqid, sseqid = line[0], line[1]\n",
    "\t\tsstart, send = line[8], line[9]\n",
    "\t\tif sseqid not in possible_seeds:\n",
    "\t\t\tpossible_seeds.append(sseqid)\n",
    "\t\tif sseqid not in contigs_dict:\n",
    "\t\t\tprint(sseqid, \"not in contigs_dict\")\n",
    "\t\telse:\n",
    "\t\t\tif int(sstart) > int(send):\n",
    "\t\t\t\tcontigs_dict[sseqid]['Gene_coverage_intervals'].append((int(send), int(sstart)))\n",
    "\t\t\telse:\n",
    "\t\t\t\tcontigs_dict[sseqid]['Gene_coverage_intervals'].append((int(sstart), int(send)))\n",
    "\n",
    "\tfor sseqid in contigs_dict:\n",
    "\t\tunion = get_union(contigs_dict[sseqid]['Gene_coverage_intervals'])\n",
    "\t\tln = contigs_dict[sseqid]['Length']\n",
    "\t\tcovered = 0\n",
    "\t\tfor interval in union:\n",
    "\t\t\tcovered += interval[1] - interval[0] + 1\n",
    "\t\tcontigs_dict[sseqid]['Gene_coverage'] = covered/ln\n",
    "\t\tif contigs_dict[sseqid]['Gene_coverage'] > 0:\n",
    "\t\t\tcontigs_dict[sseqid]['Density'] = 1\n",
    "\n",
    "\treturn contigs_dict"
   ]
  },
  {
   "cell_type": "code",
   "execution_count": 2,
   "metadata": {
    "collapsed": false
   },
   "outputs": [],
   "source": [
    "sample_id = str(117)\n",
    "\n",
    "sample_dir = '/home/aniket/python_scripts/Plasmids/data/unicycler_pipeline/'\n",
    "\n",
    "assembly_file = sample_dir + 'sample_' + sample_id + '/assembly.gfa'\n",
    "mapping_file = sample_dir + 'sample_' + sample_id + '/filtered_genes_to_contigs.csv'\n",
    "seeds_file = sample_dir + 'sample_' + sample_id + '/seed_contigs.csv'\n",
    "\n",
    "contigs_dict = {}\n",
    "links_list = []\n",
    "seeds_set = set()\n",
    "\n",
    "contigs_dict, links_list = get_data(assembly_file, contigs_dict, links_list)\n",
    "seeds_set = get_seeds(seeds_file, seeds_set)\n",
    "contigs_dict = get_gene_coverage(mapping_file, contigs_dict)"
   ]
  },
  {
   "cell_type": "code",
   "execution_count": 3,
   "metadata": {
    "collapsed": false
   },
   "outputs": [],
   "source": [
    "chain_file = 'contig_chains.csv'\n",
    "\n",
    "contig_chains = {}\n",
    "string_list = read_file(chain_file)\n",
    "for line in string_list:\n",
    "    plasmid_name = line.split(';')[0]\n",
    "    chain = line.split(';')[1]\n",
    "    contig_list = [x[:-1] for x in chain.split(',')]\n",
    "    contig_chains[plasmid_name] = contig_list   "
   ]
  },
  {
   "cell_type": "markdown",
   "metadata": {},
   "source": [
    "## Individual plasmids"
   ]
  },
  {
   "cell_type": "code",
   "execution_count": 4,
   "metadata": {
    "collapsed": false
   },
   "outputs": [
    {
     "name": "stdout",
     "output_type": "stream",
     "text": [
      "Number of contigs:  110\n",
      "Number of links:  154\n"
     ]
    }
   ],
   "source": [
    "print(\"Number of contigs: \", len(contigs_dict))\n",
    "print(\"Number of links: \", len(links_list))"
   ]
  },
  {
   "cell_type": "code",
   "execution_count": 5,
   "metadata": {
    "collapsed": false
   },
   "outputs": [],
   "source": [
    "objective_values = [] \n",
    "plasmid_contigs = {}\n",
    "for plasmid in contig_chains:\n",
    "    contig_list = contig_chains[plasmid]\n",
    "    avg_gd, avg_GC, GC_pen, total_len = 0, 0, 0, 0\n",
    "    plasmid_contigs[plasmid] = []\n",
    "    for contig in contig_list:\n",
    "        plasmid_contigs[plasmid].append([contig,contigs_dict[contig]['Gene_coverage'],contigs_dict[contig]['GC_cont'],contigs_dict[contig]['Read_depth'],contigs_dict[contig]['Length']])\n",
    "        \n",
    "        total_len += contigs_dict[contig]['Length']\n",
    "        avg_gd += contigs_dict[contig]['Gene_coverage']*contigs_dict[contig]['Length']\n",
    "        avg_GC += contigs_dict[contig]['GC_cont']*contigs_dict[contig]['Length']\n",
    "    avg_gd = avg_gd/total_len\n",
    "    avg_GC = avg_GC/total_len\n",
    "    for contig in contig_list:\n",
    "        GC_pen += abs(avg_GC - contigs_dict[contig]['GC_cont'])*contigs_dict[contig]['Length']\n",
    "    GC_pen = GC_pen/total_len\n",
    "    \n",
    "    plasmid_contigs[plasmid] = pd.DataFrame(plasmid_contigs[plasmid])\n",
    "    plasmid_contigs[plasmid].rename(columns = {0: 'Contig', 1: 'Gene density', 2: 'GC content', 3: 'Read depth', 4: 'Length'}, inplace = True)  \n",
    "    \n",
    "    objective_values.append([plasmid, avg_gd, GC_pen, total_len])\n",
    "    \n",
    "objective_values = pd.DataFrame(objective_values)\n",
    "objective_values.rename(columns = {0: 'Plasmid', 1: 'Gene density', 2: 'GC penalty', 3: 'Length'}, inplace = True)  \n",
    "    "
   ]
  },
  {
   "cell_type": "code",
   "execution_count": 6,
   "metadata": {
    "collapsed": false
   },
   "outputs": [
    {
     "name": "stdout",
     "output_type": "stream",
     "text": [
      "CP012933.1\n",
      "  Contig  Gene density  GC content  Read depth  Length\n",
      "0     32      0.617656    0.433564   28.637866    3319\n",
      "\n",
      "\n",
      "\n",
      "CP012936.1\n",
      "  Contig  Gene density  GC content  Read depth  Length\n",
      "0     16      0.868749    0.482067    1.943970   45950\n",
      "1     62      1.000000    0.666667    2.412919     132\n",
      "2     23      0.941576    0.568938    1.709725    7514\n",
      "3     62      1.000000    0.666667    2.412919     132\n",
      "4     17      0.907291    0.504197    2.004008   44203\n",
      "5     49      0.919588    0.441237    2.443771     485\n",
      "6     88      0.000000    0.617021    0.696625      47\n",
      "7     47      1.000000    0.458955    2.552712     536\n",
      "\n",
      "\n",
      "\n",
      "CP012935.1\n",
      "  Contig  Gene density  GC content  Read depth  Length\n",
      "0     29      0.772855    0.510627   18.252055    3905\n",
      "\n",
      "\n",
      "\n",
      "CP012931.1\n",
      "   Contig  Gene density  GC content  Read depth  Length\n",
      "0      15      0.795411    0.445887    1.221212   52520\n",
      "1      42      1.000000    0.449242    2.579621     857\n",
      "2      58      1.000000    0.468085    2.872408     188\n",
      "3      24      0.864682    0.384453    0.985591    6651\n",
      "4      58      1.000000    0.468085    2.872408     188\n",
      "5      35      0.958779    0.540458    2.554844    1310\n",
      "6      42      1.000000    0.449242    2.579621     857\n",
      "7      11      0.821817    0.451124    1.170746  139250\n",
      "8      43      1.000000    0.524390    3.993289     820\n",
      "9      20      0.924655    0.573815    0.988553   19935\n",
      "10     43      1.000000    0.524390    3.993289     820\n",
      "11     54      0.322259    0.528239    1.134354     301\n",
      "12     53      0.802326    0.575581    2.212515     344\n",
      "13     26      0.930479    0.610428    0.953036    4718\n",
      "14     53      0.802326    0.575581    2.212515     344\n",
      "15     44      0.940580    0.598551    1.079107     690\n",
      "16     43      1.000000    0.524390    3.993289     820\n",
      "17     28      0.744235    0.451765    1.368034    4250\n",
      "18     28      0.744235    0.451765    1.368034    4250\n",
      "\n",
      "\n",
      "\n",
      "CP012934.1\n",
      "  Contig  Gene density  GC content  Read depth  Length\n",
      "0     31       0.38879    0.551305   30.278345    3372\n",
      "\n",
      "\n",
      "\n",
      "CP012932.1\n",
      "  Contig  Gene density  GC content  Read depth  Length\n",
      "0     33      0.472328    0.555344   81.338288    2096\n",
      "\n",
      "\n",
      "\n"
     ]
    }
   ],
   "source": [
    "for plasmid in plasmid_contigs:\n",
    "    print(plasmid)\n",
    "    print(plasmid_contigs[plasmid])\n",
    "    print(\"\\n\\n\")"
   ]
  },
  {
   "cell_type": "code",
   "execution_count": 7,
   "metadata": {
    "collapsed": false
   },
   "outputs": [
    {
     "data": {
      "text/html": [
       "<div>\n",
       "<style scoped>\n",
       "    .dataframe tbody tr th:only-of-type {\n",
       "        vertical-align: middle;\n",
       "    }\n",
       "\n",
       "    .dataframe tbody tr th {\n",
       "        vertical-align: top;\n",
       "    }\n",
       "\n",
       "    .dataframe thead th {\n",
       "        text-align: right;\n",
       "    }\n",
       "</style>\n",
       "<table border=\"1\" class=\"dataframe\">\n",
       "  <thead>\n",
       "    <tr style=\"text-align: right;\">\n",
       "      <th></th>\n",
       "      <th>Plasmid</th>\n",
       "      <th>Gene density</th>\n",
       "      <th>GC penalty</th>\n",
       "      <th>Length</th>\n",
       "    </tr>\n",
       "  </thead>\n",
       "  <tbody>\n",
       "    <tr>\n",
       "      <th>0</th>\n",
       "      <td>CP012933.1</td>\n",
       "      <td>0.617656</td>\n",
       "      <td>0.000000</td>\n",
       "      <td>3319</td>\n",
       "    </tr>\n",
       "    <tr>\n",
       "      <th>1</th>\n",
       "      <td>CP012936.1</td>\n",
       "      <td>0.892383</td>\n",
       "      <td>0.016502</td>\n",
       "      <td>98999</td>\n",
       "    </tr>\n",
       "    <tr>\n",
       "      <th>2</th>\n",
       "      <td>CP012935.1</td>\n",
       "      <td>0.772855</td>\n",
       "      <td>0.000000</td>\n",
       "      <td>3905</td>\n",
       "    </tr>\n",
       "    <tr>\n",
       "      <th>3</th>\n",
       "      <td>CP012931.1</td>\n",
       "      <td>0.828968</td>\n",
       "      <td>0.027852</td>\n",
       "      <td>239113</td>\n",
       "    </tr>\n",
       "    <tr>\n",
       "      <th>4</th>\n",
       "      <td>CP012934.1</td>\n",
       "      <td>0.388790</td>\n",
       "      <td>0.000000</td>\n",
       "      <td>3372</td>\n",
       "    </tr>\n",
       "    <tr>\n",
       "      <th>5</th>\n",
       "      <td>CP012932.1</td>\n",
       "      <td>0.472328</td>\n",
       "      <td>0.000000</td>\n",
       "      <td>2096</td>\n",
       "    </tr>\n",
       "  </tbody>\n",
       "</table>\n",
       "</div>"
      ],
      "text/plain": [
       "      Plasmid  Gene density  GC penalty  Length\n",
       "0  CP012933.1      0.617656    0.000000    3319\n",
       "1  CP012936.1      0.892383    0.016502   98999\n",
       "2  CP012935.1      0.772855    0.000000    3905\n",
       "3  CP012931.1      0.828968    0.027852  239113\n",
       "4  CP012934.1      0.388790    0.000000    3372\n",
       "5  CP012932.1      0.472328    0.000000    2096"
      ]
     },
     "execution_count": 7,
     "metadata": {},
     "output_type": "execute_result"
    }
   ],
   "source": [
    "objective_values"
   ]
  },
  {
   "cell_type": "markdown",
   "metadata": {},
   "source": [
    "# Connected components"
   ]
  },
  {
   "cell_type": "code",
   "execution_count": 8,
   "metadata": {
    "collapsed": false
   },
   "outputs": [
    {
     "name": "stdout",
     "output_type": "stream",
     "text": [
      "[['32'], ['16', '62', '23', '62', '17', '49', '88', '47'], ['29'], ['15', '42', '58', '24', '58', '35', '42', '11', '43', '20', '43', '54', '53', '26', '53', '44', '43', '28', '28'], ['31'], ['33']]\n"
     ]
    }
   ],
   "source": [
    "conn_comp = []\n",
    "for plasmid in contig_chains:\n",
    "    common = 0\n",
    "    #print(contig_chains[plasmid])\n",
    "    if len(conn_comp) == 0:\n",
    "        conn_comp.append(contig_chains[plasmid])\n",
    "    else:\n",
    "        for comp in conn_comp:\n",
    "            if len(list(set(comp) & set(contig_chains[plasmid]))) != 0:\n",
    "                print(\"Intersects\", list(set(comp) & set(contig_chains[plasmid])))\n",
    "                temp = (list(set().union(comp, contig_chains[plasmid])))\n",
    "                conn_comp.remove(comp)\n",
    "                conn_comp.append(temp)\n",
    "                common = 1\n",
    "                break\n",
    "            else:\n",
    "                common = 0\n",
    "        if common == 0:\n",
    "            conn_comp.append(contig_chains[plasmid])\n",
    "print(conn_comp)                "
   ]
  },
  {
   "cell_type": "code",
   "execution_count": null,
   "metadata": {
    "collapsed": true
   },
   "outputs": [],
   "source": []
  }
 ],
 "metadata": {
  "kernelspec": {
   "display_name": "Python 3",
   "language": "python",
   "name": "python3"
  },
  "language_info": {
   "codemirror_mode": {
    "name": "ipython",
    "version": 3
   },
   "file_extension": ".py",
   "mimetype": "text/x-python",
   "name": "python",
   "nbconvert_exporter": "python",
   "pygments_lexer": "ipython3",
   "version": "3.6.0"
  }
 },
 "nbformat": 4,
 "nbformat_minor": 2
}
