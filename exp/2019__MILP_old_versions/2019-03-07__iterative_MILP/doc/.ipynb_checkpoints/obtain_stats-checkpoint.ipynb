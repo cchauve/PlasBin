{
 "cells": [
  {
   "cell_type": "markdown",
   "metadata": {},
   "source": [
    "# Plasmids MILP experiment 2"
   ]
  },
  {
   "cell_type": "markdown",
   "metadata": {},
   "source": [
    "## Description\n",
    "\n",
    "The following describes the results of the experiment with the second version of the Plasmids assembly MILP. There are two modifications made to the previous formulation. Firstly, the formulation has new constraints that try to determine a path. In other words, the obtained plasmid should have a single component which is path. However, these constraints are also satisfied by graphs with multiple component containing exactly 1 path and the rest as cycles. Hence, the formulation is not perfect. Second, we determine the plasmids iteratively, one at a time. The assembly graph is then updated since some of the read depth has been used for some contigs. The MILP is then run again using the updaed graph till a stopping condition has been reached. For each run, we record the average and maximum precision, recall and F1 score."
   ]
  },
  {
   "cell_type": "code",
   "execution_count": 1,
   "metadata": {},
   "outputs": [
    {
     "data": {
      "text/html": [
       "<script>\n",
       "code_show=true; \n",
       "function code_toggle() {\n",
       " if (code_show){\n",
       " $('div.input').hide();\n",
       " } else {\n",
       " $('div.input').show();\n",
       " }\n",
       " code_show = !code_show\n",
       "} \n",
       "$( document ).ready(code_toggle);\n",
       "</script>\n",
       "<form action=\"javascript:code_toggle()\"><input type=\"submit\" value=\"Click here to toggle on/off the raw code.\"></form>"
      ],
      "text/plain": [
       "<IPython.core.display.HTML object>"
      ]
     },
     "execution_count": 1,
     "metadata": {},
     "output_type": "execute_result"
    }
   ],
   "source": [
    "from IPython.display import HTML\n",
    "\n",
    "HTML('''<script>\n",
    "code_show=true; \n",
    "function code_toggle() {\n",
    " if (code_show){\n",
    " $('div.input').hide();\n",
    " } else {\n",
    " $('div.input').show();\n",
    " }\n",
    " code_show = !code_show\n",
    "} \n",
    "$( document ).ready(code_toggle);\n",
    "</script>\n",
    "<form action=\"javascript:code_toggle()\"><input type=\"submit\" value=\"Click here to toggle on/off the raw code.\"></form>''')"
   ]
  },
  {
   "cell_type": "code",
   "execution_count": 3,
   "metadata": {
    "collapsed": true
   },
   "outputs": [],
   "source": [
    "import os\n",
    "from collections import defaultdict\n",
    "import matplotlib.pyplot as plt\n",
    "import numpy as np\n",
    "import pandas as pd\n",
    "plt.switch_backend('agg')\n",
    "%matplotlib inline"
   ]
  },
  {
   "cell_type": "code",
   "execution_count": 4,
   "metadata": {
    "collapsed": true
   },
   "outputs": [],
   "source": [
    "output_dir = '../output'"
   ]
  },
  {
   "cell_type": "code",
   "execution_count": 5,
   "metadata": {
    "collapsed": true
   },
   "outputs": [],
   "source": [
    "def update_dict(line, stat_dict, file, folder_loc):\n",
    "    stat = line.split(\" \")[-1]\n",
    "    stat_dict[file.split('/')[folder_loc]].append(float(stat))\n",
    "    return stat_dict"
   ]
  },
  {
   "cell_type": "code",
   "execution_count": 6,
   "metadata": {
    "collapsed": true
   },
   "outputs": [],
   "source": [
    "def compute_mean(mean, k, precs, recs, f1s):\n",
    "    mean[k] = {}\n",
    "    mean[k]['precision'] = sum(precs[k])/len(precs[k])\n",
    "    mean[k]['recall'] = sum(recs[k])/len(recs[k])\n",
    "    mean[k]['f1_score'] = sum(f1s[k])/len(f1s[k])\n",
    "    return mean"
   ]
  },
  {
   "cell_type": "code",
   "execution_count": 7,
   "metadata": {
    "collapsed": true
   },
   "outputs": [],
   "source": [
    "def compute_max(best, k, precs, recs, f1s):\n",
    "    best[k] = {}\n",
    "    best[k]['precision'] = max(precs[k])\n",
    "    best[k]['recall'] = max(recs[k])\n",
    "    best[k]['f1_score'] = max(f1s[k])\n",
    "    return best"
   ]
  },
  {
   "cell_type": "markdown",
   "metadata": {},
   "source": [
    "## Statistics for different samples\n",
    "\n",
    "In this part, we use the same $\\alpha$ ratios as in the previous experiment (which performed better than others). The ratios chosen for this part are 1.1.0, 1.1.1, 1.2.1 and 1.5.1. For each ratio, the MILP was run with nplasmids  $=1$. In other words, although we remove one plasmid at a time in this experiment, the MILP has provisions to remove  $k>$1  plasmids in one iteration, provided convergence is reached. The main motivation behind the iterative plasmid generation approach is to help in reaching convergence by reducing the number of variables.\n",
    "\n",
    "A set of 10 ids was chosen to test the general performance of the MILP. These were the same ids as in the previous experiments."
   ]
  },
  {
   "cell_type": "code",
   "execution_count": 8,
   "metadata": {
    "collapsed": true
   },
   "outputs": [],
   "source": [
    "files = [os.path.join(dp, f) for dp, dn, filenames in os.walk(output_dir) for f in filenames if \"eval.csv\" in f]\n",
    "precs, recs, f1s = defaultdict(list), defaultdict(list), defaultdict(list)\n",
    "\n",
    "for file in files:\n",
    "    if 'sample' in file.split('/')[2]:\n",
    "        sample_id = file.split('/')[2].split('_')[1]\n",
    "        with open(file, 'r') as f:\n",
    "            for line in f:\n",
    "                if \"precision\" in line:\n",
    "                    precs = update_dict(line, precs, file, 2)\n",
    "                if \"recall\" in line:\n",
    "                    recs = update_dict(line, recs, file, 2)\n",
    "                if \"f1\" in line:\n",
    "                    f1s = update_dict(line, f1s, file, 2)"
   ]
  },
  {
   "cell_type": "code",
   "execution_count": 9,
   "metadata": {
    "collapsed": true
   },
   "outputs": [],
   "source": [
    "mean, best = {}, {}\n",
    "mean_scores, best_scores = [], [] \n",
    "for sample_id in precs:\n",
    "    mean[sample_id] = {}\n",
    "    mean[sample_id]['precision'] = sum(precs[sample_id])/len(precs[sample_id])\n",
    "    mean[sample_id]['recall'] = sum(recs[sample_id])/len(recs[sample_id])\n",
    "    mean[sample_id]['f1_score'] = sum(f1s[sample_id])/len(f1s[sample_id])\n",
    "    mean_scores.append([sample_id, mean[sample_id]['precision'], mean[sample_id]['recall'], mean[sample_id]['f1_score']])\n",
    "\n",
    "    best[sample_id] = {}\n",
    "    best[sample_id]['precision'] = max(precs[sample_id])\n",
    "    best[sample_id]['recall'] = max(recs[sample_id])\n",
    "    best[sample_id]['f1_score'] = max(f1s[sample_id])  \n",
    "    best_scores.append([sample_id, best[sample_id]['precision'], best[sample_id]['recall'], best[sample_id]['f1_score']])\n",
    "\n",
    "mean_scores = pd.DataFrame(mean_scores)\n",
    "mean_scores.rename(columns = {0: 'Sample', 1: 'Precision', 2: 'Recall', 3: 'F1 score'}, inplace = True)\n",
    "\n",
    "best_scores = pd.DataFrame(best_scores)\n",
    "best_scores.rename(columns = {0: 'Sample', 1: 'Precision', 2: 'Recall', 3: 'F1 score'}, inplace = True)"
   ]
  },
  {
   "cell_type": "markdown",
   "metadata": {},
   "source": [
    "In the following tables, the precision, recall and F1 score have been recorded. For each sample id, the MILP was run for all four ratios mentioned above and the average values over the four ratios has been stored in Table 1. Further the best values obtained over the four has been stored in Table 2. (NOTE: I will be adding another graph to gauge the performance of the each ratio against others)"
   ]
  },
  {
   "cell_type": "markdown",
   "metadata": {},
   "source": [
    "#### Table 1: Average scores for each sample"
   ]
  },
  {
   "cell_type": "code",
   "execution_count": 10,
   "metadata": {},
   "outputs": [
    {
     "data": {
      "text/html": [
       "<div>\n",
       "<style>\n",
       "    .dataframe thead tr:only-child th {\n",
       "        text-align: right;\n",
       "    }\n",
       "\n",
       "    .dataframe thead th {\n",
       "        text-align: left;\n",
       "    }\n",
       "\n",
       "    .dataframe tbody tr th {\n",
       "        vertical-align: top;\n",
       "    }\n",
       "</style>\n",
       "<table border=\"1\" class=\"dataframe\">\n",
       "  <thead>\n",
       "    <tr style=\"text-align: right;\">\n",
       "      <th></th>\n",
       "      <th>Sample</th>\n",
       "      <th>Precision</th>\n",
       "      <th>Recall</th>\n",
       "      <th>F1 score</th>\n",
       "    </tr>\n",
       "  </thead>\n",
       "  <tbody>\n",
       "    <tr>\n",
       "      <th>0</th>\n",
       "      <td>sample_56</td>\n",
       "      <td>0.390186</td>\n",
       "      <td>0.863996</td>\n",
       "      <td>0.491853</td>\n",
       "    </tr>\n",
       "    <tr>\n",
       "      <th>1</th>\n",
       "      <td>sample_125</td>\n",
       "      <td>0.468319</td>\n",
       "      <td>0.831521</td>\n",
       "      <td>0.586469</td>\n",
       "    </tr>\n",
       "    <tr>\n",
       "      <th>2</th>\n",
       "      <td>sample_66</td>\n",
       "      <td>0.544451</td>\n",
       "      <td>0.966286</td>\n",
       "      <td>0.677791</td>\n",
       "    </tr>\n",
       "    <tr>\n",
       "      <th>3</th>\n",
       "      <td>sample_103</td>\n",
       "      <td>0.173359</td>\n",
       "      <td>0.897987</td>\n",
       "      <td>0.290161</td>\n",
       "    </tr>\n",
       "    <tr>\n",
       "      <th>4</th>\n",
       "      <td>sample_39</td>\n",
       "      <td>0.305977</td>\n",
       "      <td>0.810912</td>\n",
       "      <td>0.417101</td>\n",
       "    </tr>\n",
       "    <tr>\n",
       "      <th>5</th>\n",
       "      <td>sample_109</td>\n",
       "      <td>0.714274</td>\n",
       "      <td>0.682331</td>\n",
       "      <td>0.695934</td>\n",
       "    </tr>\n",
       "    <tr>\n",
       "      <th>6</th>\n",
       "      <td>sample_117</td>\n",
       "      <td>0.645632</td>\n",
       "      <td>0.572248</td>\n",
       "      <td>0.606516</td>\n",
       "    </tr>\n",
       "    <tr>\n",
       "      <th>7</th>\n",
       "      <td>sample_116</td>\n",
       "      <td>0.213988</td>\n",
       "      <td>0.324472</td>\n",
       "      <td>0.250846</td>\n",
       "    </tr>\n",
       "    <tr>\n",
       "      <th>8</th>\n",
       "      <td>sample_11</td>\n",
       "      <td>0.081536</td>\n",
       "      <td>0.980206</td>\n",
       "      <td>0.150388</td>\n",
       "    </tr>\n",
       "    <tr>\n",
       "      <th>9</th>\n",
       "      <td>sample_23</td>\n",
       "      <td>0.005505</td>\n",
       "      <td>0.118898</td>\n",
       "      <td>0.010244</td>\n",
       "    </tr>\n",
       "  </tbody>\n",
       "</table>\n",
       "</div>"
      ],
      "text/plain": [
       "       Sample  Precision    Recall  F1 score\n",
       "0   sample_56   0.390186  0.863996  0.491853\n",
       "1  sample_125   0.468319  0.831521  0.586469\n",
       "2   sample_66   0.544451  0.966286  0.677791\n",
       "3  sample_103   0.173359  0.897987  0.290161\n",
       "4   sample_39   0.305977  0.810912  0.417101\n",
       "5  sample_109   0.714274  0.682331  0.695934\n",
       "6  sample_117   0.645632  0.572248  0.606516\n",
       "7  sample_116   0.213988  0.324472  0.250846\n",
       "8   sample_11   0.081536  0.980206  0.150388\n",
       "9   sample_23   0.005505  0.118898  0.010244"
      ]
     },
     "execution_count": 10,
     "metadata": {},
     "output_type": "execute_result"
    }
   ],
   "source": [
    "mean_scores"
   ]
  },
  {
   "cell_type": "markdown",
   "metadata": {},
   "source": [
    "#### Table 2: Maximum scores for each sample"
   ]
  },
  {
   "cell_type": "code",
   "execution_count": 11,
   "metadata": {},
   "outputs": [
    {
     "data": {
      "text/html": [
       "<div>\n",
       "<style>\n",
       "    .dataframe thead tr:only-child th {\n",
       "        text-align: right;\n",
       "    }\n",
       "\n",
       "    .dataframe thead th {\n",
       "        text-align: left;\n",
       "    }\n",
       "\n",
       "    .dataframe tbody tr th {\n",
       "        vertical-align: top;\n",
       "    }\n",
       "</style>\n",
       "<table border=\"1\" class=\"dataframe\">\n",
       "  <thead>\n",
       "    <tr style=\"text-align: right;\">\n",
       "      <th></th>\n",
       "      <th>Sample</th>\n",
       "      <th>Precision</th>\n",
       "      <th>Recall</th>\n",
       "      <th>F1 score</th>\n",
       "    </tr>\n",
       "  </thead>\n",
       "  <tbody>\n",
       "    <tr>\n",
       "      <th>0</th>\n",
       "      <td>sample_56</td>\n",
       "      <td>0.744086</td>\n",
       "      <td>0.942745</td>\n",
       "      <td>0.710153</td>\n",
       "    </tr>\n",
       "    <tr>\n",
       "      <th>1</th>\n",
       "      <td>sample_125</td>\n",
       "      <td>0.628868</td>\n",
       "      <td>0.999986</td>\n",
       "      <td>0.770592</td>\n",
       "    </tr>\n",
       "    <tr>\n",
       "      <th>2</th>\n",
       "      <td>sample_66</td>\n",
       "      <td>0.818289</td>\n",
       "      <td>0.986461</td>\n",
       "      <td>0.862246</td>\n",
       "    </tr>\n",
       "    <tr>\n",
       "      <th>3</th>\n",
       "      <td>sample_103</td>\n",
       "      <td>0.199728</td>\n",
       "      <td>0.906909</td>\n",
       "      <td>0.324959</td>\n",
       "    </tr>\n",
       "    <tr>\n",
       "      <th>4</th>\n",
       "      <td>sample_39</td>\n",
       "      <td>0.573175</td>\n",
       "      <td>0.919665</td>\n",
       "      <td>0.633334</td>\n",
       "    </tr>\n",
       "    <tr>\n",
       "      <th>5</th>\n",
       "      <td>sample_109</td>\n",
       "      <td>0.803373</td>\n",
       "      <td>0.795114</td>\n",
       "      <td>0.778341</td>\n",
       "    </tr>\n",
       "    <tr>\n",
       "      <th>6</th>\n",
       "      <td>sample_117</td>\n",
       "      <td>0.682773</td>\n",
       "      <td>0.583936</td>\n",
       "      <td>0.629499</td>\n",
       "    </tr>\n",
       "    <tr>\n",
       "      <th>7</th>\n",
       "      <td>sample_116</td>\n",
       "      <td>0.314106</td>\n",
       "      <td>0.324472</td>\n",
       "      <td>0.319205</td>\n",
       "    </tr>\n",
       "    <tr>\n",
       "      <th>8</th>\n",
       "      <td>sample_11</td>\n",
       "      <td>0.090825</td>\n",
       "      <td>1.000000</td>\n",
       "      <td>0.165342</td>\n",
       "    </tr>\n",
       "    <tr>\n",
       "      <th>9</th>\n",
       "      <td>sample_23</td>\n",
       "      <td>0.006808</td>\n",
       "      <td>0.196082</td>\n",
       "      <td>0.013159</td>\n",
       "    </tr>\n",
       "  </tbody>\n",
       "</table>\n",
       "</div>"
      ],
      "text/plain": [
       "       Sample  Precision    Recall  F1 score\n",
       "0   sample_56   0.744086  0.942745  0.710153\n",
       "1  sample_125   0.628868  0.999986  0.770592\n",
       "2   sample_66   0.818289  0.986461  0.862246\n",
       "3  sample_103   0.199728  0.906909  0.324959\n",
       "4   sample_39   0.573175  0.919665  0.633334\n",
       "5  sample_109   0.803373  0.795114  0.778341\n",
       "6  sample_117   0.682773  0.583936  0.629499\n",
       "7  sample_116   0.314106  0.324472  0.319205\n",
       "8   sample_11   0.090825  1.000000  0.165342\n",
       "9   sample_23   0.006808  0.196082  0.013159"
      ]
     },
     "execution_count": 11,
     "metadata": {},
     "output_type": "execute_result"
    }
   ],
   "source": [
    "best_scores"
   ]
  },
  {
   "cell_type": "code",
   "execution_count": 12,
   "metadata": {
    "collapsed": true
   },
   "outputs": [],
   "source": [
    "N = 10\n",
    "ind = np.arange(N)\n",
    "width = 0.27"
   ]
  },
  {
   "cell_type": "code",
   "execution_count": 13,
   "metadata": {},
   "outputs": [
    {
     "data": {
      "image/png": "[encoded data removed]",
      "text/plain": [
       "<matplotlib.figure.Figure at 0x7f021d8fc470>"
      ]
     },
     "metadata": {},
     "output_type": "display_data"
    },
    {
     "data": {
      "text/plain": [
       "<matplotlib.figure.Figure at 0x7f0215a2be48>"
      ]
     },
     "metadata": {},
     "output_type": "display_data"
    }
   ],
   "source": [
    "fig = plt.figure()\n",
    "ax = fig.add_subplot(111)\n",
    "\n",
    "pvals = mean_scores['Precision'].values.tolist()\n",
    "rects1 = ax.bar(ind, pvals, width, color='r')\n",
    "rvals = mean_scores['Recall'].values.tolist()\n",
    "rects2 = ax.bar(ind+width, rvals, width, color='g')\n",
    "fvals = mean_scores['F1 score'].values.tolist()\n",
    "rects3 = ax.bar(ind+width*2, fvals, width, color='b')\n",
    "ids = mean_scores['Sample'].values.tolist()\n",
    "ids = [k.split('_')[1] for k in ids]\n",
    "ax.set_title('Figure 1: Average precision, recall and F1 score')\n",
    "ax.set_ylabel('Scores')\n",
    "ax.set_xticks(ind+width)\n",
    "ax.set_xticklabels( (ids[0], ids[1], ids[2], ids[3], ids[4], ids[5], ids[6], ids[7], ids[8], ids[9]) )\n",
    "ax.legend( (rects1[0], rects2[0], rects3[0]), ('Prec', 'Rec', 'F1') )\n",
    "plt.show()\n",
    "plt.savefig(os.path.join(output_dir,'mean_scores_MILP_exp-1.pdf'), format = 'pdf', dpi = 1200, bbox_inches = 'tight')"
   ]
  },
  {
   "cell_type": "markdown",
   "metadata": {},
   "source": [
    "From Figure I, it can seen that the average recall is consistently high for all samples, while the precision is very low for some. One of the reasons behind this is the number of plasmids generated by the MILP. For instance, the outputs for samples 11 and 39 have $\\geq$ 20 putative plasmids. As a result, many of the predicted plasmids do not cover a large part of the reference plasmids. There are two ways to remedy this: 1. Stronger path constraints and 2. Better acceptance criteria."
   ]
  },
  {
   "cell_type": "markdown",
   "metadata": {},
   "source": [
    "Currently, plasmids are generated till there are seed contigs left in the graph. Once a plasmid is generated by the MILP, it is accepted as a possible solution only if its length is above a certain threshold (currently 10000 nts). The assembly graph is updated as follows:\n",
    "1. contigs_info[c]['Read_depth'] = max(0, contigs_info[c]['Read_depth'] - rd[p][c])\n",
    "2. If a contig is a seed and its remaining read depth is below 0.5, it is no longer a seed.\n",
    "3. If a contig has $<$ 0.05 read depth left, it will be remove from the graph altogether so that it does not feature in future iterations.\n",
    "\n",
    "As there is no restriction yet on the read depth of the plasmid, some of the plasmid generated during the latter iterations of any run have very small read depth. Hence, a possible criteria for accepting solutions could be having a read depth threshold. In other words, a plasmid is not classified as a putative plasmid unless its read depth exceeds the threshold."
   ]
  },
  {
   "cell_type": "code",
   "execution_count": 16,
   "metadata": {},
   "outputs": [
    {
     "data": {
      "image/png": "[encoded data removed]",
      "text/plain": [
       "<matplotlib.figure.Figure at 0x7f0215944240>"
      ]
     },
     "metadata": {},
     "output_type": "display_data"
    },
    {
     "data": {
      "text/plain": [
       "<matplotlib.figure.Figure at 0x7f021564a358>"
      ]
     },
     "metadata": {},
     "output_type": "display_data"
    }
   ],
   "source": [
    "fig = plt.figure()\n",
    "ax = fig.add_subplot(111)\n",
    "\n",
    "pvals = best_scores['Precision'].values.tolist()\n",
    "rects1 = ax.bar(ind, pvals, width, color='r')\n",
    "rvals = best_scores['Recall'].values.tolist()\n",
    "rects2 = ax.bar(ind+width, rvals, width, color='g')\n",
    "fvals = best_scores['F1 score'].values.tolist()\n",
    "rects3 = ax.bar(ind+width*2, fvals, width, color='b')\n",
    "ids = best_scores['Sample'].values.tolist()\n",
    "ids = [k.split('_')[1] for k in ids]\n",
    "ax.set_title('Figure 2: Best precision, recall and F1 score')\n",
    "ax.set_ylabel('Scores')\n",
    "ax.set_xticks(ind+width)\n",
    "ax.set_xticklabels( (ids[0], ids[1], ids[2], ids[3], ids[4], ids[5], ids[6], ids[7], ids[8], ids[9]) )\n",
    "ax.legend( (rects1[0], rects2[0], rects3[0]), ('Prec', 'Rec', 'F1') )\n",
    "plt.show()\n",
    "plt.savefig(os.path.join(output_dir,'best_scores_MILP_exp-1.pdf'), format = 'pdf', dpi = 1200, bbox_inches = 'tight')"
   ]
  },
  {
   "cell_type": "code",
   "execution_count": null,
   "metadata": {
    "collapsed": true
   },
   "outputs": [],
   "source": []
  }
 ],
 "metadata": {
  "kernelspec": {
   "display_name": "Python 3",
   "language": "python",
   "name": "python3"
  },
  "language_info": {
   "codemirror_mode": {
    "name": "ipython",
    "version": 3
   },
   "file_extension": ".py",
   "mimetype": "text/x-python",
   "name": "python",
   "nbconvert_exporter": "python",
   "pygments_lexer": "ipython3",
   "version": "3.6.3"
  }
 },
 "nbformat": 4,
 "nbformat_minor": 2
}
